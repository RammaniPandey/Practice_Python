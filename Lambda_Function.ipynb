{
 "cells": [
  {
   "cell_type": "markdown",
   "metadata": {},
   "source": [
    "## **Lambda Function**\n",
    "- We just saw a simple function to return addition of two numbers, there is an another way of writtng it.\n",
    "- lambda function is a small anonymous function.\n",
    "- The lambda function can take any number of argumrnts but can have only one expression.\n",
    "\n",
    "```\n",
    "def Add(a, b):\n",
    "    return a+b\n",
    "```\n",
    "The code above can be written as:\n",
    "\n",
    "**Syntax**\n",
    " * lambda arguments : expression\n",
    "\n",
    "```\n",
    "Add = lambda a,b: a+b\n",
    "```\n",
    "\n",
    "> <b> Note: The lambda function can take any number of arguments but can have only one expression\n"
   ]
  },
  {
   "cell_type": "code",
   "execution_count": 1,
   "metadata": {},
   "outputs": [
    {
     "name": "stdout",
     "output_type": "stream",
     "text": [
      "15\n"
     ]
    }
   ],
   "source": [
    "x = lambda a : a + 10\n",
    "print(x(5))"
   ]
  },
  {
   "cell_type": "code",
   "execution_count": 12,
   "metadata": {},
   "outputs": [
    {
     "data": {
      "text/plain": [
       "4"
      ]
     },
     "execution_count": 12,
     "metadata": {},
     "output_type": "execute_result"
    }
   ],
   "source": [
    "a = lambda  x: x**2 #square\n",
    "a(2)"
   ]
  },
  {
   "cell_type": "code",
   "execution_count": 1,
   "metadata": {},
   "outputs": [
    {
     "data": {
      "text/plain": [
       "64"
      ]
     },
     "execution_count": 1,
     "metadata": {},
     "output_type": "execute_result"
    }
   ],
   "source": [
    "a = lambda x: x**3 #cube\n",
    "a(4)"
   ]
  },
  {
   "cell_type": "code",
   "execution_count": 16,
   "metadata": {},
   "outputs": [
    {
     "data": {
      "text/plain": [
       "True"
      ]
     },
     "execution_count": 16,
     "metadata": {},
     "output_type": "execute_result"
    }
   ],
   "source": [
    "a = lambda s: 'a' in s\n",
    "a('Rammani')"
   ]
  },
  {
   "cell_type": "code",
   "execution_count": 17,
   "metadata": {},
   "outputs": [
    {
     "data": {
      "text/plain": [
       "False"
      ]
     },
     "execution_count": 17,
     "metadata": {},
     "output_type": "execute_result"
    }
   ],
   "source": [
    "a('Rnj')"
   ]
  },
  {
   "cell_type": "code",
   "execution_count": 18,
   "metadata": {},
   "outputs": [
    {
     "data": {
      "text/plain": [
       "'odd'"
      ]
     },
     "execution_count": 18,
     "metadata": {},
     "output_type": "execute_result"
    }
   ],
   "source": [
    "a = lambda x:'even' if x%2 == 0 else 'odd'\n",
    "a(3)"
   ]
  },
  {
   "cell_type": "code",
   "execution_count": 19,
   "metadata": {},
   "outputs": [
    {
     "data": {
      "text/plain": [
       "'even'"
      ]
     },
     "execution_count": 19,
     "metadata": {},
     "output_type": "execute_result"
    }
   ],
   "source": [
    "a(4)"
   ]
  },
  {
   "cell_type": "markdown",
   "metadata": {},
   "source": [
    "Lambda functions can take any number of arguments:\n",
    "\n",
    "Example\n",
    "- Multiply argument a with argument b and return the result:"
   ]
  },
  {
   "cell_type": "code",
   "execution_count": 2,
   "metadata": {},
   "outputs": [
    {
     "name": "stdout",
     "output_type": "stream",
     "text": [
      "30\n"
     ]
    }
   ],
   "source": [
    "x = lambda a, b : a * b\n",
    "print(x(5, 6))"
   ]
  },
  {
   "cell_type": "code",
   "execution_count": 4,
   "metadata": {},
   "outputs": [
    {
     "name": "stdout",
     "output_type": "stream",
     "text": [
      "13\n"
     ]
    }
   ],
   "source": [
    "# Summarize argument a, b, and c and return the result:\n",
    "\n",
    "x = lambda a, b, c : a + b + c\n",
    "print(x(5, 6, 2))"
   ]
  },
  {
   "cell_type": "code",
   "execution_count": 5,
   "metadata": {},
   "outputs": [
    {
     "name": "stdout",
     "output_type": "stream",
     "text": [
      "-1\n"
     ]
    }
   ],
   "source": [
    "\n",
    "x = lambda a, b, c, d : a - b * c +d\n",
    "print(x(5, 6, 2, 6))"
   ]
  },
  {
   "cell_type": "code",
   "execution_count": 7,
   "metadata": {},
   "outputs": [
    {
     "name": "stdout",
     "output_type": "stream",
     "text": [
      "7\n",
      "10\n",
      "2.5\n",
      "1\n"
     ]
    }
   ],
   "source": [
    "#def add(a,b):\n",
    " #   return (a+b)\n",
    "#add(3,4)\n",
    "\n",
    "add = lambda a,b: a+b\n",
    "mult = lambda a,b: a*b\n",
    "div = lambda a,b: a/b\n",
    "rem = lambda a,b: a%b\n",
    "\n",
    "\n",
    "print(add(5,2))\n",
    "print(mult(5,2))\n",
    "print(div(5,2))\n",
    "print(rem(5,2))"
   ]
  },
  {
   "cell_type": "code",
   "execution_count": 12,
   "metadata": {},
   "outputs": [],
   "source": [
    "def even(num):\n",
    "    if num%2==0:\n",
    "     return True\n",
    "    \n",
    "list1=[1,2,3,4,5,6,7,8,9]"
   ]
  },
  {
   "cell_type": "code",
   "execution_count": 13,
   "metadata": {},
   "outputs": [
    {
     "data": {
      "text/plain": [
       "[False, True, False, True, False, True, False, True, False]"
      ]
     },
     "execution_count": 13,
     "metadata": {},
     "output_type": "execute_result"
    }
   ],
   "source": [
    "list(map(lambda num:num%2==0,list1))"
   ]
  },
  {
   "cell_type": "markdown",
   "metadata": {},
   "source": [
    "### **Components of a Lambda Function:**\n",
    "1. The lambda keyword is used to indicate that this is a lambda expression.\n",
    "2. Following lambda are one or more arguments for the anonymous function separated by commas,\n",
    "3. followed by a colon :. Similar to functions.\n",
    "4. Last is an expression that is evaluated and returned in this function. This is a lot like an expression you might see as a return statement in a function.\n",
    "\n",
    "With this structure, lambda expressions aren’t ideal for complex functions, but can be very useful for short,sweet and simple functions."
   ]
  },
  {
   "cell_type": "markdown",
   "metadata": {},
   "source": [
    "##### **Lambda function vs Normal Function.**\n",
    "\n",
    "1. No Name.\n",
    "2. lambda has no return value (infact : it returns a function)\n",
    "3. lambda is written in 1 line.\n",
    "4. Not Reusable.\n",
    "\n",
    "Than why we use lambda function ?\n",
    "- They are used with HOF (heigher oder function)."
   ]
  },
  {
   "cell_type": "code",
   "execution_count": 25,
   "metadata": {},
   "outputs": [
    {
     "data": {
      "text/plain": [
       "True"
      ]
     },
     "execution_count": 25,
     "metadata": {},
     "output_type": "execute_result"
    }
   ],
   "source": [
    "a = lambda s:'a' in s\n",
    "a(\"hallo\")"
   ]
  },
  {
   "cell_type": "code",
   "execution_count": 29,
   "metadata": {},
   "outputs": [
    {
     "data": {
      "text/plain": [
       "False"
      ]
     },
     "execution_count": 29,
     "metadata": {},
     "output_type": "execute_result"
    }
   ],
   "source": [
    "a = lambda s:(input('enter ')) in s\n",
    "a(\"hallo\")"
   ]
  },
  {
   "cell_type": "code",
   "execution_count": 30,
   "metadata": {},
   "outputs": [
    {
     "data": {
      "text/plain": [
       "'even'"
      ]
     },
     "execution_count": 30,
     "metadata": {},
     "output_type": "execute_result"
    }
   ],
   "source": [
    "odd_even = lambda a:'even' if a%2==0 else 'odd'\n",
    "odd_even(2)"
   ]
  },
  {
   "cell_type": "code",
   "execution_count": 31,
   "metadata": {},
   "outputs": [
    {
     "data": {
      "text/plain": [
       "'odd'"
      ]
     },
     "execution_count": 31,
     "metadata": {},
     "output_type": "execute_result"
    }
   ],
   "source": [
    "odd_even(5)"
   ]
  },
  {
   "cell_type": "code",
   "execution_count": 33,
   "metadata": {},
   "outputs": [
    {
     "name": "stdout",
     "output_type": "stream",
     "text": [
      "[1, 4, 9, 16, 25, 36, 49, 64, 81, 100]\n"
     ]
    }
   ],
   "source": [
    "def squar(x):\n",
    "    return x**2\n",
    "\n",
    "def cube(x):\n",
    "    return x**3\n",
    "\n",
    "#HOF \n",
    "\n",
    "def trans(f,L):\n",
    "    output = []\n",
    "\n",
    "    for i in L:\n",
    "        output.append(f(i))\n",
    "    print(output)\n",
    "\n",
    "L = [1,2,3,4,5,6,7,8,9,10]\n",
    "\n",
    "trans(squar,L)"
   ]
  },
  {
   "cell_type": "code",
   "execution_count": 34,
   "metadata": {},
   "outputs": [
    {
     "name": "stdout",
     "output_type": "stream",
     "text": [
      "[1, 8, 27, 64, 125, 216, 343, 512, 729, 1000]\n"
     ]
    }
   ],
   "source": [
    "trans(cube,L)"
   ]
  },
  {
   "cell_type": "markdown",
   "metadata": {},
   "source": [
    "## **HOF ( Heigher oder function)**\n",
    "- HOF stands for Higher-Order Function.\n",
    "- A higher-order function (HOF) in Python is a function that takes another function as an argument, returns a function, or both.\n",
    "- Ek aisa funcion jiske return me ek function mile or input me kisi doosre function ko recive kare.\n",
    "- They can take functions as arguments or return functions as values.\n",
    "- They enable functional programming techniques, such as mapping, filtering, and reducing.\n"
   ]
  },
  {
   "cell_type": "code",
   "execution_count": 43,
   "metadata": {},
   "outputs": [
    {
     "name": "stdout",
     "output_type": "stream",
     "text": [
      "[1, 4, 9, 16, 25, 36, 49, 64, 81]\n",
      "[1, 8, 27, 64, 125, 216, 343, 512, 729]\n"
     ]
    }
   ],
   "source": [
    "def trans (f,L):\n",
    "    output = []\n",
    "\n",
    "    for i in L:\n",
    "        output.append(f(i))\n",
    "    print(output)\n",
    "\n",
    "L = [1,2,3,4,5,6,7,8,9]\n",
    "\n",
    "trans (lambda a: a**2,L)\n",
    "trans (lambda a: a**3,L)"
   ]
  },
  {
   "cell_type": "code",
   "execution_count": 1,
   "metadata": {},
   "outputs": [
    {
     "name": "stdout",
     "output_type": "stream",
     "text": [
      "HELLO PYTHON DEVELOPERS! YOU ARE WELCOMED TO JAVATPOINT\n",
      "hello python developers! you are welcomed to javatpoint\n"
     ]
    }
   ],
   "source": [
    "# Default function for making text uppercase  \n",
    "def scream(word):   \n",
    "    return word.upper() \n",
    " \n",
    " \n",
    "# Default function for making text lowercase  \n",
    "def spell(word):   \n",
    "    return word.lower()\n",
    "   \n",
    "\n",
    "# A third function that work as a high order function  \n",
    "def speak(funct):   \n",
    "    # Storing the function in a variable in high order function   \n",
    "    speaking = funct(\"Hello Python Developers! You are welcomed to JavaTpoint\")   \n",
    "    print(speaking)\n",
    "\n",
    "\n",
    "# Printing text in uppercase  \n",
    "speak(scream)  \n",
    "# Printing text in lowercase  \n",
    "speak(spell)  "
   ]
  },
  {
   "cell_type": "markdown",
   "metadata": {},
   "source": [
    "### HOF Function\n",
    " - map() :- function in python is used to apply a specified function to each item in an iterate (list,tuple,and string) and return a map object.\n",
    "##### **syntax**\n",
    "  - map(function, iterable, [iterable2, ...])\n",
    "\n",
    "Where:\n",
    "- function is the function to be applied to each item\n",
    "- iterable is the primary iterable to be processed\n",
    "- [iterable2, ...] are optional additional iterables to be processed in parallel"
   ]
  },
  {
   "cell_type": "code",
   "execution_count": 8,
   "metadata": {},
   "outputs": [
    {
     "data": {
      "text/plain": [
       "['odd', 'even', 'odd', 'even', 'odd', 'even', 'odd', 'even', 'odd']"
      ]
     },
     "execution_count": 8,
     "metadata": {},
     "output_type": "execute_result"
    }
   ],
   "source": [
    "L = [1,2,3,4,5,6,7,8,9]\n",
    "list(map(lambda x:'even' if x%2==0 else 'odd',L))"
   ]
  },
  {
   "cell_type": "code",
   "execution_count": 12,
   "metadata": {},
   "outputs": [
    {
     "name": "stdout",
     "output_type": "stream",
     "text": [
      "[2.5, 1.75, 1.25, 2.0]\n"
     ]
    }
   ],
   "source": [
    "a = [\n",
    "\n",
    "    [1,2,3,4],\n",
    "    [1,1,2,3],\n",
    "    [1,1,1,2],\n",
    "    [2,2,2,2]\n",
    "]\n",
    "\n",
    "#function\n",
    "\n",
    "def mean(num):\n",
    "    return sum(num)/len(num)\n",
    "\n",
    "avr = list(map(mean,a))\n",
    "print(avr)"
   ]
  },
  {
   "cell_type": "code",
   "execution_count": 10,
   "metadata": {},
   "outputs": [],
   "source": [
    "def odd_even(num):\n",
    "    if num%2==0:\n",
    "        return \"The number{} is even\".format(num)\n",
    "    else:\n",
    "        return \"The number {} is odd\".format(num)"
   ]
  },
  {
   "cell_type": "code",
   "execution_count": 74,
   "metadata": {},
   "outputs": [
    {
     "data": {
      "text/plain": [
       "'Thr number 9 is odd'"
      ]
     },
     "execution_count": 74,
     "metadata": {},
     "output_type": "execute_result"
    }
   ],
   "source": [
    "odd_even(9)"
   ]
  },
  {
   "cell_type": "code",
   "execution_count": 76,
   "metadata": {},
   "outputs": [
    {
     "data": {
      "text/plain": [
       "['The number 1 is odd',\n",
       " 'The number2 is even',\n",
       " 'The number 3 is odd',\n",
       " 'The number4 is even',\n",
       " 'The number 5 is odd',\n",
       " 'The number6 is even',\n",
       " 'The number 7 is odd',\n",
       " 'The number8 is even',\n",
       " 'The number 9 is odd']"
      ]
     },
     "execution_count": 76,
     "metadata": {},
     "output_type": "execute_result"
    }
   ],
   "source": [
    "L = [1,2,3,4,5,6,7,8,9]\n",
    "\n",
    "list(map(odd_even,L))"
   ]
  },
  {
   "cell_type": "code",
   "execution_count": 91,
   "metadata": {},
   "outputs": [
    {
     "data": {
      "text/plain": [
       "[False, True, False, True, False, True, False, True, False]"
      ]
     },
     "execution_count": 91,
     "metadata": {},
     "output_type": "execute_result"
    }
   ],
   "source": [
    "list(map(lambda num:num%2==0,L))"
   ]
  },
  {
   "cell_type": "code",
   "execution_count": 90,
   "metadata": {},
   "outputs": [
    {
     "data": {
      "text/plain": [
       "[False, True, False, True, False, True, False, True, False]"
      ]
     },
     "execution_count": 90,
     "metadata": {},
     "output_type": "execute_result"
    }
   ],
   "source": [
    "list(map(lambda num: num%2==0,L))"
   ]
  },
  {
   "cell_type": "code",
   "execution_count": 86,
   "metadata": {},
   "outputs": [],
   "source": [
    "user = [\n",
    "    {\n",
    "        'name':'Rammani',\n",
    "        'course':'Btech-AI/DS',\n",
    "        'age': 21,\n",
    "        'gender':'male'\n",
    "    },\n",
    "    {\n",
    "        'name':'Swati',\n",
    "        'course':'BSC',\n",
    "        'age': 22,\n",
    "        'gender':'female'\n",
    "    },\n",
    "    {\n",
    "        'name':'rajkumari pandey',\n",
    "        'age': 35,\n",
    "        'gender':'female'\n",
    "    },\n",
    "    {\n",
    "        'name':'Arun pandey',\n",
    "        'age': 40,\n",
    "        'gender':'male'\n",
    "    }\n",
    "]\n"
   ]
  },
  {
   "cell_type": "code",
   "execution_count": 87,
   "metadata": {},
   "outputs": [
    {
     "data": {
      "text/plain": [
       "['Rammani', 'Swati', 'rajkumari pandey', 'Arun pandey']"
      ]
     },
     "execution_count": 87,
     "metadata": {},
     "output_type": "execute_result"
    }
   ],
   "source": [
    "list(map(lambda user:user['name'],user))"
   ]
  },
  {
   "cell_type": "code",
   "execution_count": 88,
   "metadata": {},
   "outputs": [
    {
     "data": {
      "text/plain": [
       "[21, 22, 35, 40]"
      ]
     },
     "execution_count": 88,
     "metadata": {},
     "output_type": "execute_result"
    }
   ],
   "source": [
    "list(map(lambda user:user['age'],user))"
   ]
  },
  {
   "cell_type": "code",
   "execution_count": 89,
   "metadata": {},
   "outputs": [
    {
     "data": {
      "text/plain": [
       "['male', 'female', 'female', 'male']"
      ]
     },
     "execution_count": 89,
     "metadata": {},
     "output_type": "execute_result"
    }
   ],
   "source": [
    "list(map(lambda user:user['gender'],user))"
   ]
  },
  {
   "cell_type": "code",
   "execution_count": 92,
   "metadata": {},
   "outputs": [
    {
     "data": {
      "text/plain": [
       "[True, None, True, None, True, None, None, None, None, None, True, None, True]"
      ]
     },
     "execution_count": 92,
     "metadata": {},
     "output_type": "execute_result"
    }
   ],
   "source": [
    "def even(num):\n",
    "    if num%2==0:\n",
    "        return True\n",
    "   \n",
    "    \n",
    "list1 = [2,3,4,5,6,7,9,11,13,15,14,19,16]\n",
    "list(map(even,list1))"
   ]
  },
  {
   "cell_type": "code",
   "execution_count": 93,
   "metadata": {},
   "outputs": [
    {
     "data": {
      "text/plain": [
       "[2, 4, 6, 14, 16]"
      ]
     },
     "execution_count": 93,
     "metadata": {},
     "output_type": "execute_result"
    }
   ],
   "source": [
    "list(filter(even,list1))"
   ]
  },
  {
   "cell_type": "code",
   "execution_count": 94,
   "metadata": {},
   "outputs": [
    {
     "data": {
      "text/plain": [
       "[True, None, True, None, True, None, None, None, None, None, True, None, True]"
      ]
     },
     "execution_count": 94,
     "metadata": {},
     "output_type": "execute_result"
    }
   ],
   "source": [
    "list(map(even,list1))"
   ]
  },
  {
   "cell_type": "code",
   "execution_count": 95,
   "metadata": {},
   "outputs": [
    {
     "data": {
      "text/plain": [
       "[True,\n",
       " False,\n",
       " True,\n",
       " False,\n",
       " True,\n",
       " False,\n",
       " False,\n",
       " False,\n",
       " False,\n",
       " False,\n",
       " True,\n",
       " False,\n",
       " True]"
      ]
     },
     "execution_count": 95,
     "metadata": {},
     "output_type": "execute_result"
    }
   ],
   "source": [
    "list(map(lambda even: even%2==0,list1))"
   ]
  },
  {
   "cell_type": "markdown",
   "metadata": {},
   "source": [
    "### Filter()\n",
    "- used to filter the data.\n",
    "- filter elements based on function condition.\n",
    "- The filter() function in Python is used to filter elements from an iterable (such as a list, tuple, or other iterable objects) based on a specified condition.\n",
    "- It returns an iterator containing the elements that satisfy the given condition."
   ]
  },
  {
   "cell_type": "code",
   "execution_count": 100,
   "metadata": {},
   "outputs": [
    {
     "data": {
      "text/plain": [
       "[2, 4, 6, 14, 16]"
      ]
     },
     "execution_count": 101,
     "metadata": {},
     "output_type": "execute_result"
    }
   ],
   "source": [
    "list(filter(lambda even: even%2==0,list1))\n"
   ]
  },
  {
   "cell_type": "code",
   "execution_count": 103,
   "metadata": {},
   "outputs": [
    {
     "data": {
      "text/plain": [
       "[6, 7, 9, 11, 13, 15, 14, 19, 16]"
      ]
     },
     "execution_count": 103,
     "metadata": {},
     "output_type": "execute_result"
    }
   ],
   "source": [
    "list1 = [2,3,4,5,6,7,9,11,13,15,14,19,16]\n",
    "list(filter(lambda x:x>5,list1))"
   ]
  },
  {
   "cell_type": "code",
   "execution_count": 113,
   "metadata": {},
   "outputs": [
    {
     "data": {
      "text/plain": [
       "['ram']"
      ]
     },
     "execution_count": 113,
     "metadata": {},
     "output_type": "execute_result"
    }
   ],
   "source": [
    "name = [ 'ram','raju','amar','ballu','raj','mohan']\n",
    "list(filter(lambda x:x=='ram', name))"
   ]
  },
  {
   "cell_type": "markdown",
   "metadata": {},
   "source": [
    "### reduce()\n",
    "- used to reduce data"
   ]
  },
  {
   "cell_type": "code",
   "execution_count": 116,
   "metadata": {},
   "outputs": [
    {
     "data": {
      "text/plain": [
       "12"
      ]
     },
     "execution_count": 116,
     "metadata": {},
     "output_type": "execute_result"
    }
   ],
   "source": [
    "import functools\n",
    "functools.reduce(lambda x,y : x+y , [3,4,5])"
   ]
  },
  {
   "cell_type": "code",
   "execution_count": 120,
   "metadata": {},
   "outputs": [
    {
     "name": "stdout",
     "output_type": "stream",
     "text": [
      "15\n"
     ]
    }
   ],
   "source": [
    "from functools import reduce\n",
    "\n",
    "# List of numbers\n",
    "numbers = [1, 2, 3, 4, 5] \n",
    "\n",
    "# Calculate the sum of the numbers using the reduce function\n",
    "def mysum(x, y):\n",
    "  return x + y\n",
    "  \n",
    "sum = reduce(mysum, numbers)\n",
    "\n",
    "# Print the sum\n",
    "print(sum)\n"
   ]
  },
  {
   "cell_type": "code",
   "execution_count": null,
   "metadata": {},
   "outputs": [],
   "source": []
  }
 ],
 "metadata": {
  "kernelspec": {
   "display_name": "Python 3",
   "language": "python",
   "name": "python3"
  },
  "language_info": {
   "codemirror_mode": {
    "name": "ipython",
    "version": 3
   },
   "file_extension": ".py",
   "mimetype": "text/x-python",
   "name": "python",
   "nbconvert_exporter": "python",
   "pygments_lexer": "ipython3",
   "version": "3.11.3"
  }
 },
 "nbformat": 4,
 "nbformat_minor": 2
}
