{
 "cells": [
  {
   "cell_type": "markdown",
   "metadata": {},
   "source": [
    "### Check Current date and time"
   ]
  },
  {
   "cell_type": "code",
   "execution_count": 5,
   "metadata": {},
   "outputs": [
    {
     "name": "stdout",
     "output_type": "stream",
     "text": [
      "2024-10-14 20:07:34.506014\n"
     ]
    }
   ],
   "source": [
    "from datetime import datetime\n",
    "current_date = datetime.now()\n",
    "print(current_date)"
   ]
  },
  {
   "cell_type": "markdown",
   "metadata": {},
   "source": [
    "#### Python Program to check if a Number Is Positive Or Negative\n"
   ]
  },
  {
   "cell_type": "code",
   "execution_count": 6,
   "metadata": {},
   "outputs": [
    {
     "name": "stdout",
     "output_type": "stream",
     "text": [
      "+ve\n"
     ]
    }
   ],
   "source": [
    "n = int(input(\"Enter the value: \"))\n",
    "if n>0:\n",
    "    print(\"+ve\")\n",
    "elif n<0:\n",
    "    print(\"-ve\")\n",
    "else:\n",
    "    print(\"Zero\")"
   ]
  },
  {
   "cell_type": "code",
   "execution_count": 5,
   "metadata": {},
   "outputs": [
    {
     "name": "stdout",
     "output_type": "stream",
     "text": [
      "Positive\n"
     ]
    }
   ],
   "source": [
    "# Method 2: Using Nested if-else Statements\n",
    "\n",
    "n = int(input(\"Enter the value:\"))\n",
    "num = 15\n",
    "if num>=0:\n",
    "    if num==0:\n",
    "        print('Zero')\n",
    "    else:\n",
    "        print(\"Positive\")\n",
    "else:\n",
    "    print(\"Negative\")"
   ]
  },
  {
   "cell_type": "code",
   "execution_count": 11,
   "metadata": {},
   "outputs": [
    {
     "name": "stdout",
     "output_type": "stream",
     "text": [
      "Negative\n"
     ]
    }
   ],
   "source": [
    "# Method 3: Using Ternary Operator\n",
    "num =-15\n",
    "print(\"Positive\" if num>=0 else \"Negative\")"
   ]
  },
  {
   "cell_type": "markdown",
   "metadata": {},
   "source": [
    "#### Convert integer to float."
   ]
  },
  {
   "cell_type": "code",
   "execution_count": 22,
   "metadata": {},
   "outputs": [
    {
     "name": "stdout",
     "output_type": "stream",
     "text": [
      "4.0\n",
      "5\n",
      "100\n",
      "100.0\n",
      "True\n",
      "(100+0j)\n"
     ]
    }
   ],
   "source": [
    "num = 4 \n",
    "print(float(num))  # int to float\n",
    "\n",
    "num1 = 5.3\n",
    "print(int(num1))   #float to int\n",
    "\n",
    "number=\"100\" # string\n",
    "print(int(number)) # 100\n",
    "print(float(number)) # 100.0\n",
    "print(bool(number)) # True\n",
    "print(complex(number)) # 100+0j"
   ]
  },
  {
   "cell_type": "markdown",
   "metadata": {},
   "source": [
    "#### Find a type of \"VARIABLE\"."
   ]
  },
  {
   "cell_type": "code",
   "execution_count": 20,
   "metadata": {},
   "outputs": [
    {
     "name": "stdout",
     "output_type": "stream",
     "text": [
      "<class 'str'>\n"
     ]
    }
   ],
   "source": [
    "var = \"VARIABLE\"\n",
    "print(type(var))"
   ]
  },
  {
   "cell_type": "markdown",
   "metadata": {},
   "source": [
    "#### Change the type."
   ]
  },
  {
   "cell_type": "code",
   "execution_count": 25,
   "metadata": {},
   "outputs": [
    {
     "name": "stdout",
     "output_type": "stream",
     "text": [
      "100\n",
      "100.0\n",
      "True\n",
      "<class 'str'>\n"
     ]
    }
   ],
   "source": [
    "number=\"100\" # string\n",
    "print(int(number)) # 100\n",
    "print(float(number)) # 100.0\n",
    "print(bool(number)) # True\n",
    "print(type(number))"
   ]
  },
  {
   "cell_type": "markdown",
   "metadata": {},
   "source": [
    "#### FInd a length of variable."
   ]
  },
  {
   "cell_type": "code",
   "execution_count": 27,
   "metadata": {},
   "outputs": [
    {
     "name": "stdout",
     "output_type": "stream",
     "text": [
      "23\n",
      "14\n"
     ]
    }
   ],
   "source": [
    "var = \"VARIABLE is a container\"\n",
    "print(len(var))\n",
    "\n",
    "name = 'rammani pandey'\n",
    "print(len(name))"
   ]
  },
  {
   "cell_type": "markdown",
   "metadata": {},
   "source": [
    "#### Add two numbers. Subtract two numbers Multiply two numbers and Divide two numbers."
   ]
  },
  {
   "cell_type": "code",
   "execution_count": 9,
   "metadata": {},
   "outputs": [
    {
     "name": "stdout",
     "output_type": "stream",
     "text": [
      "The sum of a and b is 12\n",
      "The substraction of a and b 8\n",
      "THe multiplication of a and b is 20\n",
      "The division of a and b is 5.0\n",
      "The Remainder of a and b is 0\n"
     ]
    }
   ],
   "source": [
    "a = int(input(\"Enter First Number: \"))\n",
    "b = int(input(\"Enter Second Number: \"))\n",
    "print(\"The sum of a and b is\",a+b)\n",
    "print(\"The substraction of a and b\",a-b)\n",
    "print(\"THe multiplication of a and b is\",a*b)\n",
    "print(\"The division of a and b is\",a/b)\n",
    "print(\"The Remainder of a and b is\",a%b)"
   ]
  },
  {
   "cell_type": "markdown",
   "metadata": {},
   "source": [
    "#### Calculate area of sector\n"
   ]
  },
  {
   "cell_type": "code",
   "execution_count": 1,
   "metadata": {},
   "outputs": [
    {
     "name": "stdout",
     "output_type": "stream",
     "text": [
      "Area of the sector: 13.08996938995747\n"
     ]
    }
   ],
   "source": [
    "import math\n",
    "\n",
    "def area_of_sector(radius, angle):\n",
    "    area = (angle / 360) * math.pi * (radius ** 2)\n",
    "    return area\n",
    "\n",
    "# Example usage\n",
    "r = 5\n",
    "theta = 60\n",
    "print(\"Area of the sector:\", area_of_sector(r, theta))\n"
   ]
  },
  {
   "cell_type": "code",
   "execution_count": 19,
   "metadata": {},
   "outputs": [
    {
     "name": "stdout",
     "output_type": "stream",
     "text": [
      "157.07963267948966\n"
     ]
    }
   ],
   "source": [
    "# import math\n",
    "\n",
    "# def area_of_sector(radius, angle):\n",
    "#     return (angle / 360) * math.pi * (radius ** 2)\n",
    "# radius = 5  # Radius of the circle\n",
    "# angle = 60  # Angle of the sector in degrees\n",
    "# print(\"Area of the sector:\", area_of_sector(radius, angle))\n",
    "\n",
    "a = lambda y: (y / 360) * math.pi * (60 ** 2)\n",
    "\n",
    "print(a(5)) "
   ]
  },
  {
   "cell_type": "markdown",
   "metadata": {},
   "source": [
    "#### Calculate arc length of an angle"
   ]
  },
  {
   "cell_type": "code",
   "execution_count": null,
   "metadata": {},
   "outputs": [],
   "source": []
  },
  {
   "cell_type": "markdown",
   "metadata": {},
   "source": [
    "\n",
    "#### Calculate surface area and  volume of sphere.\n"
   ]
  },
  {
   "cell_type": "code",
   "execution_count": null,
   "metadata": {},
   "outputs": [],
   "source": []
  },
  {
   "cell_type": "markdown",
   "metadata": {},
   "source": [
    "#### Compare two digits which one is greator or lesser"
   ]
  },
  {
   "cell_type": "code",
   "execution_count": 36,
   "metadata": {},
   "outputs": [
    {
     "name": "stdout",
     "output_type": "stream",
     "text": [
      "a is greater than b.\n"
     ]
    }
   ],
   "source": [
    "a = int(input('Enter value'))\n",
    "b = int(input('Enter value'))\n",
    "if a > b:\n",
    "    print('a is greater than b.')\n",
    "else:\n",
    "    print('a is less than b.')"
   ]
  },
  {
   "cell_type": "code",
   "execution_count": 35,
   "metadata": {},
   "outputs": [
    {
     "name": "stdout",
     "output_type": "stream",
     "text": [
      "a is equal to b.\n"
     ]
    }
   ],
   "source": [
    "a = int(input('Enter value'))\n",
    "b = int(input('Enter value'))\n",
    "if a==b:\n",
    "    print('a is equal to b.')\n",
    "elif a > b:\n",
    "    print('a is greater than b.')\n",
    "else:\n",
    "    print('a is less than b.')"
   ]
  },
  {
   "cell_type": "markdown",
   "metadata": {},
   "source": [
    "#### Compare two digits are same or not."
   ]
  },
  {
   "cell_type": "code",
   "execution_count": 38,
   "metadata": {},
   "outputs": [
    {
     "name": "stdout",
     "output_type": "stream",
     "text": [
      "Wow...!\n",
      "a and b is same.\n"
     ]
    }
   ],
   "source": [
    "a = int(input('Enter value'))\n",
    "b = int(input('Enter value'))\n",
    "if a==b:\n",
    "    print('Wow...!\\na and b is same.')\n",
    "else:\n",
    "    print('ohh...!\\na and b is not same.') #inr*83"
   ]
  },
  {
   "cell_type": "markdown",
   "metadata": {},
   "source": [
    "#### USD to INR"
   ]
  },
  {
   "cell_type": "code",
   "execution_count": 7,
   "metadata": {},
   "outputs": [
    {
     "data": {
      "text/plain": [
       "581"
      ]
     },
     "execution_count": 7,
     "metadata": {},
     "output_type": "execute_result"
    }
   ],
   "source": [
    "def convert(inr):\n",
    "    usd = inr * 83\n",
    "    return usd\n",
    "\n",
    "convert(7)"
   ]
  },
  {
   "cell_type": "markdown",
   "metadata": {},
   "source": [
    "#### Reversed string"
   ]
  },
  {
   "cell_type": "code",
   "execution_count": 9,
   "metadata": {},
   "outputs": [
    {
     "name": "stdout",
     "output_type": "stream",
     "text": [
      "given string:Rammani\n",
      "reversed string:inammaR\n"
     ]
    }
   ],
   "source": [
    "my_string = 'Rammani'\n",
    "\n",
    "reversed_str = my_string[::-1]\n",
    "print(f'given string:{my_string}\\nreversed string:{reversed_str}')"
   ]
  },
  {
   "cell_type": "markdown",
   "metadata": {},
   "source": [
    "<h4> Check Integer is palindrom or not</h4>\n",
    "<br>0-9    - all one digit number is pallindrom\n",
    "<br>10-99\n",
    "<br>100-999"
   ]
  },
  {
   "cell_type": "code",
   "execution_count": 15,
   "metadata": {},
   "outputs": [
    {
     "name": "stdout",
     "output_type": "stream",
     "text": [
      "not pallindrom\n"
     ]
    }
   ],
   "source": [
    "numb = int(input('Enter Number: '))\n",
    "temp = numb\n",
    "reverse = 0\n",
    "while(numb>0):\n",
    "    digit = numb %10\n",
    "    reverse = reverse * 10 + digit\n",
    "    numb = numb//10\n",
    "\n",
    "if temp == reverse:\n",
    "    print('Pallindrom')\n",
    "else:\n",
    "    print('not pallindrom')"
   ]
  },
  {
   "cell_type": "markdown",
   "metadata": {},
   "source": [
    "#### <h4> Check String is palindrom or not</h4> Using Slicing"
   ]
  },
  {
   "cell_type": "code",
   "execution_count": 29,
   "metadata": {},
   "outputs": [
    {
     "name": "stdout",
     "output_type": "stream",
     "text": [
      "is palindrom\n"
     ]
    }
   ],
   "source": [
    "s = \"dad\"\n",
    "if s==s[::-1]:\n",
    "    print(f'is palindrom')\n",
    "else:\n",
    "    print(f'not palindrom')"
   ]
  },
  {
   "cell_type": "code",
   "execution_count": 30,
   "metadata": {},
   "outputs": [
    {
     "name": "stdout",
     "output_type": "stream",
     "text": [
      "madam is a palindrome\n"
     ]
    }
   ],
   "source": [
    "#using user define function\n",
    "\n",
    "def is_palindrome(s):\n",
    "    return s == s[::-1]\n",
    "\n",
    "# Example usage:\n",
    "input_string = \"madam\"\n",
    "if is_palindrome(input_string):\n",
    "    print(f\"{input_string} is a palindrome\")\n",
    "else:\n",
    "    print(f\"{input_string} is not a palindrome\")"
   ]
  },
  {
   "cell_type": "code",
   "execution_count": 42,
   "metadata": {},
   "outputs": [
    {
     "name": "stdout",
     "output_type": "stream",
     "text": [
      "Radha is not a palindrome\n"
     ]
    }
   ],
   "source": [
    "#using user define function\n",
    "\n",
    "def is_palindrome(s):\n",
    "    return s == s[::-1]\n",
    "\n",
    "# user input\n",
    "input_string = input('Enter string: ')\n",
    "if is_palindrome(input_string):\n",
    "    print(f\"{input_string} is a palindrome\")\n",
    "else:\n",
    "    print(f\"{input_string} is not a palindrome\")"
   ]
  },
  {
   "cell_type": "markdown",
   "metadata": {},
   "source": [
    "#### Using a Loop"
   ]
  },
  {
   "cell_type": "code",
   "execution_count": 35,
   "metadata": {},
   "outputs": [
    {
     "name": "stdout",
     "output_type": "stream",
     "text": [
      "civic is a palindrome\n"
     ]
    }
   ],
   "source": [
    "def is_palindrome(s):\n",
    "    i, j = 0, len(s) - 1\n",
    "    while i < j:\n",
    "        if s[i] != s[j]:\n",
    "            return False\n",
    "        i += 1\n",
    "        j -= 1\n",
    "    return True\n",
    "\n",
    "# Example usage:\n",
    "input_string = \"civic\"\n",
    "if is_palindrome(input_string):\n",
    "    print(f\"{input_string} is a palindrome\")\n",
    "else:\n",
    "    print(f\"{input_string} is not a palindrome\")"
   ]
  },
  {
   "cell_type": "markdown",
   "metadata": {},
   "source": [
    "#### Using the reversed Function"
   ]
  },
  {
   "cell_type": "code",
   "execution_count": 22,
   "metadata": {},
   "outputs": [
    {
     "name": "stdout",
     "output_type": "stream",
     "text": [
      "radar is a palindrome\n"
     ]
    }
   ],
   "source": [
    "#Using function \n",
    "def is_palindrome(s):\n",
    "    return s == \"\".join(reversed(s))\n",
    "\n",
    "# Example usage:\n",
    "input_string = \"radar\"\n",
    "if is_palindrome(input_string):\n",
    "    print(f\"{input_string} is a palindrome\")\n",
    "else:\n",
    "    print(f\"{input_string} is not a palindrome\")"
   ]
  },
  {
   "cell_type": "code",
   "execution_count": 46,
   "metadata": {},
   "outputs": [
    {
     "name": "stdout",
     "output_type": "stream",
     "text": [
      "rar is a palindrome\n"
     ]
    }
   ],
   "source": [
    "s = input('Enter String:')\n",
    "s == \"\".join(reversed(s))\n",
    "if is_palindrome(s):\n",
    "    print(f\"{s} is a palindrome\")\n",
    "else:\n",
    "    print(f\"{s} is not a palindrome\")"
   ]
  },
  {
   "cell_type": "code",
   "execution_count": 47,
   "metadata": {},
   "outputs": [
    {
     "name": "stdout",
     "output_type": "stream",
     "text": [
      "Yes\n"
     ]
    }
   ],
   "source": [
    "# Recursive function to check if a\n",
    "# string is palindrome\n",
    "def isPalindrome(s):\n",
    "\n",
    "    # to change it the string is similar case\n",
    "    s = s.lower()\n",
    "    # length of ss\n",
    "    l = len(s)\n",
    "\n",
    "    # if length is less than 2\n",
    "    if l < 2:\n",
    "        return True\n",
    "\n",
    "    # If s[0] and s[l-1] are equal\n",
    "    elif s[0] == s[l - 1]:\n",
    "\n",
    "        # Call is palindrome form substring(1,l-1)\n",
    "        return isPalindrome(s[1: l - 1])\n",
    "\n",
    "    else:\n",
    "        return False\n",
    "\n",
    "# Driver Code\n",
    "s = \"MalaYaLam\"\n",
    "ans = isPalindrome(s)\n",
    "\n",
    "if ans:\n",
    "    print(\"Yes\")\n",
    "\n",
    "else:\n",
    "    print(\"No\")"
   ]
  },
  {
   "cell_type": "code",
   "execution_count": null,
   "metadata": {},
   "outputs": [],
   "source": []
  }
 ],
 "metadata": {
  "kernelspec": {
   "display_name": "Python 3",
   "language": "python",
   "name": "python3"
  },
  "language_info": {
   "codemirror_mode": {
    "name": "ipython",
    "version": 3
   },
   "file_extension": ".py",
   "mimetype": "text/x-python",
   "name": "python",
   "nbconvert_exporter": "python",
   "pygments_lexer": "ipython3",
   "version": "3.11.3"
  }
 },
 "nbformat": 4,
 "nbformat_minor": 2
}
