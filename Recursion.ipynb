{
 "cells": [
  {
   "cell_type": "markdown",
   "metadata": {},
   "source": [
    "## **Recursion Function**\n",
    "- programming technique where a function calls itself repeatedly until it reaches a base case that stops the recursion.\n",
    "- programming technique where a function calls itself repeatedly until it reaches a base case that stops the recursion..\n",
    "\n",
    "key points:- \n",
    "  - Base Case:- a condition that stop the recursion.withou a base case, the function will recurse indefinitely.\n",
    "  - recursive Case:-  recursive case is simply where the function keeps calling itself with a smaller input until it reaches a point (the base case) where it can provide a direct answer."
   ]
  },
  {
   "cell_type": "code",
   "execution_count": 1,
   "metadata": {},
   "outputs": [
    {
     "name": "stdout",
     "output_type": "stream",
     "text": [
      "6\n",
      "5\n",
      "4\n",
      "3\n",
      "2\n",
      "1\n"
     ]
    }
   ],
   "source": [
    "def show(n):\n",
    "    if (n==0):\n",
    "        return\n",
    "    print(n)\n",
    "    show(n-1)\n",
    "show(6)"
   ]
  },
  {
   "cell_type": "code",
   "execution_count": 2,
   "metadata": {},
   "outputs": [
    {
     "name": "stdout",
     "output_type": "stream",
     "text": [
      "Rammani\n",
      "Rammani\n",
      "Rammani\n",
      "Rammani\n",
      "Rammani\n",
      "Rammani\n",
      "Rammani\n",
      "Rammani\n",
      "Rammani\n",
      "Rammani\n"
     ]
    }
   ],
   "source": [
    "# print your name withou using loop \n",
    "c=1\n",
    "def printer(name):\n",
    "    global c\n",
    "    if c<=10:\n",
    "        print(name)\n",
    "        c+=1\n",
    "        printer(name)\n",
    "printer(\"Rammani\")\n"
   ]
  },
  {
   "cell_type": "code",
   "execution_count": 3,
   "metadata": {},
   "outputs": [
    {
     "data": {
      "text/plain": [
       "720"
      ]
     },
     "execution_count": 3,
     "metadata": {},
     "output_type": "execute_result"
    }
   ],
   "source": [
    "def fact(n):\n",
    "    if(n==0 or n==1):\n",
    "        return 1\n",
    "    else:\n",
    "        return n *  fact(n-1)\n",
    "    \n",
    "fact(6)"
   ]
  },
  {
   "cell_type": "code",
   "execution_count": 4,
   "metadata": {},
   "outputs": [
    {
     "data": {
      "text/plain": [
       "120"
      ]
     },
     "execution_count": 4,
     "metadata": {},
     "output_type": "execute_result"
    }
   ],
   "source": [
    "fact(5)"
   ]
  },
  {
   "cell_type": "code",
   "execution_count": 5,
   "metadata": {},
   "outputs": [
    {
     "data": {
      "text/plain": [
       "40320"
      ]
     },
     "execution_count": 5,
     "metadata": {},
     "output_type": "execute_result"
    }
   ],
   "source": [
    "fact(8)"
   ]
  },
  {
   "cell_type": "code",
   "execution_count": 6,
   "metadata": {},
   "outputs": [
    {
     "name": "stdout",
     "output_type": "stream",
     "text": [
      "5\n",
      "4\n",
      "3\n",
      "2\n",
      "1\n"
     ]
    }
   ],
   "source": [
    "def sum(n):\n",
    "    if (n==0):\n",
    "        return\n",
    "    print(n)\n",
    "    sum(n-1)\n",
    "\n",
    "sum(5)"
   ]
  },
  {
   "cell_type": "markdown",
   "metadata": {},
   "source": [
    "BY default recursion limit is 1000 or 3000"
   ]
  },
  {
   "cell_type": "code",
   "execution_count": 7,
   "metadata": {},
   "outputs": [
    {
     "name": "stdout",
     "output_type": "stream",
     "text": [
      "3000\n"
     ]
    }
   ],
   "source": [
    "import sys \n",
    "print(sys.getrecursionlimit())"
   ]
  },
  {
   "cell_type": "code",
   "execution_count": 7,
   "metadata": {},
   "outputs": [
    {
     "name": "stdout",
     "output_type": "stream",
     "text": [
      "Unexpected exception formatting exception. Falling back to standard exceptionUnexpected exception formatting exception. Falling back to standard exception\n"
     ]
    }
   ],
   "source": [
    "# Modify recursion limit value\n",
    "sys.setrecursionlimit(30)\n",
    "print(sys.getrecursionlimit())"
   ]
  },
  {
   "cell_type": "code",
   "execution_count": null,
   "metadata": {},
   "outputs": [],
   "source": [
    "# import sys \n",
    "# print(sys.getrecursionlimit())\n",
    "i =0\n",
    "def demo():\n",
    "    global i\n",
    "    i = i+1\n",
    "    print(\"Hello\",i)\n",
    "    \n",
    "demo()"
   ]
  },
  {
   "cell_type": "markdown",
   "metadata": {},
   "source": [
    "Advantage:-\n",
    "- clean code\n",
    "- complex problem can be solved"
   ]
  }
 ],
 "metadata": {
  "kernelspec": {
   "display_name": "Python 3",
   "language": "python",
   "name": "python3"
  },
  "language_info": {
   "codemirror_mode": {
    "name": "ipython",
    "version": 3
   },
   "file_extension": ".py",
   "mimetype": "text/x-python",
   "name": "python",
   "nbconvert_exporter": "python",
   "pygments_lexer": "ipython3",
   "version": "3.11.3"
  }
 },
 "nbformat": 4,
 "nbformat_minor": 2
}
