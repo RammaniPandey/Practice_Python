{
 "cells": [
  {
   "cell_type": "markdown",
   "metadata": {},
   "source": [
    "#### *Lists and tuples*\n",
    "### List\n",
    "- similer to arrays in c.\n",
    "- separated by comma','.\n",
    "- enclosed within square brackets [].\n",
    "- mutable ordered sequence of elements.\n",
    "- can be modified after creation.\n",
    "- built in data type that stores set of values.\n",
    "\n",
    "- - Syntax: []\n",
    "- - Ordered: Yes (Maintains the insertion order)\n",
    "- - Mutable: Yes (Elements can be changed)\n",
    "- - Duplicates: Yes (Allows duplicate elements)\n",
    "- - Example: [1, 2, 3, 4]"
   ]
  },
  {
   "cell_type": "code",
   "execution_count": 1,
   "metadata": {},
   "outputs": [
    {
     "name": "stdout",
     "output_type": "stream",
     "text": [
      "<class 'list'>\n"
     ]
    }
   ],
   "source": [
    "# blank list\n",
    "L1 = []\n",
    "\n",
    "# list of integers\n",
    "L2 = [10, 20, 30]\n",
    "\n",
    "# List of heterogenous data types\n",
    "L3 = [1, \"Hello\", 3.4]\n",
    "\n",
    "print(type(L1)) # <class 'list'>"
   ]
  },
  {
   "cell_type": "code",
   "execution_count": 7,
   "metadata": {},
   "outputs": [
    {
     "name": "stdout",
     "output_type": "stream",
     "text": [
      "[1, 'hi', 'list', 2, 'Ram', 3, 'piyush']\n",
      "<class 'list'>\n"
     ]
    }
   ],
   "source": [
    "list = [ 1, 'hi', 'list', 2,'Ram' , 3, 'piyush']\n",
    "print(list)\n",
    "print(type(list))"
   ]
  },
  {
   "cell_type": "code",
   "execution_count": 19,
   "metadata": {},
   "outputs": [
    {
     "name": "stdout",
     "output_type": "stream",
     "text": [
      "[2, 'Ram', 3, 'piyush']\n",
      "['list', 2, 'Ram', 3]\n",
      "[1, 'hi', 'list', 2, 'Ram']\n",
      "[1, 'hi', 'list', 2, 'Ram', 3, 'piyush', 1, 'hi', 'list', 2, 'Ram', 3, 'piyush', 1, 'hi', 'list', 2, 'Ram', 3, 'piyush']\n",
      "[1, 'hi', 'list', 2, 'Ram', 3, 'piyush']\n"
     ]
    }
   ],
   "source": [
    "print(list[3:])\n",
    "print(list[2:6])\n",
    "print(list[0:5])\n",
    "print(list*3)"
   ]
  },
  {
   "cell_type": "code",
   "execution_count": 2,
   "metadata": {},
   "outputs": [
    {
     "name": "stdout",
     "output_type": "stream",
     "text": [
      "[0, 0, 0, 0]\n"
     ]
    }
   ],
   "source": [
    "init_list = [0]*4 # multidimension list\n",
    "print(init_list) # [0, 0, 0]"
   ]
  },
  {
   "cell_type": "code",
   "execution_count": 7,
   "metadata": {},
   "outputs": [
    {
     "name": "stdout",
     "output_type": "stream",
     "text": [
      "[[0, 0, 0], [0, 0, 0], [0, 0, 0]]\n"
     ]
    }
   ],
   "source": [
    "two_dim_list = [ [0]*3 ] *3\n",
    "print(two_dim_list)"
   ]
  },
  {
   "cell_type": "code",
   "execution_count": 8,
   "metadata": {},
   "outputs": [
    {
     "name": "stdout",
     "output_type": "stream",
     "text": [
      "[[0, 0, 0], [0, 0, 0], [0, 0, 0]]\n",
      "[[0, 0, 1], [0, 0, 1], [0, 0, 1]]\n"
     ]
    }
   ],
   "source": [
    "two_dim_list = [ [0]*3 ] *3\n",
    "print(two_dim_list) # [[0, 0, 0], [0, 0, 0], [0, 0, 0]]"
   ]
  },
  {
   "cell_type": "code",
   "execution_count": 9,
   "metadata": {},
   "outputs": [
    {
     "name": "stdout",
     "output_type": "stream",
     "text": [
      "[[0, 0, 1], [0, 0, 1], [0, 0, 1]]\n"
     ]
    }
   ],
   "source": [
    "two_dim_list[0][2] = 1\n",
    "print(two_dim_list) # [[0, 0, 1], [0, 0, 1], [0, 0, 1]]"
   ]
  },
  {
   "cell_type": "code",
   "execution_count": 26,
   "metadata": {},
   "outputs": [
    {
     "name": "stdout",
     "output_type": "stream",
     "text": [
      "The 1st planet is Mercury\n",
      "The 2nd planet is Venus\n",
      "The 3rd planet is Earth\n",
      "The 4th planet is Mars\n",
      "The 5th planet is Jupiter\n",
      "The 6th planet is Saturn\n",
      "The 7th planet is Uranus\n",
      "The 8th planet is Neptune\n"
     ]
    }
   ],
   "source": [
    "# Access list items by index\n",
    "\n",
    "planets = [\"Mercury\", \"Venus\", \"Earth\", \"Mars\", \"Jupiter\", \"Saturn\", \"Uranus\", \"Neptune\"]\n",
    "print(\"The 1st planet is\", planets[0])\n",
    "print(\"The 2nd planet is\", planets[1])\n",
    "print(\"The 3rd planet is\", planets[2])\n",
    "print(\"The 4th planet is\", planets[3])\n",
    "print(\"The 5th planet is\", planets[4])\n",
    "print(\"The 6th planet is\", planets[5])\n",
    "print(\"The 7th planet is\", planets[6])\n",
    "print(\"The 8th planet is\", planets[7])"
   ]
  },
  {
   "cell_type": "code",
   "execution_count": 27,
   "metadata": {},
   "outputs": [
    {
     "name": "stdout",
     "output_type": "stream",
     "text": [
      "Mars is also known as Red Planet\n"
     ]
    }
   ],
   "source": [
    "# We can also modify values in a list by using an index\n",
    "\n",
    "planets = [\"Mercury\", \"Venus\", \"Earth\", \"Mars\", \"Jupiter\", \"Saturn\", \"Uranus\", \"Neptune\"]\n",
    "planets[3] = \"Red Planet\"\n",
    "print(\"Mars is also known as\", planets[3])"
   ]
  },
  {
   "cell_type": "code",
   "execution_count": 28,
   "metadata": {},
   "outputs": [
    {
     "name": "stdout",
     "output_type": "stream",
     "text": [
      "There are 8 planets in the solar system.\n"
     ]
    }
   ],
   "source": [
    "# To get the length of a list, use the built-in function len().\n",
    "\n",
    "planets = [\"Mercury\", \"Venus\", \"Earth\", \"Mars\", \"Jupiter\", \"Saturn\", \"Uranus\", \"Neptune\"]\n",
    "total = len(planets)\n",
    "print(\"There are\", total, \"planets in the solar system.\")"
   ]
  },
  {
   "cell_type": "code",
   "execution_count": 37,
   "metadata": {},
   "outputs": [
    {
     "name": "stdout",
     "output_type": "stream",
     "text": [
      "There are actually 9 planets in the solar system.\n"
     ]
    }
   ],
   "source": [
    "# To add an item to a list, use the method .append(value).\n",
    "\n",
    "planets = [\"Mercury\", \"Venus\", \"Earth\", \"Mars\", \"Jupiter\", \"Saturn\", \"Uranus\", \"Neptune\"]\n",
    "planets.append('pluto')\n",
    "total = len(planets)\n",
    "print(\"There are actually\", total, \"planets in the solar system.\")"
   ]
  },
  {
   "cell_type": "code",
   "execution_count": 39,
   "metadata": {},
   "outputs": [
    {
     "name": "stdout",
     "output_type": "stream",
     "text": [
      "There are actually 8 planets in the solar system.\n"
     ]
    }
   ],
   "source": [
    "# we can remove the last item in a list by calling the .pop() method on the list variable.\n",
    "planets.pop()   # Goodbye, Pluto\n",
    "total = len(planets)\n",
    "print(\"There are actually\", total, \"planets in the solar system.\")"
   ]
  },
  {
   "cell_type": "code",
   "execution_count": 45,
   "metadata": {},
   "outputs": [
    {
     "name": "stdout",
     "output_type": "stream",
     "text": [
      "The last planet is Neptune\n",
      "The seventh planet is Uranus\n",
      "The eighth planet is Saturn\n",
      "The sixth planet is Jupiter\n",
      "The first planet is Mercury\n"
     ]
    }
   ],
   "source": [
    "print(\"The last planet is\", planets[-1])\n",
    "print(\"The seventh planet is\", planets[-2])\n",
    "print(\"The eighth planet is\", planets[-3])\n",
    "print(\"The sixth planet is\", planets[-4])\n",
    "print(\"The first planet is\", planets[0])"
   ]
  },
  {
   "cell_type": "code",
   "execution_count": 47,
   "metadata": {},
   "outputs": [
    {
     "name": "stdout",
     "output_type": "stream",
     "text": [
      "Jupiter is the 5 planet from the sun\n",
      "Saturn is the 6 planet from the sun\n"
     ]
    }
   ],
   "source": [
    " # index method in list searches the value and returns the index of that item in the list.If it doesn't find a match it returns -1.\n",
    "index = planets.index(\"Jupiter\")\n",
    "print(\"Jupiter is the\", index + 1, \"planet from the sun\")\n",
    "\n",
    "\n",
    "index = planets.index(\"Saturn\")\n",
    "print(\"Saturn is the\", index + 1, \"planet from the sun\")"
   ]
  },
  {
   "cell_type": "code",
   "execution_count": 49,
   "metadata": {},
   "outputs": [
    {
     "name": "stdout",
     "output_type": "stream",
     "text": [
      "Mars is the 4 planet from the sun\n"
     ]
    }
   ],
   "source": [
    "index = planets.index(\"Mars\")\n",
    "print(\"Mars is the\", index + 1, \"planet from the sun\")"
   ]
  },
  {
   "cell_type": "code",
   "execution_count": 60,
   "metadata": {},
   "outputs": [
    {
     "name": "stdout",
     "output_type": "stream",
     "text": [
      "['Mercury', 'Venus']\n",
      "['Venus', 'Earth', 'Mars', 'Jupiter']\n"
     ]
    }
   ],
   "source": [
    "planets = [\"Mercury\", \"Venus\", \"Earth\", \"Mars\", \"Jupiter\", \"Saturn\", \"Uranus\", \"Neptune\"]\n",
    "before_earth = planets[0:2]\n",
    "print(before_earth)\n",
    "planet = planets[1:5]\n",
    "print(planet)"
   ]
  },
  {
   "cell_type": "code",
   "execution_count": 54,
   "metadata": {},
   "outputs": [
    {
     "name": "stdout",
     "output_type": "stream",
     "text": [
      "['Earth', 'Jupiter', 'Mars', 'Mercury', 'Neptune', 'Saturn', 'Uranus', 'Venus']\n"
     ]
    }
   ],
   "source": [
    "# sort() and sort(reverse = true) method is use for formating in accending and decending oder\n",
    "\n",
    "planets.sort()\n",
    "print(planets)"
   ]
  },
  {
   "cell_type": "code",
   "execution_count": 56,
   "metadata": {},
   "outputs": [
    {
     "name": "stdout",
     "output_type": "stream",
     "text": [
      "['Venus', 'Uranus', 'Saturn', 'Neptune', 'Mercury', 'Mars', 'Jupiter', 'Earth']\n",
      "['Earth', 'Jupiter', 'Mars', 'Mercury', 'Neptune', 'Saturn', 'Uranus', 'Venus']\n"
     ]
    }
   ],
   "source": [
    "planets.sort(reverse = True)\n",
    "print(planets)\n",
    "planets.reverse()\n",
    "print(planets)"
   ]
  },
  {
   "cell_type": "markdown",
   "metadata": {},
   "source": [
    "#### Membership operators:\n",
    "\n",
    "* **in:** evaluates if an object on the left side is included in the object on the right side.\n",
    "* **not in:** evaluates if object on left side is not included in object on right side."
   ]
  },
  {
   "cell_type": "code",
   "execution_count": 63,
   "metadata": {},
   "outputs": [
    {
     "name": "stdout",
     "output_type": "stream",
     "text": [
      "True False\n"
     ]
    }
   ],
   "source": [
    "greeting = \"Hello there\"\n",
    "print('her' in greeting, 'her' not in greeting)"
   ]
  },
  {
   "cell_type": "code",
   "execution_count": 67,
   "metadata": {},
   "outputs": [
    {
     "name": "stdout",
     "output_type": "stream",
     "text": [
      "True False\n"
     ]
    }
   ],
   "source": [
    "print('Mars' in planets , 'Mars' not in planets)"
   ]
  },
  {
   "cell_type": "markdown",
   "metadata": {},
   "source": [
    "#### Tuples\n",
    "\n",
    "- A tuple is another useful container.\n",
    "- separated by comma','.\n",
    "- enclosed within paranthesis().\n",
    "- immutable ordered sequence of elements.\n",
    "- can't be modified after creation.\n",
    "- - Syntax: ()\n",
    "- - Ordered: Yes (Maintains the insertion order)\n",
    "- - Mutable: No (Elements cannot be changed once assigned)\n",
    "- - Duplicates: Yes (Allows duplicate elements)\n",
    "- - Example: (1, 2, 3, 4)"
   ]
  },
  {
   "cell_type": "code",
   "execution_count": 75,
   "metadata": {},
   "outputs": [
    {
     "name": "stdout",
     "output_type": "stream",
     "text": [
      "(1, ' Ram', 3, 'Syam', 2, 2, 'Swati', 3)\n"
     ]
    }
   ],
   "source": [
    "tup = (1 , ' Ram',3, 'Syam' , 2 ,2 ,'Swati' , 3)\n",
    "print(tup)"
   ]
  },
  {
   "cell_type": "code",
   "execution_count": 1,
   "metadata": {},
   "outputs": [],
   "source": [
    "tup1=()# Empty tuple\n",
    "tup2=(10,30,60)# tuple of integers numberstup3=(10.77,30.66,60.89)\n",
    "# tuple of float numbers\n",
    "tup4=('one','two',\"three\")\n",
    "# tuple of strings\n",
    "tup5=('Asif',25,(50,100),(150,90))\n",
    "# Nested tuples\n",
    "tup6=(100,'Asif',17.765)\n",
    "# Tuple of mixed data types"
   ]
  },
  {
   "cell_type": "code",
   "execution_count": 79,
   "metadata": {},
   "outputs": [
    {
     "name": "stdout",
     "output_type": "stream",
     "text": [
      "2\n",
      "2\n"
     ]
    }
   ],
   "source": [
    "print(tup.count(2)) \n",
    "print(tup.count(3))"
   ]
  },
  {
   "cell_type": "code",
   "execution_count": 85,
   "metadata": {},
   "outputs": [
    {
     "name": "stdout",
     "output_type": "stream",
     "text": [
      "x-coordinate: 5\n",
      "y-coordinate: 6\n",
      "z-coordinate: 8\n"
     ]
    }
   ],
   "source": [
    "num = (5 , 6, 8)\n",
    "print(\"x-coordinate:\", num[0])\n",
    "print(\"y-coordinate:\", num[1])\n",
    "print(\"z-coordinate:\", num[2])"
   ]
  },
  {
   "cell_type": "code",
   "execution_count": 2,
   "metadata": {},
   "outputs": [
    {
     "name": "stdout",
     "output_type": "stream",
     "text": [
      "The coordinates are 108.7774 x 92.5556\n"
     ]
    }
   ],
   "source": [
    "location = 108.7774, 92.5556\n",
    "latitude, longtitude = location\n",
    "print(\"The coordinates are {} x {}\".format(latitude, longtitude))"
   ]
  },
  {
   "cell_type": "code",
   "execution_count": 9,
   "metadata": {},
   "outputs": [
    {
     "name": "stdout",
     "output_type": "stream",
     "text": [
      "['spider', 'man', 'doho']\n"
     ]
    }
   ],
   "source": [
    "list = []\n",
    "m1 = input(\"1st : \")\n",
    "m2 = input(\"2nd : \")\n",
    "m3 = input(\"3rd : \")\n",
    "\n",
    "list.append(m1)\n",
    "list.append(m2)\n",
    "list.append(m3)\n",
    "\n",
    "print(list)"
   ]
  },
  {
   "cell_type": "code",
   "execution_count": 10,
   "metadata": {},
   "outputs": [
    {
     "name": "stdout",
     "output_type": "stream",
     "text": [
      "['raam', 'syam', 'bhagawan']\n"
     ]
    }
   ],
   "source": [
    "list = []\n",
    "m = input(\"1st : \")\n",
    "list.append(m)\n",
    "m = input(\"2nd : \")\n",
    "list.append(m)\n",
    "m = input(\"3rd : \")\n",
    "list.append(m)\n",
    "\n",
    "print(list)"
   ]
  },
  {
   "cell_type": "code",
   "execution_count": 11,
   "metadata": {},
   "outputs": [
    {
     "name": "stdout",
     "output_type": "stream",
     "text": [
      "['maiya ', 'anusuiya', 'ji']\n"
     ]
    }
   ],
   "source": [
    "list = []\n",
    "list.append(input(\"1st : \"))\n",
    "list.append(input(\"2nd : \"))\n",
    "list.append(input(\"3rd : \"))\n",
    "print(list)"
   ]
  },
  {
   "cell_type": "code",
   "execution_count": 16,
   "metadata": {},
   "outputs": [
    {
     "name": "stdout",
     "output_type": "stream",
     "text": [
      "Pallindrom\n"
     ]
    }
   ],
   "source": [
    "# Check Pallindrom\n",
    "\n",
    "a = [1,2,3,4,5,4,3,2,1]\n",
    "copy_a = a.copy()\n",
    "copy_a.reverse()\n",
    "\n",
    "if(copy_a==a):\n",
    "    print(\"Pallindrom\")\n",
    "else:\n",
    "    print(\"Not Pallindrom\")\n"
   ]
  },
  {
   "cell_type": "code",
   "execution_count": 17,
   "metadata": {},
   "outputs": [
    {
     "name": "stdout",
     "output_type": "stream",
     "text": [
      "Not Pallindrom\n"
     ]
    }
   ],
   "source": [
    "a = [1,2,3,4,5,1]\n",
    "copy_a = a.copy()\n",
    "copy_a.reverse()\n",
    "\n",
    "if(copy_a==a):\n",
    "    print(\"Pallindrom\")\n",
    "else:\n",
    "    print(\"Not Pallindrom\")"
   ]
  },
  {
   "cell_type": "code",
   "execution_count": null,
   "metadata": {},
   "outputs": [],
   "source": []
  }
 ],
 "metadata": {
  "kernelspec": {
   "display_name": "Python 3",
   "language": "python",
   "name": "python3"
  },
  "language_info": {
   "codemirror_mode": {
    "name": "ipython",
    "version": 3
   },
   "file_extension": ".py",
   "mimetype": "text/x-python",
   "name": "python",
   "nbconvert_exporter": "python",
   "pygments_lexer": "ipython3",
   "version": "3.11.3"
  }
 },
 "nbformat": 4,
 "nbformat_minor": 2
}
