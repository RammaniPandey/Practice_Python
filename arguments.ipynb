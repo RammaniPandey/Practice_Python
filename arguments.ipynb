{
 "cells": [
  {
   "cell_type": "markdown",
   "metadata": {},
   "source": [
    "### ***Funtion with * args and ** kwargs***\n",
    "- Arbitrary Arguments are often shortened to *args and Arbitrary Keyword Arguments are often shortened to **kwargs in Python documentations.\n",
    "- Both are special python keyword that are used to pass the variable length of argument to function."
   ]
  },
  {
   "cell_type": "markdown",
   "metadata": {},
   "source": [
    "### *args - argument \n",
    "- *args allows us to pass a variable number of non-keyword arguments to a function."
   ]
  },
  {
   "cell_type": "code",
   "execution_count": 21,
   "metadata": {},
   "outputs": [
    {
     "name": "stdout",
     "output_type": "stream",
     "text": [
      "(78, 8)\n"
     ]
    }
   ],
   "source": [
    "#def mult(a,b):\n",
    "#    return a*b\n",
    "#print (mult(2,3))\n",
    "\n",
    "\n",
    "def add(*args):\n",
    "    product = 1\n",
    "    for i in args:\n",
    "        product = product+i\n",
    "    print(args)\n",
    "\n",
    "add(78,8)"
   ]
  },
  {
   "cell_type": "code",
   "execution_count": 19,
   "metadata": {},
   "outputs": [
    {
     "name": "stdout",
     "output_type": "stream",
     "text": [
      "\n",
      "Total number of matches are :  9\n",
      "Score : 10\n",
      "Score : 9\n",
      "Score : 8\n",
      "Score : 9\n",
      "Score : 7\n",
      "Score : 6\n",
      "Score : 9\n",
      "Score : 8\n",
      "Score : 5\n"
     ]
    }
   ],
   "source": [
    "def welcome( *match ):\n",
    "    print(\"\\nTotal number of matches are : \",len(match))\n",
    "    for n in match:\n",
    "        print(\"Score :\",n )\n",
    "# Passing 9 parameters\n",
    "welcome(10,9,8,9,7,6,9,8,5)"
   ]
  },
  {
   "cell_type": "code",
   "execution_count": 20,
   "metadata": {},
   "outputs": [
    {
     "name": "stdout",
     "output_type": "stream",
     "text": [
      "\n",
      "Total number of matches are :  6\n",
      "Score : 4\n",
      "Score : 5\n",
      "Score : 9\n",
      "Score : 4\n",
      "Score : 1\n",
      "Score : 5\n"
     ]
    }
   ],
   "source": [
    "# Passing 6 parameters\n",
    "welcome(4,5,9,4,1,5)"
   ]
  },
  {
   "cell_type": "code",
   "execution_count": 26,
   "metadata": {},
   "outputs": [
    {
     "name": "stdout",
     "output_type": "stream",
     "text": [
      "1\n",
      "2\n",
      "3\n"
     ]
    }
   ],
   "source": [
    "def my_function(*args):\n",
    "    for arg in args:\n",
    "        print(arg)\n",
    "\n",
    "my_function(1, 2, 3)  # Output: 1 2 3"
   ]
  },
  {
   "cell_type": "code",
   "execution_count": 27,
   "metadata": {},
   "outputs": [
    {
     "name": "stdout",
     "output_type": "stream",
     "text": [
      "6\n"
     ]
    }
   ],
   "source": [
    "def mult(*args):\n",
    "    for i in args:\n",
    "        return i*2\n",
    "print(mult(3))"
   ]
  },
  {
   "cell_type": "markdown",
   "metadata": {},
   "source": [
    "**Mandatory Asterisk:**\n",
    "- The asterisk (*) itself is mandatory and indicates that the function can accept multiple positional arguments as a tuple.\n",
    "\n",
    "**Changing the Name:**\n",
    "- The name following the asterisk can be changed to whatever you want. It doesn't have to be args. Common names include *args, *var, *elements, or any other name you choose."
   ]
  },
  {
   "cell_type": "code",
   "execution_count": 12,
   "metadata": {},
   "outputs": [
    {
     "data": {
      "text/plain": [
       "7"
      ]
     },
     "execution_count": 12,
     "metadata": {},
     "output_type": "execute_result"
    }
   ],
   "source": [
    "def add(*var):\n",
    "    product = 1\n",
    "    for i in var:\n",
    "        product = product+i\n",
    "    return product\n",
    "\n",
    "add(6)\n"
   ]
  },
  {
   "cell_type": "markdown",
   "metadata": {},
   "source": [
    "### **kwargs - argument\n",
    "- Arbitrary Keyword Arguments ( **kwargs ) allows us to pass any no, of keyword argument. \n",
    "- Keyword Argument mean that they contain a key value pairs like , python dictionary.\n",
    "- If we are not sure with number of keyword arguments that will be passed in our function,we can use ** before the parameter name so that the function will receive a dictionary of arguments, and we can access the items accordingly. \n"
   ]
  },
  {
   "cell_type": "code",
   "execution_count": 33,
   "metadata": {},
   "outputs": [
    {
     "name": "stdout",
     "output_type": "stream",
     "text": [
      "First Name :  Muskan\n",
      "First Name :  Anchal\n"
     ]
    }
   ],
   "source": [
    "#function\n",
    "def details( **name ):\n",
    "    print(\"First Name :  \"+ name[\"fname\"])\n",
    "    \n",
    "# Passing 2 parameters\n",
    "details(fname=\"Muskan\", lname=\"Agarwal\")\n",
    "# Passing 1 parameter\n",
    "details(fname=\"Anchal\")"
   ]
  },
  {
   "cell_type": "markdown",
   "metadata": {},
   "source": [
    "- order of the argumrnts matter (normal -> *args -> **kwargs).\n",
    "- The words 'args' and 'kwargs' are only a conventions you can use any namee of your choice."
   ]
  },
  {
   "cell_type": "code",
   "execution_count": null,
   "metadata": {},
   "outputs": [],
   "source": []
  }
 ],
 "metadata": {
  "kernelspec": {
   "display_name": "Python 3",
   "language": "python",
   "name": "python3"
  },
  "language_info": {
   "codemirror_mode": {
    "name": "ipython",
    "version": 3
   },
   "file_extension": ".py",
   "mimetype": "text/x-python",
   "name": "python",
   "nbconvert_exporter": "python",
   "pygments_lexer": "ipython3",
   "version": "3.11.3"
  }
 },
 "nbformat": 4,
 "nbformat_minor": 2
}
