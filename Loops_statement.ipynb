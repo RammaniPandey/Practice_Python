{
 "cells": [
  {
   "cell_type": "markdown",
   "metadata": {},
   "source": [
    "## **Loop** \n",
    "### for loops\n",
    "- Python has two kinds of loops - for loops and while loops.\n",
    "- A for loop is used to \"iterate\", or do something repeatedly, over an iterable.\n",
    "- it is used to iterate over a sequence.\n",
    "- certain statement will br excuted repeatedly\n",
    "- An iterable is an object that can return one of its elements at a time.\n",
    "- This can include sequence types, such as strings, lists, and tuples, as well as non-sequence types, such as dictionaries and files.\n",
    "- iterate, which means when we know how many times a statement has to be excuted."
   ]
  },
  {
   "cell_type": "code",
   "execution_count": 1,
   "metadata": {},
   "outputs": [
    {
     "name": "stdout",
     "output_type": "stream",
     "text": [
      "RAMMANI\n",
      "SYAM\n",
      "SWATI\n",
      "PIYUSH\n",
      "MOHAN\n",
      "KAJAL\n"
     ]
    }
   ],
   "source": [
    "classes = ['RAMMANI','SYAM','SWATI','PIYUSH','MOHAN','KAJAL']\n",
    "for name in classes:\n",
    "    print(name)"
   ]
  },
  {
   "cell_type": "code",
   "execution_count": 91,
   "metadata": {},
   "outputs": [
    {
     "name": "stdout",
     "output_type": "stream",
     "text": [
      "RAMMANI\n",
      "R\n",
      "A\n",
      "M\n",
      "M\n",
      "A\n",
      "N\n",
      "I\n",
      "SYAM\n",
      "S\n",
      "Y\n",
      "A\n",
      "M\n",
      "SWATI\n",
      "S\n",
      "W\n",
      "A\n",
      "T\n",
      "I\n",
      "PIYUSH\n",
      "P\n",
      "I\n",
      "Y\n",
      "U\n",
      "S\n",
      "H\n",
      "MOHAN\n",
      "M\n",
      "O\n",
      "H\n",
      "A\n",
      "N\n",
      "KAJAL\n",
      "K\n",
      "A\n",
      "J\n",
      "A\n",
      "L\n"
     ]
    }
   ],
   "source": [
    "classes = ['RAMMANI','SYAM','SWATI','PIYUSH','MOHAN','KAJAL']\n",
    "for name in classes:\n",
    " print(name)\n",
    " for a in name:\n",
    "  print(a)\n"
   ]
  },
  {
   "cell_type": "code",
   "execution_count": 45,
   "metadata": {},
   "outputs": [
    {
     "name": "stdout",
     "output_type": "stream",
     "text": [
      "RAMMANIRAMMANIRAMMANIRAMMANIRAMMANI\n",
      "SYAMSYAMSYAMSYAMSYAM\n",
      "SWATISWATISWATISWATISWATI\n",
      "PIYUSHPIYUSHPIYUSHPIYUSHPIYUSH\n",
      "MOHANMOHANMOHANMOHANMOHAN\n",
      "KAJALKAJALKAJALKAJALKAJAL\n"
     ]
    }
   ],
   "source": [
    "classes = ['RAMMANI','SYAM','SWATI','PIYUSH','MOHAN','KAJAL']\n",
    "for name in classes:\n",
    "    print(name*5)\n"
   ]
  },
  {
   "cell_type": "code",
   "execution_count": 1,
   "metadata": {},
   "outputs": [
    {
     "name": "stdout",
     "output_type": "stream",
     "text": [
      "RAMMANI RAMMANI RAMMANI RAMMANI\n",
      "SYAM SYAM SYAM SYAM\n",
      "SWATI SWATI SWATI SWATI\n",
      "PIYUSH PIYUSH PIYUSH PIYUSH\n",
      "MOHAN MOHAN MOHAN MOHAN\n",
      "KAJAL KAJAL KAJAL KAJAL\n"
     ]
    }
   ],
   "source": [
    "classes = 'RAMMANI','SYAM','SWATI','PIYUSH','MOHAN','KAJAL'\n",
    "for name in classes:\n",
    "    print(name+' '+name+' '+name+' '+name)\n",
    "    print"
   ]
  },
  {
   "cell_type": "code",
   "execution_count": 107,
   "metadata": {},
   "outputs": [
    {
     "name": "stdout",
     "output_type": "stream",
     "text": [
      "swati_dwivedi\n",
      "piyush_pandey\n",
      "mohan_pandey\n",
      "kajal_pandey\n"
     ]
    }
   ],
   "source": [
    "classes = ['SWATI Dwivedi','PIYUSH Pandey','MOHAN Pandey','KAJAL Pandey']\n",
    "users = []\n",
    "\n",
    "for name in classes:\n",
    "    user = name.lower().replace(\" \", \"_\")\n",
    "    users.append(user)\n",
    "    print(user)"
   ]
  },
  {
   "cell_type": "code",
   "execution_count": 54,
   "metadata": {},
   "outputs": [
    {
     "name": "stdout",
     "output_type": "stream",
     "text": [
      "1\n",
      "2\n",
      "3\n",
      "4\n",
      "5\n",
      "6\n"
     ]
    }
   ],
   "source": [
    "lst = [1,2,3,4,5,6]\n",
    "for i in lst:\n",
    "    print(i)"
   ]
  },
  {
   "cell_type": "code",
   "execution_count": 85,
   "metadata": {},
   "outputs": [
    {
     "name": "stdout",
     "output_type": "stream",
     "text": [
      "R\n",
      "a\n",
      "m\n",
      "this is special!\n",
      "m\n",
      "this is special!\n",
      "a\n",
      "n\n",
      "i\n"
     ]
    }
   ],
   "source": [
    "a = \"Rammani\"\n",
    "for i in a:\n",
    "    print(i)\n",
    "    if i==\"m\":\n",
    "        print('this is special!') "
   ]
  },
  {
   "cell_type": "code",
   "execution_count": 48,
   "metadata": {},
   "outputs": [
    {
     "name": "stdout",
     "output_type": "stream",
     "text": [
      "1\n",
      "2\n",
      "3\n",
      "4\n",
      "5\n"
     ]
    }
   ],
   "source": [
    "for n in 1,2,3,4,5:\n",
    "    print(n)"
   ]
  },
  {
   "cell_type": "code",
   "execution_count": 63,
   "metadata": {},
   "outputs": [
    {
     "name": "stdout",
     "output_type": "stream",
     "text": [
      "21\n"
     ]
    }
   ],
   "source": [
    "lst = [1,2,3,4,5,6] # sum of all integer\n",
    "s = 0\n",
    "for i in lst:\n",
    "     s=s+i\n",
    "print(s)"
   ]
  },
  {
   "cell_type": "code",
   "execution_count": 71,
   "metadata": {},
   "outputs": [
    {
     "name": "stdout",
     "output_type": "stream",
     "text": [
      "Even Sum is 12\n",
      "Odd Sum is 9\n"
     ]
    }
   ],
   "source": [
    "lst = [1,2,3,4,5,6] # sum of Even and Odd integer\n",
    "e = 0\n",
    "o = 0\n",
    "for i in lst:\n",
    "\n",
    " if i%2==0:\n",
    "   e=e+i\n",
    " else:\n",
    "  o=o+i\n",
    "\n",
    "print(\"Even Sum is {}\".format(e))\n",
    "print(\"Odd Sum is {}\".format(o))   \n"
   ]
  },
  {
   "cell_type": "markdown",
   "metadata": {},
   "source": [
    "### **Using the *range()* Function with for Loops:**\n",
    " - *range()* is a built-in function used to create an iterable sequence of numbers.\n",
    " - You will frequently use *range()* with a for loop to repeat an action a certain number of times, as in this example:\n",
    "\n"
   ]
  },
  {
   "cell_type": "code",
   "execution_count": 94,
   "metadata": {},
   "outputs": [
    {
     "name": "stdout",
     "output_type": "stream",
     "text": [
      "0\n",
      "1\n",
      "2\n",
      "3\n",
      "4\n"
     ]
    }
   ],
   "source": [
    "for i in range(5):\n",
    " print(i)"
   ]
  },
  {
   "cell_type": "code",
   "execution_count": 95,
   "metadata": {},
   "outputs": [
    {
     "name": "stdout",
     "output_type": "stream",
     "text": [
      "1\n",
      "2\n",
      "3\n",
      "4\n",
      "5\n"
     ]
    }
   ],
   "source": [
    "for i in range(5):\n",
    " print(i+1)"
   ]
  },
  {
   "cell_type": "code",
   "execution_count": 52,
   "metadata": {},
   "outputs": [
    {
     "name": "stdout",
     "output_type": "stream",
     "text": [
      "I Miss you !\n",
      "I Miss you !\n",
      "I Miss you !\n",
      "I Miss you !\n"
     ]
    }
   ],
   "source": [
    "for i in range(4):\n",
    "    print('I Miss you !')"
   ]
  },
  {
   "cell_type": "code",
   "execution_count": 72,
   "metadata": {},
   "outputs": [
    {
     "name": "stdout",
     "output_type": "stream",
     "text": [
      "2\n",
      "3\n",
      "4\n",
      "5\n"
     ]
    }
   ],
   "source": [
    "for i in range(2, 6):\n",
    "  print(i)"
   ]
  },
  {
   "cell_type": "markdown",
   "metadata": {},
   "source": [
    "### **range(start=0, stop, step=1)**\n",
    "The range() function takes three integer arguments, the first and third of which are optional:\n",
    "\n",
    "- The 'start' argument is the first number of the sequence. If unspecified, 'start' defaults to 0.\n",
    "- The 'stop' argument is 1 more than the last number of the sequence. This argument must be specified.\n",
    "- The 'step' argument is the difference between each number in the sequence. If unspecified, 'step' defaults to 1."
   ]
  },
  {
   "cell_type": "code",
   "execution_count": 79,
   "metadata": {},
   "outputs": [
    {
     "name": "stdout",
     "output_type": "stream",
     "text": [
      "I Miss You!\n",
      "I Miss You!\n",
      "I Miss You!\n",
      "I Miss You!\n",
      "I Miss You!\n"
     ]
    }
   ],
   "source": [
    "for i in range(5):\n",
    "  print('I Miss You!')"
   ]
  },
  {
   "cell_type": "code",
   "execution_count": 76,
   "metadata": {},
   "outputs": [
    {
     "name": "stdout",
     "output_type": "stream",
     "text": [
      "1\n",
      "2\n",
      "3\n",
      "4\n",
      "5\n",
      "6\n",
      "7\n",
      "8\n",
      "9\n",
      "10\n"
     ]
    }
   ],
   "source": [
    "for i in range (1,11):\n",
    "   print(i)"
   ]
  },
  {
   "cell_type": "code",
   "execution_count": 74,
   "metadata": {},
   "outputs": [
    {
     "name": "stdout",
     "output_type": "stream",
     "text": [
      "1\n",
      "3\n",
      "5\n",
      "7\n",
      "9\n"
     ]
    }
   ],
   "source": [
    "for i in range(1, 10, 2):\n",
    "  print(i)"
   ]
  },
  {
   "cell_type": "code",
   "execution_count": 67,
   "metadata": {},
   "outputs": [
    {
     "name": "stdout",
     "output_type": "stream",
     "text": [
      "2\n",
      "4\n",
      "6\n",
      "8\n",
      "10\n",
      "12\n",
      "14\n",
      "16\n",
      "18\n",
      "20\n"
     ]
    }
   ],
   "source": [
    "# 10 even number\n",
    "for i in range(2,22,2):\n",
    "    print(i)"
   ]
  },
  {
   "cell_type": "code",
   "execution_count": 72,
   "metadata": {},
   "outputs": [
    {
     "name": "stdout",
     "output_type": "stream",
     "text": [
      "1\n",
      "3\n",
      "5\n",
      "7\n",
      "9\n",
      "11\n",
      "13\n",
      "15\n",
      "17\n",
      "19\n"
     ]
    }
   ],
   "source": [
    "# 10 Odd number\n",
    "for i in range(1,21,2):\n",
    "    print(i)"
   ]
  },
  {
   "cell_type": "code",
   "execution_count": 65,
   "metadata": {},
   "outputs": [
    {
     "name": "stdout",
     "output_type": "stream",
     "text": [
      "5\n",
      "10\n",
      "15\n",
      "20\n",
      "25\n",
      "30\n",
      "35\n",
      "40\n",
      "45\n",
      "50\n"
     ]
    }
   ],
   "source": [
    "for i in range(5, 55, 5):\n",
    "    print(i)"
   ]
  },
  {
   "cell_type": "code",
   "execution_count": 50,
   "metadata": {},
   "outputs": [
    {
     "name": "stdout",
     "output_type": "stream",
     "text": [
      "The Multiplication table of: 7\n",
      "7 x 1 = 7\n",
      "7 x 2 = 14\n",
      "7 x 3 = 21\n",
      "7 x 4 = 28\n",
      "7 x 5 = 35\n",
      "7 x 6 = 42\n",
      "7 x 7 = 49\n",
      "7 x 8 = 56\n",
      "7 x 9 = 63\n",
      "7 x 10 = 70\n"
     ]
    }
   ],
   "source": [
    "num = int(input('Enter Number: '))\n",
    "print('The Multiplication table of:',num)\n",
    "for i in range(1,11):\n",
    "    print(num,'x',i,'=',num*i)"
   ]
  },
  {
   "cell_type": "code",
   "execution_count": 5,
   "metadata": {},
   "outputs": [
    {
     "name": "stdout",
     "output_type": "stream",
     "text": [
      "10 x 1 = 10\n",
      "10 x 2 = 20\n",
      "10 x 3 = 30\n",
      "10 x 4 = 40\n",
      "10 x 5 = 50\n",
      "10 x 6 = 60\n",
      "10 x 7 = 70\n",
      "10 x 8 = 80\n",
      "10 x 9 = 90\n",
      "10 x 10 = 100\n"
     ]
    }
   ],
   "source": [
    "n = 10\n",
    "for i in range(1,11):\n",
    "    print(n,'x',i,'=',n*i)"
   ]
  },
  {
   "cell_type": "code",
   "execution_count": 9,
   "metadata": {},
   "outputs": [
    {
     "name": "stdout",
     "output_type": "stream",
     "text": [
      "7 x 1 = 7\n",
      "7 x 2 = 14\n",
      "7 x 3 = 21\n",
      "7 x 4 = 28\n",
      "7 x 5 = 35\n",
      "7 x 6 = 42\n",
      "7 x 7 = 49\n",
      "7 x 8 = 56\n",
      "7 x 9 = 63\n",
      "7 x 10 = 70\n"
     ]
    }
   ],
   "source": [
    "n = int(input(\"Enter Number: \"))\n",
    "for i in range(1,11):\n",
    "    print(n,'x',i,'=',n*i)"
   ]
  },
  {
   "cell_type": "code",
   "execution_count": 61,
   "metadata": {},
   "outputs": [
    {
     "name": "stdout",
     "output_type": "stream",
     "text": [
      "2 3 4 5 6 7 8 9\n",
      "4 6 8 10 12 14 16 18\n",
      "6 9 12 15 18 21 24 27\n",
      "8 12 16 20 24 28 32 36\n",
      "10 15 20 25 30 35 40 45\n",
      "12 18 24 30 36 42 48 54\n",
      "14 21 28 35 42 49 56 63\n",
      "16 24 32 40 48 56 64 72\n",
      "18 27 36 45 54 63 72 81\n",
      "20 30 40 50 60 70 80 90\n"
     ]
    }
   ],
   "source": [
    "n,m,p,q,r,s,t,u = 2,3,4,5,6,7,8,9\n",
    "\n",
    "for i in range(1,11):\n",
    "    print(n*i,m*i,p*i,q*i,r*i,s*i,t*i,u*i)"
   ]
  },
  {
   "cell_type": "code",
   "execution_count": 115,
   "metadata": {},
   "outputs": [
    {
     "name": "stdout",
     "output_type": "stream",
     "text": [
      "3\n"
     ]
    }
   ],
   "source": [
    "tokens = ['<SWATI Dwivedi>','PIYUSH Pandey','<MOHAN Pandey>','</KAJAL Pandey>']\n",
    "count = 0\n",
    "\n",
    "for token in tokens:\n",
    "    if token.startswith(\"<\") and token.endswith(\">\"):\n",
    "        count += 1\n",
    "\n",
    "\n",
    "print(count )"
   ]
  },
  {
   "cell_type": "code",
   "execution_count": 121,
   "metadata": {},
   "outputs": [
    {
     "name": "stdout",
     "output_type": "stream",
     "text": [
      "Joey Tribbiani\n",
      "Monica Geller\n",
      "Phoebe Buffay\n",
      "Ross Geller\n"
     ]
    }
   ],
   "source": [
    "# Dictionary\n",
    "cast = {\n",
    "           \"Joey Tribbiani\": \"Joey Tribbiani\",\n",
    "           \"Monica Geller\": \"Chandler Bing\",\n",
    "           \"Phoebe Buffay\": \"Mike Hannigan\",\n",
    "           \"Ross Geller\": \"Rachel Green\"\n",
    "       }\n",
    "for i in cast:\n",
    "    print(i)"
   ]
  },
  {
   "cell_type": "code",
   "execution_count": 122,
   "metadata": {},
   "outputs": [
    {
     "name": "stdout",
     "output_type": "stream",
     "text": [
      "Partner 1: Joey Tribbiani    Partner 2: Joey Tribbiani\n",
      "Partner 1: Monica Geller    Partner 2: Chandler Bing\n",
      "Partner 1: Phoebe Buffay    Partner 2: Mike Hannigan\n",
      "Partner 1: Ross Geller    Partner 2: Rachel Green\n"
     ]
    }
   ],
   "source": [
    "for key, value in cast.items():\n",
    "    print(\"Partner 1: {}    Partner 2: {}\".format(key, value))"
   ]
  },
  {
   "cell_type": "markdown",
   "metadata": {},
   "source": [
    "- For loops are an example of definite iteration, meaning that the loops body is run a predefined no of times.\n",
    "- A for loop over a list executes the body for each element in the list, a for loop using the range function will execute a no of times specified by the range function."
   ]
  },
  {
   "cell_type": "markdown",
   "metadata": {},
   "source": [
    "### While Loop \n",
    "- Certain statement will be excuted repeatedly.\n",
    "- This deffer from indefinite iteration ie. when a loop repeats an unknown no of times, and ends when some condition is met.\n",
    "- While loop is an example of indefinite iteration. Here is an example:\n",
    "- The condition is evaluated at the start of each loop iteration, and if it is true, the loop body is executed.\n",
    "- The loop is terminated if the condition is false."
   ]
  },
  {
   "cell_type": "code",
   "execution_count": 4,
   "metadata": {},
   "outputs": [
    {
     "name": "stdout",
     "output_type": "stream",
     "text": [
      "r ?\n",
      "a ?\n",
      "d ?\n",
      "h ?\n",
      "a ?\n"
     ]
    }
   ],
   "source": [
    "for i in \"Radha\":\n",
    "    print(i.lower(),\"?\")"
   ]
  },
  {
   "cell_type": "code",
   "execution_count": 8,
   "metadata": {},
   "outputs": [
    {
     "name": "stdout",
     "output_type": "stream",
     "text": [
      "S\n",
      "A\n",
      "R\n",
      "A\n",
      "S\n",
      "W\n",
      "A\n",
      "T\n",
      "I\n",
      " \n",
      "M\n",
      "A\n",
      "T\n",
      "A\n"
     ]
    }
   ],
   "source": [
    "a= \"Saraswati mata\"\n",
    "for i in a:\n",
    "    print(i.upper())"
   ]
  },
  {
   "cell_type": "code",
   "execution_count": 62,
   "metadata": {},
   "outputs": [
    {
     "name": "stdout",
     "output_type": "stream",
     "text": [
      "1\n",
      "2\n",
      "3\n",
      "4\n",
      "5\n"
     ]
    }
   ],
   "source": [
    "i = 1\n",
    "while i <=5:\n",
    "    print(i)\n",
    "    i +=1"
   ]
  },
  {
   "cell_type": "code",
   "execution_count": 42,
   "metadata": {},
   "outputs": [
    {
     "name": "stdout",
     "output_type": "stream",
     "text": [
      "0\n",
      "1\n",
      "2\n",
      "3\n",
      "4\n",
      "5\n",
      "6\n",
      "7\n",
      "8\n",
      "9\n"
     ]
    }
   ],
   "source": [
    "name = [1,2,3,10,11,14,23,26,34,101]\n",
    "i = 0\n",
    "while i < len(name):\n",
    "    print(i)\n",
    "    i +=1"
   ]
  },
  {
   "cell_type": "code",
   "execution_count": 43,
   "metadata": {},
   "outputs": [
    {
     "name": "stdout",
     "output_type": "stream",
     "text": [
      "[1, 2, 3, 10, 11, 14, 23, 26, 34]\n",
      "[1, 2, 3, 10, 11, 14, 23, 26, 34]\n",
      "[1, 2, 3, 10, 11, 14, 23, 26, 34]\n",
      "[1, 2, 3, 10, 11, 14, 23, 26, 34]\n",
      "[1, 2, 3, 10, 11, 14, 23, 26, 34]\n",
      "[1, 2, 3, 10, 11, 14, 23, 26, 34]\n",
      "[1, 2, 3, 10, 11, 14, 23, 26, 34]\n",
      "[1, 2, 3, 10, 11, 14, 23, 26, 34]\n",
      "[1, 2, 3, 10, 11, 14, 23, 26, 34]\n"
     ]
    }
   ],
   "source": [
    "n = [1,2,3,10,11,14,23,26,34]\n",
    "i = 0\n",
    "while i < len(n):\n",
    "    print(n)\n",
    "    i +=1"
   ]
  },
  {
   "cell_type": "code",
   "execution_count": 132,
   "metadata": {},
   "outputs": [
    {
     "name": "stdout",
     "output_type": "stream",
     "text": [
      "Hello\n",
      "Hello\n",
      "Hello\n",
      "Hello\n",
      "Hello\n"
     ]
    }
   ],
   "source": [
    "i = 0\n",
    "while i < 5:\n",
    "    print(\"Hello\")\n",
    "    i += 1"
   ]
  },
  {
   "cell_type": "markdown",
   "metadata": {},
   "source": [
    "### Else with while loop"
   ]
  },
  {
   "cell_type": "code",
   "execution_count": 158,
   "metadata": {},
   "outputs": [
    {
     "name": "stdout",
     "output_type": "stream",
     "text": [
      "2\n",
      "4\n",
      "6\n",
      "8\n",
      "10\n",
      "while loop done\n"
     ]
    }
   ],
   "source": [
    "i = 2\n",
    "while i <= 10:\n",
    "    print(i)\n",
    "    i += 2\n",
    "else:\n",
    "    print(\"while loop done\")"
   ]
  },
  {
   "cell_type": "code",
   "execution_count": 138,
   "metadata": {},
   "outputs": [
    {
     "name": "stdout",
     "output_type": "stream",
     "text": [
      "1\n",
      "3\n",
      "5\n",
      "7\n",
      "9\n"
     ]
    }
   ],
   "source": [
    "i = 1\n",
    "while i <= 9:\n",
    "    print(i)\n",
    "    i += 2"
   ]
  },
  {
   "cell_type": "code",
   "execution_count": 140,
   "metadata": {},
   "outputs": [
    {
     "name": "stdout",
     "output_type": "stream",
     "text": [
      "Goodbye\n",
      "Goodbye\n",
      "Goodbye\n"
     ]
    }
   ],
   "source": [
    "i = 0\n",
    "while i < 3:\n",
    "    print(\"Goodbye\")\n",
    "    i += 1"
   ]
  },
  {
   "cell_type": "code",
   "execution_count": 136,
   "metadata": {},
   "outputs": [
    {
     "name": "stdout",
     "output_type": "stream",
     "text": [
      "10\n",
      "9\n",
      "8\n",
      "7\n",
      "6\n",
      "5\n",
      "4\n",
      "3\n",
      "2\n",
      "1\n"
     ]
    }
   ],
   "source": [
    "i = 10\n",
    "while i >= 1:\n",
    "    print(i)\n",
    "    i -= 1"
   ]
  },
  {
   "cell_type": "code",
   "execution_count": 124,
   "metadata": {},
   "outputs": [
    {
     "name": "stdout",
     "output_type": "stream",
     "text": [
      "1\n",
      "2\n",
      "3\n",
      "4\n",
      "5\n",
      "6\n",
      "7\n",
      "8\n",
      "9\n",
      "10\n"
     ]
    }
   ],
   "source": [
    "i = 1\n",
    "while i <= 10:\n",
    "    print(i)\n",
    "    i += 1"
   ]
  },
  {
   "cell_type": "code",
   "execution_count": 125,
   "metadata": {},
   "outputs": [
    {
     "name": "stdout",
     "output_type": "stream",
     "text": [
      "2\n",
      "4\n",
      "6\n",
      "8\n",
      "10\n",
      "12\n",
      "14\n",
      "16\n",
      "18\n",
      "20\n"
     ]
    }
   ],
   "source": [
    "i = 2 #Even Number\n",
    "while i <= 20:\n",
    "    print(i)\n",
    "    i += 2"
   ]
  },
  {
   "cell_type": "code",
   "execution_count": 128,
   "metadata": {},
   "outputs": [
    {
     "name": "stdout",
     "output_type": "stream",
     "text": [
      "1\n",
      "3\n",
      "5\n",
      "7\n",
      "9\n",
      "11\n",
      "13\n",
      "15\n",
      "17\n",
      "19\n"
     ]
    }
   ],
   "source": [
    "i = 1 #Odd Number\n",
    "while i <= 20:\n",
    "    print(i)\n",
    "    i += 2"
   ]
  },
  {
   "cell_type": "code",
   "execution_count": 144,
   "metadata": {},
   "outputs": [
    {
     "name": "stdout",
     "output_type": "stream",
     "text": [
      "10\n",
      "11\n",
      "12\n",
      "13\n",
      "14\n",
      "15\n",
      "16\n",
      "17\n",
      "18\n",
      "19\n",
      "20\n",
      "21\n",
      "22\n",
      "23\n",
      "24\n",
      "25\n"
     ]
    }
   ],
   "source": [
    "#Count from 5 to 15:\n",
    "\n",
    "\n",
    "i = 10\n",
    "while i <= 25:\n",
    "    print(i)\n",
    "    i += 1"
   ]
  },
  {
   "cell_type": "code",
   "execution_count": 145,
   "metadata": {},
   "outputs": [
    {
     "name": "stdout",
     "output_type": "stream",
     "text": [
      "20\n",
      "18\n",
      "16\n",
      "14\n",
      "12\n",
      "10\n"
     ]
    }
   ],
   "source": [
    "# Print numbers from 20 to 10, decrementing by 2:\n",
    "\n",
    "i = 20\n",
    "while i >= 10:\n",
    "    print(i)\n",
    "    i -= 2"
   ]
  },
  {
   "cell_type": "code",
   "execution_count": 151,
   "metadata": {},
   "outputs": [
    {
     "name": "stdout",
     "output_type": "stream",
     "text": [
      "Hello World\n",
      "Hello World\n",
      "Hello World\n",
      "Hello World\n",
      "Hello World\n"
     ]
    }
   ],
   "source": [
    "#Print \"Hello World\" 2 times:\n",
    "i = 0\n",
    "while i < 5:\n",
    "    print(\"Hello World\")\n",
    "    i += 1"
   ]
  },
  {
   "cell_type": "code",
   "execution_count": 156,
   "metadata": {},
   "outputs": [
    {
     "name": "stdout",
     "output_type": "stream",
     "text": [
      "1\n",
      "2\n",
      "3\n",
      "4\n",
      "5\n",
      "6\n",
      "7\n",
      "8\n",
      "9\n",
      "10\n"
     ]
    }
   ],
   "source": [
    "# Print numbers from 1 to 10 or until a multiple of 3 is reached:\n",
    "\n",
    "\n",
    "i = 1\n",
    "while i <= 10:\n",
    "    print(i)\n",
    "    i += 1"
   ]
  },
  {
   "cell_type": "markdown",
   "metadata": {},
   "source": [
    " - The while loop heading always ends with a colon :.\n",
    " Indented after this heading is the body of the while loop. If the condition for the while loop is true, the code lines in the loop's body will be executed.\n",
    " We then go back to the while heading line, and the condition is evaluated again. This process of checking the condition and then executing the loop repeats until the condition becomes false.\n",
    " When the condition becomes false, we move on to the line following the body of the loop, which will be unindented.\n",
    "\n",
    "The indented body of the loop should modify at least one variable in the test condition. If the value of the test condition never changes, the result is an infinite loop!"
   ]
  },
  {
   "cell_type": "code",
   "execution_count": 4,
   "metadata": {},
   "outputs": [
    {
     "name": "stdout",
     "output_type": "stream",
     "text": [
      "8\n",
      "8\n",
      "8\n",
      "8\n",
      "8\n",
      "8\n",
      "8\n",
      "87\n"
     ]
    }
   ],
   "source": [
    "a = int(input('Enter the value: '))\n",
    "print(a)\n",
    "while a <=10:\n",
    "    a = int(input(\"Enter Again: \"))\n",
    "    print(a)\n",
    "    a +=1"
   ]
  },
  {
   "cell_type": "code",
   "execution_count": 165,
   "metadata": {},
   "outputs": [
    {
     "name": "stdout",
     "output_type": "stream",
     "text": [
      "Big\n",
      "Small\n",
      "Big\n",
      "Small\n",
      "Big\n",
      "Small\n",
      "Big\n",
      "Small\n"
     ]
    }
   ],
   "source": [
    "i = 0\n",
    "while i < 8:\n",
    "    if i % 2 == 0:\n",
    "        print(\"Big\")\n",
    "    else:\n",
    "        print(\"Small\")\n",
    "    i += 1"
   ]
  },
  {
   "cell_type": "markdown",
   "metadata": {},
   "source": [
    "### Do-While loop in python\n",
    "- do..while is a loop in which a set of instructions will execute at least once (irrespective of the condition) and then the repetition of loop's body will depend on the condition passed at the end of the while loop. It is also known as an exit-controlled loop.\n",
    "\n",
    "- *How to emulate do while loop in python?*\n",
    "   - To create a do while loop in Python, you need to modify the while loop a bit in order to get similar behavior to a do while loop.\n",
    "\n",
    "   - The most common technique to emulate a do-while loop in Python is to use an infinite while loop with a break statement wrapped in an if statement that checks a given condition and breaks the iteration if that condition becomes true:"
   ]
  },
  {
   "cell_type": "code",
   "execution_count": 166,
   "metadata": {},
   "outputs": [
    {
     "name": "stdout",
     "output_type": "stream",
     "text": [
      "6\n",
      "7\n",
      "8\n",
      "8\n",
      "9\n",
      "9\n",
      "7\n",
      "6\n",
      "6\n",
      "5\n",
      "-5\n"
     ]
    }
   ],
   "source": [
    "while True:\n",
    "  number = int(input(\"Enter a positive number: \"))\n",
    "  print(number)\n",
    "  if not number > 0:\n",
    "    break"
   ]
  },
  {
   "cell_type": "markdown",
   "metadata": {},
   "source": [
    "## **Break and Continue:**\n",
    "#### break statement\n",
    "\n",
    "For Loop iterate over every element in a sequence, while loops iterate over every element untill stopping condition is met.\n",
    "In these cases we use the *break* keyword.\n",
    "\n",
    "-  The break statement enables a program to skip over a part of the code.\n",
    "-  A break statement terminates the very loop it lies within."
   ]
  },
  {
   "cell_type": "code",
   "execution_count": 3,
   "metadata": {},
   "outputs": [
    {
     "name": "stdout",
     "output_type": "stream",
     "text": [
      "0\n",
      "1\n",
      "2\n",
      "3\n",
      "4\n"
     ]
    }
   ],
   "source": [
    "for i in range(10):\n",
    "    if i == 5:\n",
    "        break  # Exit the loop when i is 5\n",
    "    print(i)"
   ]
  },
  {
   "cell_type": "code",
   "execution_count": 6,
   "metadata": {},
   "outputs": [
    {
     "name": "stdout",
     "output_type": "stream",
     "text": [
      "apricot\n"
     ]
    }
   ],
   "source": [
    "words = [\"banana\", \"cherry\", \"apricot\", \"coconut\", \"kiwi\", \"avocado\", \"apple\"]\n",
    "\n",
    "for word in words:\n",
    "    if word.startswith(\"A\") or word.startswith(\"a\"):\n",
    "        print(word)\n",
    "        break"
   ]
  },
  {
   "cell_type": "code",
   "execution_count": 79,
   "metadata": {},
   "outputs": [
    {
     "name": "stdout",
     "output_type": "stream",
     "text": [
      "0\n",
      "1\n",
      "2\n",
      "3\n"
     ]
    }
   ],
   "source": [
    "for i in range(9):\n",
    "    if i > 3:\n",
    "     break\n",
    "    print(i)"
   ]
  },
  {
   "cell_type": "code",
   "execution_count": 20,
   "metadata": {},
   "outputs": [
    {
     "name": "stdout",
     "output_type": "stream",
     "text": [
      "Correct password!\n"
     ]
    }
   ],
   "source": [
    "password = \"\"\n",
    "while password != \"secret\":\n",
    "    password = input(\"Enter the password: \")\n",
    "\n",
    "print(\"Correct password!\")"
   ]
  },
  {
   "cell_type": "code",
   "execution_count": 80,
   "metadata": {},
   "outputs": [
    {
     "name": "stdout",
     "output_type": "stream",
     "text": [
      "1\n",
      "2\n",
      "3\n"
     ]
    }
   ],
   "source": [
    "i = 1\n",
    "while i < 9:\n",
    "    print(i)\n",
    "    if i == 3:\n",
    "        break\n",
    "    i += 1"
   ]
  },
  {
   "cell_type": "code",
   "execution_count": 1,
   "metadata": {},
   "outputs": [
    {
     "name": "stdout",
     "output_type": "stream",
     "text": [
      "4\n",
      "3\n",
      "2\n",
      "1\n",
      "0\n"
     ]
    }
   ],
   "source": [
    "x=5\n",
    "while x>0:\n",
    "    x-=1\n",
    "    print(x)"
   ]
  },
  {
   "cell_type": "code",
   "execution_count": 200,
   "metadata": {},
   "outputs": [
    {
     "name": "stdout",
     "output_type": "stream",
     "text": [
      "0\n",
      "1\n",
      "2\n",
      "3\n",
      "4\n",
      "5\n",
      "6\n",
      "7\n",
      "8\n",
      "9\n",
      "10\n",
      "11\n",
      "12\n",
      "13\n",
      "14\n",
      "Nikal\n"
     ]
    }
   ],
   "source": [
    "i=0\n",
    "while True:\n",
    "    print(i)\n",
    "    i += 1\n",
    "    if(i%15 == 0):\n",
    "        break\n",
    "print(\"Nikal\")"
   ]
  },
  {
   "cell_type": "code",
   "execution_count": 185,
   "metadata": {},
   "outputs": [
    {
     "name": "stdout",
     "output_type": "stream",
     "text": [
      "5 x 0 = 0\n",
      "5 x 1 = 6\n",
      "5 x 2 = 12\n",
      "5 x 3 = 18\n",
      "5 x 4 = 24\n",
      "5 x 5 = 30\n",
      "5 x 6 = 36\n",
      "5 x 7 = 42\n",
      "5 x 8 = 48\n",
      "5 x 9 = 54\n",
      "Loop se nikal jao\n"
     ]
    }
   ],
   "source": [
    "for i in range (12):\n",
    "    if(i==10):\n",
    "        break\n",
    "    print(\"5 x\",i,\"=\",(5*i)+i)\n",
    "print(\"Loop se nikal jao\")"
   ]
  },
  {
   "cell_type": "code",
   "execution_count": 179,
   "metadata": {},
   "outputs": [
    {
     "name": "stdout",
     "output_type": "stream",
     "text": [
      "1\n",
      "2\n",
      "3\n",
      "4\n",
      "5\n",
      "6\n",
      "7\n",
      "8\n",
      "9\n"
     ]
    }
   ],
   "source": [
    "i = 1\n",
    "while True:\n",
    "  if(i==10):\n",
    "   break\n",
    "  print(i)\n",
    "  i = i + 1\n"
   ]
  },
  {
   "cell_type": "code",
   "execution_count": 178,
   "metadata": {},
   "outputs": [
    {
     "name": "stdout",
     "output_type": "stream",
     "text": [
      "1\n",
      "2\n",
      "3\n",
      "4\n",
      "5\n",
      "6\n",
      "7\n",
      "8\n",
      "9\n"
     ]
    }
   ],
   "source": [
    "i = 1\n",
    "while True:\n",
    "  print(i)\n",
    "  i = i + 1\n",
    "  if(i%10 == 0):\n",
    "   break\n"
   ]
  },
  {
   "cell_type": "code",
   "execution_count": 170,
   "metadata": {},
   "outputs": [
    {
     "name": "stdout",
     "output_type": "stream",
     "text": [
      "12 x 0 = 0\n",
      "12 x 1 = 12\n",
      "12 x 2 = 24\n",
      "12 x 3 = 36\n",
      "12 x 4 = 48\n",
      "12 x 5 = 60\n",
      "12 x 6 = 72\n",
      "12 x 7 = 84\n",
      "12 x 8 = 96\n",
      "12 x 9 = 108\n",
      "12 x 10 = 120\n"
     ]
    }
   ],
   "source": [
    "\n",
    "num = 12\n",
    "i = 0\n",
    "while i < 11:\n",
    "    value = num*i\n",
    "    print(num,\"x\",i,\"=\",value)\n",
    "    i +=1"
   ]
  },
  {
   "cell_type": "code",
   "execution_count": 172,
   "metadata": {},
   "outputs": [
    {
     "name": "stdout",
     "output_type": "stream",
     "text": [
      "1 Mississippi\n",
      "2 Mississippi\n",
      "3 Mississippi\n",
      "4 Mississippi\n",
      "5 Mississippi\n",
      "6 Mississippi\n",
      "7 Mississippi\n",
      "8 Mississippi\n",
      "9 Mississippi\n",
      "10 Thank you\n"
     ]
    }
   ],
   "source": [
    "for i in range(1,101,1):\n",
    "    print(i ,end=\" \")\n",
    "    if(i==10):\n",
    "        break\n",
    "    else:\n",
    "        print(\"Mississippi\")\n",
    "print(\"Thank you\")"
   ]
  },
  {
   "cell_type": "code",
   "execution_count": 195,
   "metadata": {},
   "outputs": [
    {
     "name": "stdout",
     "output_type": "stream",
     "text": [
      "5 x 0 = 0\n",
      "5 x 1 = 6\n",
      "5 x 2 = 12\n",
      "5 x 3 = 18\n",
      "5 x 4 = 24\n",
      "5 x 5 = 30\n",
      "5 x 6 = 36\n",
      "5 x 7 = 42\n",
      "5 x 8 = 48\n",
      "5 x 9 = 54\n",
      "Loop se nikal jao\n"
     ]
    }
   ],
   "source": [
    "for i in range (15):\n",
    "   \n",
    "    if(i==10):\n",
    "     break\n",
    "    print(\"5 x\",i,\"=\",(5*i)+i)\n",
    "print(\"Loop se nikal jao\")"
   ]
  },
  {
   "cell_type": "markdown",
   "metadata": {},
   "source": [
    "> break and continue keywords, which can be used in both for and while loops.\n",
    "- break terminates a loop\n",
    "- continue skips one iteration of a loop"
   ]
  },
  {
   "cell_type": "markdown",
   "metadata": {},
   "source": [
    "### Continue Statement\n",
    "- The continue statement skips the rest of the loop statements and causes the next iteration to occur."
   ]
  },
  {
   "cell_type": "code",
   "execution_count": 143,
   "metadata": {},
   "outputs": [
    {
     "name": "stdout",
     "output_type": "stream",
     "text": [
      "2\n",
      "4\n",
      "6\n",
      "8\n",
      "10\n"
     ]
    }
   ],
   "source": [
    "i = 1\n",
    "while i <= 10:\n",
    " if(i%2!=0):\n",
    "  i +=1\n",
    "  continue\n",
    " print(i)\n",
    " i+=1"
   ]
  },
  {
   "cell_type": "code",
   "execution_count": 15,
   "metadata": {},
   "outputs": [
    {
     "name": "stdout",
     "output_type": "stream",
     "text": [
      "0\n",
      "2\n"
     ]
    }
   ],
   "source": [
    "for i in range(3):\n",
    " if i == 1:\n",
    "    continue\n",
    " print(i)"
   ]
  },
  {
   "cell_type": "code",
   "execution_count": 141,
   "metadata": {},
   "outputs": [
    {
     "name": "stdout",
     "output_type": "stream",
     "text": [
      "1\n",
      "3\n",
      "5\n",
      "7\n",
      "9\n"
     ]
    }
   ],
   "source": [
    "i = 1\n",
    "while i <= 10:\n",
    " if(i%2==0):\n",
    "  i +=1\n",
    "  continue\n",
    " print(i)\n",
    " i+=1"
   ]
  },
  {
   "cell_type": "code",
   "execution_count": 142,
   "metadata": {},
   "outputs": [
    {
     "name": "stdout",
     "output_type": "stream",
     "text": [
      "9\n"
     ]
    }
   ],
   "source": [
    "i = 0  \n",
    "while i < 9:\n",
    "    i += 1 #i = i+1\n",
    "    if i == 3:\n",
    "     continue\n",
    "print(i)"
   ]
  },
  {
   "cell_type": "code",
   "execution_count": 204,
   "metadata": {},
   "outputs": [
    {
     "name": "stdout",
     "output_type": "stream",
     "text": [
      "5 x 0 = 0\n",
      "5 x 1 = 6\n",
      "5 x 2 = 12\n",
      "5 x 3 = 18\n",
      "5 x 4 = 24\n",
      "5 x 5 = 30\n",
      "5 x 6 = 36\n",
      "5 x 7 = 42\n",
      "5 x 8 = 48\n",
      "5 x 9 = 54\n",
      "Iteration ko chhod ke  nikal jao\n",
      "5 x 11 = 66\n"
     ]
    }
   ],
   "source": [
    "for i in range (12):\n",
    "    if(i==10):\n",
    "     print(\"Iteration ko chhod ke  nikal jao\")\n",
    "     continue\n",
    "    print(\"5 x\",i,\"=\",(5*i)+i)"
   ]
  },
  {
   "cell_type": "markdown",
   "metadata": {},
   "source": [
    "### Pass\n",
    "- The Pass statement is used as a placeholder for future code.\n",
    "- when the pass statement excuted nothing happens but you avoid getting an error when empty code is not allowed.\n",
    "- Empty code is not allowed in loops, function, definition class, or in if statement. "
   ]
  },
  {
   "cell_type": "code",
   "execution_count": 85,
   "metadata": {},
   "outputs": [],
   "source": [
    "#using function\n",
    "def myfunction():\n",
    "    pass"
   ]
  },
  {
   "cell_type": "code",
   "execution_count": 86,
   "metadata": {},
   "outputs": [],
   "source": [
    "#using class\n",
    "class person:\n",
    "    pass"
   ]
  },
  {
   "cell_type": "code",
   "execution_count": 88,
   "metadata": {},
   "outputs": [],
   "source": [
    "a = 2\n",
    "b = 4\n",
    "if b>a:\n",
    " pass"
   ]
  },
  {
   "cell_type": "code",
   "execution_count": 92,
   "metadata": {},
   "outputs": [
    {
     "name": "stdout",
     "output_type": "stream",
     "text": [
      "The multiplication table of: 3\n",
      "3 x 1 = 3\n",
      "3 x 2 = 6\n",
      "3 x 3 = 9\n",
      "3 x 4 = 12\n",
      "3 x 5 = 15\n",
      "3 x 6 = 18\n",
      "3 x 7 = 21\n",
      "3 x 8 = 24\n",
      "3 x 9 = 27\n",
      "3 x 10 = 30\n"
     ]
    }
   ],
   "source": [
    "n = int(input('Enter the Value:'))\n",
    "#n = 3\n",
    "print(\"The multiplication table of:\",n)\n",
    "for i in range(1,11):\n",
    "        print(n,'x',i,'=',n*i)"
   ]
  },
  {
   "cell_type": "code",
   "execution_count": 124,
   "metadata": {},
   "outputs": [
    {
     "name": "stdout",
     "output_type": "stream",
     "text": [
      "6 x 1 = 6\n",
      "6 x 2 = 12\n",
      "6 x 3 = 18\n",
      "6 x 4 = 24\n",
      "6 x 5 = 30\n",
      "6 x 6 = 36\n",
      "6 x 7 = 42\n",
      "6 x 8 = 48\n",
      "6 x 9 = 54\n",
      "6 x 10 = 60\n"
     ]
    }
   ],
   "source": [
    "#n = 2\n",
    "n = int(input('Enter the Value:'))\n",
    "i=1\n",
    "while i<11:\n",
    "    val = n*i\n",
    "    print(n,'x',i,'=',val)\n",
    "    i +=1"
   ]
  },
  {
   "cell_type": "code",
   "execution_count": 125,
   "metadata": {},
   "outputs": [
    {
     "name": "stdout",
     "output_type": "stream",
     "text": [
      "8\n",
      "16\n",
      "24\n",
      "32\n",
      "40\n",
      "48\n",
      "56\n",
      "64\n",
      "72\n",
      "80\n"
     ]
    }
   ],
   "source": [
    "n = int(input('Enter the Value:')) #n = 2\n",
    "i = 1\n",
    "while i <=10:\n",
    "    print(n*i)\n",
    "    i=i+1"
   ]
  },
  {
   "cell_type": "code",
   "execution_count": 127,
   "metadata": {},
   "outputs": [
    {
     "name": "stdout",
     "output_type": "stream",
     "text": [
      "8\n"
     ]
    }
   ],
   "source": [
    "n = 4\n",
    "i = 2\n",
    "while(n):\n",
    "    r=n%10\n",
    "    i=i*r\n",
    "    n=n//10\n",
    "    print(i)"
   ]
  },
  {
   "cell_type": "code",
   "execution_count": 140,
   "metadata": {},
   "outputs": [
    {
     "name": "stdout",
     "output_type": "stream",
     "text": [
      "120\n"
     ]
    }
   ],
   "source": [
    "# Factorial\n",
    "\n",
    "n = int(input('Enter the Value:')) #n = 2\n",
    "f = 1\n",
    "for i in range (1,n+1):\n",
    "    f = f*i\n",
    "print(f)"
   ]
  },
  {
   "cell_type": "code",
   "execution_count": 1,
   "metadata": {},
   "outputs": [
    {
     "name": "stdout",
     "output_type": "stream",
     "text": [
      "The total is: 30\n"
     ]
    }
   ],
   "source": [
    "numbers = [2, 4, 6, 8, 10]\n",
    "total = 0\n",
    "for num in numbers:\n",
    "    total += num\n",
    "print(\"The total is:\", total)"
   ]
  },
  {
   "cell_type": "code",
   "execution_count": 3,
   "metadata": {},
   "outputs": [
    {
     "name": "stdout",
     "output_type": "stream",
     "text": [
      "2  is prime\n",
      "3  is prime\n",
      "5  is prime\n",
      "7  is prime\n",
      "11  is prime\n",
      "13  is prime\n",
      "17  is prime\n",
      "19  is prime\n",
      "23  is prime\n",
      "29  is prime\n",
      "31  is prime\n",
      "37  is prime\n",
      "41  is prime\n",
      "43  is prime\n",
      "47  is prime\n",
      "53  is prime\n",
      "59  is prime\n",
      "61  is prime\n",
      "67  is prime\n",
      "71  is prime\n",
      "73  is prime\n",
      "79  is prime\n",
      "83  is prime\n",
      "89  is prime\n",
      "97  is prime\n",
      "Good bye!\n"
     ]
    }
   ],
   "source": [
    "i = 2\n",
    "while(i < 100):\n",
    " j = 2\n",
    " while(j <= (i/j)):\n",
    "   if not(i%j): break\n",
    "   j = j + 1\n",
    " if (j > i/j) :\n",
    "  print (i, \" is prime\")\n",
    " i = i + 1\n",
    "print (\"Good bye!\")"
   ]
  },
  {
   "cell_type": "code",
   "execution_count": 4,
   "metadata": {},
   "outputs": [
    {
     "name": "stdout",
     "output_type": "stream",
     "text": [
      "1\n",
      "2\n",
      "Fizz\n",
      "4\n",
      "Buzz\n",
      "Fizz\n",
      "7\n",
      "8\n",
      "Fizz\n",
      "Buzz\n",
      "11\n",
      "Fizz\n",
      "13\n",
      "14\n",
      "FizzBuzz\n",
      "16\n",
      "17\n",
      "Fizz\n",
      "19\n",
      "Buzz\n",
      "Fizz\n",
      "22\n",
      "23\n",
      "Fizz\n",
      "Buzz\n",
      "26\n",
      "Fizz\n",
      "28\n",
      "29\n",
      "FizzBuzz\n",
      "31\n",
      "32\n",
      "Fizz\n",
      "34\n",
      "Buzz\n",
      "Fizz\n",
      "37\n",
      "38\n",
      "Fizz\n",
      "Buzz\n",
      "41\n",
      "Fizz\n",
      "43\n",
      "44\n",
      "FizzBuzz\n",
      "46\n",
      "47\n",
      "Fizz\n",
      "49\n",
      "Buzz\n",
      "Fizz\n",
      "52\n",
      "53\n",
      "Fizz\n",
      "Buzz\n",
      "56\n",
      "Fizz\n",
      "58\n",
      "59\n",
      "FizzBuzz\n",
      "61\n",
      "62\n",
      "Fizz\n",
      "64\n",
      "Buzz\n",
      "Fizz\n",
      "67\n",
      "68\n",
      "Fizz\n",
      "Buzz\n",
      "71\n",
      "Fizz\n",
      "73\n",
      "74\n",
      "FizzBuzz\n",
      "76\n",
      "77\n",
      "Fizz\n",
      "79\n",
      "Buzz\n",
      "Fizz\n",
      "82\n",
      "83\n",
      "Fizz\n",
      "Buzz\n",
      "86\n",
      "Fizz\n",
      "88\n",
      "89\n",
      "FizzBuzz\n",
      "91\n",
      "92\n",
      "Fizz\n",
      "94\n",
      "Buzz\n",
      "Fizz\n",
      "97\n",
      "98\n",
      "Fizz\n",
      "Buzz\n"
     ]
    }
   ],
   "source": [
    "count = 1\n",
    "while True:\n",
    "  if count % 3 == 0 and count % 5 == 0:\n",
    "      print(\"FizzBuzz\")\n",
    "      count = count + 1\n",
    "      continue\n",
    "  if count % 3 == 0:\n",
    "      print(\"Fizz\")\n",
    "      count = count + 1\n",
    "      continue\n",
    "  if count % 5 == 0:\n",
    "      print(\"Buzz\")\n",
    "      count = count + 1\n",
    "      continue\n",
    "  if count > 100:\n",
    "      break\n",
    "  print(count)\n",
    "  count = count + 1"
   ]
  }
 ],
 "metadata": {
  "kernelspec": {
   "display_name": "Python 3",
   "language": "python",
   "name": "python3"
  },
  "language_info": {
   "codemirror_mode": {
    "name": "ipython",
    "version": 3
   },
   "file_extension": ".py",
   "mimetype": "text/x-python",
   "name": "python",
   "nbconvert_exporter": "python",
   "pygments_lexer": "ipython3",
   "version": "3.11.3"
  }
 },
 "nbformat": 4,
 "nbformat_minor": 2
}
