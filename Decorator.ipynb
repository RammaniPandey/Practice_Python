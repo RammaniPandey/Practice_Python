{
 "cells": [
  {
   "cell_type": "markdown",
   "metadata": {},
   "source": [
    "### **Decorator**\n",
    "Decorators allow us to wrap another function in order to extend the behaviour of the wrapped function,\n",
    "without permanently modifying it. But before diving deep into decorators let us understand some concepts that will come in handy in learning the decorators.\n",
    "- a decorator wraps a function and adds extra functionality without altering the original function.\n",
    "- Decorators are applied using the @ symbol above the function you want to modify."
   ]
  },
  {
   "cell_type": "markdown",
   "metadata": {},
   "source": [
    "**Decorators kya hote hain?**\n",
    "Dekho, socho ki tumhare paas ek simple function hai. Wo function ek kaam karta hai, jaise kisi ka naam print karna.<br>Ab decorators ka kaam yeh hota hai ki wo us function ke upar extra features add kar sakta hai, bina us function ko permanently badle.\n",
    "\n",
    "Jaise tum ek gift ko achhi wrapping paper mein lapet (wrap) dete ho. Gift wo hi rehta hai, par ab wo aur zyada sundar lagta hai. Decorator bhi aise hi function ko wrap karta hai aur usme extra cheezein daal deta hai, bina usko change kiye.\n",
    "\n",
    "Example:\n",
    "Tumhare paas ek function hai jo naam print karta hai.\n",
    "Ab tum chahte ho ki jab bhi yeh function chale, uske aage \"Hello!\" aur peeche \"Have a great day!\" likha aaye.\n",
    "Iske liye tum decorator ka use karoge, jo function ko wrap karega aur extra cheezein add kar dega."
   ]
  },
  {
   "cell_type": "code",
   "execution_count": 8,
   "metadata": {},
   "outputs": [
    {
     "name": "stdout",
     "output_type": "stream",
     "text": [
      "Hello!\n",
      "My name is Rammani\n",
      "Have a great day!\n"
     ]
    }
   ],
   "source": [
    "def greet_decorator(func):\n",
    "    def wrapper():\n",
    "        print(\"Hello!\")  # Extra feature\n",
    "        func()  # Original function's work\n",
    "        print(\"Have a great day!\")  # Extra feature\n",
    "    return wrapper\n",
    "\n",
    "# Simple function that just prints a name\n",
    "def say_name():\n",
    "    print(\"My name is Rammani\")\n",
    "\n",
    "# Now we decorate this function\n",
    "decorated_function = greet_decorator(say_name)\n",
    "decorated_function()  # See, extra things are added!"
   ]
  },
  {
   "cell_type": "markdown",
   "metadata": {},
   "source": [
    "A decorator means wrapping a function to add new features without modifying the function's original code. It's like enhancing the function in a temporary way!"
   ]
  },
  {
   "cell_type": "code",
   "execution_count": 13,
   "metadata": {},
   "outputs": [
    {
     "name": "stdout",
     "output_type": "stream",
     "text": [
      "Hello!\n",
      "My name is Rammani\n",
      "Have a great day!\n"
     ]
    }
   ],
   "source": [
    "def greet_decorator(func):\n",
    "    def wrapper():\n",
    "        print(\"Hello!\")\n",
    "        func()  # Call the original function\n",
    "        print(\"Have a great day!\")\n",
    "    return wrapper\n",
    "\n",
    "@greet_decorator  # Applying the decorator\n",
    "def say_name():\n",
    "    print(\"My name is Rammani\")\n",
    "\n",
    "say_name()"
   ]
  },
  {
   "cell_type": "markdown",
   "metadata": {},
   "source": [
    "#### Static method in python\n",
    "\n",
    "it is also called as decorator.<br>\n",
    "method that don't use the self parameter (work at class level).<br>\n",
    "Decorator allowes us to wrap another function in order to extend the behaviour of the wrapped function without parmanently modifying it.\n",
    "- use @staticmethod Declares a static method that doesn't need access to the instance or class."
   ]
  },
  {
   "cell_type": "code",
   "execution_count": 17,
   "metadata": {},
   "outputs": [
    {
     "name": "stdout",
     "output_type": "stream",
     "text": [
      "Sum: 15\n"
     ]
    }
   ],
   "source": [
    "class MathOperations:\n",
    "    @staticmethod\n",
    "    def add(x, y):\n",
    "        return x + y\n",
    "\n",
    "# Calling the static method\n",
    "result = MathOperations.add(5, 10)\n",
    "print(\"Sum:\", result)"
   ]
  },
  {
   "cell_type": "code",
   "execution_count": 18,
   "metadata": {},
   "outputs": [],
   "source": [
    "class student:\n",
    "    @staticmethod # decorator\n",
    "    def boy():  #Not need to pass self parameter\n",
    "        name = 'rammani'\n",
    "        print(name)"
   ]
  },
  {
   "cell_type": "code",
   "execution_count": 19,
   "metadata": {},
   "outputs": [
    {
     "name": "stdout",
     "output_type": "stream",
     "text": [
      "rammani\n",
      "None\n"
     ]
    }
   ],
   "source": [
    "obj = student()\n",
    "print(obj.boy())"
   ]
  },
  {
   "cell_type": "markdown",
   "metadata": {},
   "source": [
    "- It does not require a reference to the instance (i.e., it doesn't take self as its first argument) and can be called on the class itself or on instances of the class.\n",
    "- Static methods are defined using the @staticmethod decorator."
   ]
  },
  {
   "cell_type": "code",
   "execution_count": 10,
   "metadata": {},
   "outputs": [
    {
     "name": "stdout",
     "output_type": "stream",
     "text": [
      "Addition: 8\n",
      "Subtraction: 2\n",
      "Multiplication: 15\n",
      "Remainder: 2\n"
     ]
    }
   ],
   "source": [
    "class MathOperations:\n",
    "    @staticmethod\n",
    "    def add(x, y):\n",
    "        return x + y\n",
    "    \n",
    "    @staticmethod\n",
    "    def subtract(x, y):\n",
    "        return x - y\n",
    "    \n",
    "    @staticmethod\n",
    "    def multi(x, y):\n",
    "        return x * y\n",
    "    \n",
    "    @staticmethod\n",
    "    def division(x, y):\n",
    "        return x / y\n",
    "    \n",
    "    @staticmethod\n",
    "    def remainder(x, y):\n",
    "        return x % y\n",
    "\n",
    "# Calling static methods\n",
    "result_add = MathOperations.add(5, 3)\n",
    "result_subtract = MathOperations.subtract(5, 3)\n",
    "result_multi = MathOperations.multi(5, 3)\n",
    "result_division = MathOperations.division(5, 3)\n",
    "result_remainder = MathOperations.remainder(5, 3)\n",
    "\n",
    "print(\"Addition:\", result_add)        # Output: Addition: 8\n",
    "print(\"Subtraction:\", result_subtract)  # Output: Subtraction: 2\n",
    "print(\"Multiplication:\", result_multi)\n",
    "print(\"Remainder:\", result_remainder)"
   ]
  },
  {
   "cell_type": "code",
   "execution_count": 12,
   "metadata": {},
   "outputs": [
    {
     "name": "stdout",
     "output_type": "stream",
     "text": [
      "Division: 1.6666666666666667\n"
     ]
    }
   ],
   "source": [
    "print(\"Division:\",(result_division))"
   ]
  },
  {
   "cell_type": "markdown",
   "metadata": {},
   "source": [
    "\n",
    "**Static Method:** Defined with @staticmethod, does not access instance or class data, useful for utility functions.<br>\n",
    "**Decorator:** The @staticmethod is a decorator that modifies the behavior of a method, allowing it to be called on the class rather than an instance.\n",
    "- Used to define static methods that do not operate on instance variables or class variables.\n",
    "- Can be called on the class or instance without the self parameter."
   ]
  },
  {
   "cell_type": "markdown",
   "metadata": {},
   "source": [
    "#### Class Method"
   ]
  },
  {
   "cell_type": "markdown",
   "metadata": {},
   "source": [
    "- Declares a method that receives the class (cls) as the first argument.\n",
    "- A class method receives the class as its first argument (usually named cls) and can modify class state that applies across all instances of the class."
   ]
  },
  {
   "cell_type": "code",
   "execution_count": 16,
   "metadata": {},
   "outputs": [
    {
     "name": "stdout",
     "output_type": "stream",
     "text": [
      "Rammani Pandey\n",
      "Rammani Pandey\n"
     ]
    }
   ],
   "source": [
    "class stud:\n",
    "    name = 'Radha'\n",
    "\n",
    "    @classmethod\n",
    "    def changename(cls,name):\n",
    "        cls.name = name\n",
    "\n",
    "\n",
    "ob = stud()\n",
    "ob.changename(\"Rammani Pandey\")\n",
    "print(ob.name)\n",
    "print(stud.name)"
   ]
  },
  {
   "cell_type": "code",
   "execution_count": 3,
   "metadata": {},
   "outputs": [
    {
     "name": "stdout",
     "output_type": "stream",
     "text": [
      "Name: Rammani, Age: 10, School: ABC School\n",
      "Name: Mohan, Age: 12, School: ABC School\n"
     ]
    }
   ],
   "source": [
    "class Student:\n",
    "    # School ka naam jo sab students share karte hain\n",
    "    school_name = \"ABC School\"\n",
    "\n",
    "    # Har student ka naam aur age hota hai\n",
    "    def __init__(self, name, age):\n",
    "        self.name = name\n",
    "        self.age = age\n",
    "\n",
    "    # Class method jo school ka naam badalta hai\n",
    "    @classmethod\n",
    "    def change_school(cls, new_school):\n",
    "        cls.school_name = new_school  # Sab students ke liye school ka naam badal gaya\n",
    "\n",
    "    # Student ki info dikhane ka method\n",
    "    def show_info(self):\n",
    "        print(f\"Name: {self.name}, Age: {self.age}, School: {Student.school_name}\")\n",
    "\n",
    "# Chalo ab do students banate hain\n",
    "student1 = Student(\"Rammani\", 10)\n",
    "student2 = Student(\"Mohan\", 12)\n",
    "\n",
    "# Dono students ek hi school mein hain\n",
    "student1.show_info()  # Name: Rammani, Age: 10, School: ABC School\n",
    "student2.show_info()  # Name: Mohan, Age: 12, School: ABC School"
   ]
  },
  {
   "cell_type": "code",
   "execution_count": 4,
   "metadata": {},
   "outputs": [
    {
     "name": "stdout",
     "output_type": "stream",
     "text": [
      "Name: Rammani, Age: 10, School: XYZ School\n",
      "Name: Mohan, Age: 12, School: XYZ School\n"
     ]
    }
   ],
   "source": [
    "# Ab school ka naam badal gaya\n",
    "Student.change_school(\"XYZ School\")\n",
    "\n",
    "# Dono students ko ab naya school pata hai\n",
    "student1.show_info()  # Name: Rammani, Age: 10, School: XYZ School\n",
    "student2.show_info()  # Name: Mohan, Age: 12, School: XYZ School"
   ]
  },
  {
   "cell_type": "code",
   "execution_count": 22,
   "metadata": {},
   "outputs": [
    {
     "name": "stdout",
     "output_type": "stream",
     "text": [
      "Total Employees: 4\n"
     ]
    }
   ],
   "source": [
    "class Employee:\n",
    "    number_of_employees = 0  # Class variable\n",
    "\n",
    "    def __init__(self, name):\n",
    "        self.name = name\n",
    "        Employee.number_of_employees += 1\n",
    "\n",
    "    @classmethod\n",
    "    def get_employee_count(cls):\n",
    "        return cls.number_of_employees\n",
    "\n",
    "# Creating employees\n",
    "emp1 = Employee(\"Alice\")\n",
    "emp2 = Employee(\"Bob\")\n",
    "emp3 = Employee(\"john\")\n",
    "emp4 = Employee(\"cathaly\")\n",
    "\n",
    "# Calling the class method\n",
    "print(\"Total Employees:\", Employee.get_employee_count())"
   ]
  },
  {
   "cell_type": "markdown",
   "metadata": {},
   "source": [
    "**Normal Method:** Sirf ek student se baat karta hai (jaise \"tumhara naam kya hai?\").<br>\n",
    "**Class Method (@classmethod):** Sab students se ek saath baat karta hai (jaise \"school ka naam change ho gaya!\")."
   ]
  },
  {
   "cell_type": "markdown",
   "metadata": {},
   "source": [
    "## **Super () function**\n",
    "- Super() is used to access method of the parent class.\n",
    "- used to give access to methods and properties of a parent or subclass/sibling class.\n",
    "- it returns an object that represents the parent class.\n",
    "-  This powerful tool allows you to call methods from a parent class in a child class, enabling code reusability and maintaining a clear inheritance hierarchy.\n",
    "\n",
    "**syntex** - super() \n"
   ]
  },
  {
   "cell_type": "code",
   "execution_count": 19,
   "metadata": {},
   "outputs": [
    {
     "name": "stdout",
     "output_type": "stream",
     "text": [
      "Car started..\n",
      "Electric\n"
     ]
    }
   ],
   "source": [
    "class car:\n",
    "    def __init__(self,type):    #Constructor\n",
    "        self.type = type                #petrol or electric\n",
    "\n",
    "    @staticmethod\n",
    "    def start():\n",
    "        print(\"Car started..\")\n",
    "\n",
    "    @staticmethod\n",
    "    def stop():\n",
    "        print(\"Car stoped..\")\n",
    "\n",
    "class RRRCar(car):\n",
    "    def __init__(self,name,type) -> None:\n",
    "        self.name = name\n",
    "        super().__init__(type)\n",
    "        super().start()\n",
    "\n",
    "\n",
    "obj = RRRCar(\"Fortuner\",\"Electric\")\n",
    "print(obj.type)"
   ]
  },
  {
   "cell_type": "markdown",
   "metadata": {},
   "source": [
    "- super() can't access variable.\n",
    "- super() can't be used outside the class.\n",
    "- super() is used to inside the child class."
   ]
  },
  {
   "cell_type": "code",
   "execution_count": 21,
   "metadata": {},
   "outputs": [
    {
     "name": "stdout",
     "output_type": "stream",
     "text": [
      "This is a Child class\n",
      "This is a Parent class\n"
     ]
    }
   ],
   "source": [
    "class Parent:\n",
    "    def show(self):\n",
    "        print(\"This is a Parent class\")\n",
    "\n",
    "class Child(Parent):\n",
    "    def display(self):\n",
    "        print(\"This is a Child class\")\n",
    "\n",
    "    def show(self):\n",
    "        super().show() \n",
    "\n",
    "child = Child()\n",
    "child.display()\n",
    "child.show()"
   ]
  },
  {
   "cell_type": "markdown",
   "metadata": {},
   "source": [
    "**Advantages of super()**\n",
    "- Code Reusability: super() lets you reuse code from the parent class, so you don’t need to rewrite methods. It saves time and effort.\n",
    "- Maintainability (easy to maitain): making code easier to maintain.\n",
    "- Consistency: super() ensures that the parent class’s methods are consistently invoked, even in complex inheritance structures."
   ]
  }
 ],
 "metadata": {
  "kernelspec": {
   "display_name": "Python 3",
   "language": "python",
   "name": "python3"
  },
  "language_info": {
   "codemirror_mode": {
    "name": "ipython",
    "version": 3
   },
   "file_extension": ".py",
   "mimetype": "text/x-python",
   "name": "python",
   "nbconvert_exporter": "python",
   "pygments_lexer": "ipython3",
   "version": "3.11.3"
  }
 },
 "nbformat": 4,
 "nbformat_minor": 2
}
