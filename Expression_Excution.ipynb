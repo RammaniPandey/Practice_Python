{
 "cells": [
  {
   "cell_type": "markdown",
   "metadata": {},
   "source": [
    "### Expression Execution"
   ]
  },
  {
   "cell_type": "code",
   "execution_count": 4,
   "metadata": {},
   "outputs": [
    {
     "name": "stdout",
     "output_type": "stream",
     "text": [
      "@@@@@@\n"
     ]
    }
   ],
   "source": [
    "# String & Numeric values can operate together with * .\n",
    "\n",
    "a , b = 3 , 2\n",
    "Txt = '@'\n",
    "print(3*Txt*2)"
   ]
  },
  {
   "cell_type": "code",
   "execution_count": 6,
   "metadata": {},
   "outputs": [
    {
     "name": "stdout",
     "output_type": "stream",
     "text": [
      "3@3@3@3@\n"
     ]
    }
   ],
   "source": [
    "# String & String values can operate with +.\n",
    "\n",
    "a , b = '3' , 4\n",
    "Txt = '@'\n",
    "print((a+Txt)*4)"
   ]
  },
  {
   "cell_type": "code",
   "execution_count": 8,
   "metadata": {},
   "outputs": [
    {
     "name": "stdout",
     "output_type": "stream",
     "text": [
      "27\n"
     ]
    }
   ],
   "source": [
    "# Numeric values can operate with all arithemetic operator.\n",
    "\n",
    "a = 3\n",
    "b = 4\n",
    "c = 6\n",
    "print(a+b*c)\n"
   ]
  },
  {
   "cell_type": "code",
   "execution_count": 9,
   "metadata": {},
   "outputs": [
    {
     "name": "stdout",
     "output_type": "stream",
     "text": [
      "40.0\n"
     ]
    }
   ],
   "source": [
    "# Arithematic Expression with integer and float will result in float.\n",
    "\n",
    "a , b = 10 , 4.0\n",
    "c = a*b\n",
    "print(c)"
   ]
  },
  {
   "cell_type": "code",
   "execution_count": 10,
   "metadata": {},
   "outputs": [
    {
     "name": "stdout",
     "output_type": "stream",
     "text": [
      "0.4\n"
     ]
    }
   ],
   "source": [
    "# Result of division operator with two integers will be float.\n",
    "\n",
    "a, b = 2,5\n",
    "c = a/b\n",
    "print(c)"
   ]
  },
  {
   "cell_type": "code",
   "execution_count": 15,
   "metadata": {},
   "outputs": [
    {
     "name": "stdout",
     "output_type": "stream",
     "text": [
      "0.0\n",
      "0.0 3.5\n",
      "0.0 3.5 0.75\n",
      "0.0 3.5 0.75 3.0\n"
     ]
    }
   ],
   "source": [
    "# Integer Division (//) with float and int will given int displayed as float.\n",
    "\n",
    "a,b = 1.5,2\n",
    "c=a//b\n",
    "print(c )\n",
    "print(c , a+b)\n",
    "print(c , a+b, a/b)\n",
    "print(c , a+b , a/b , a*b)"
   ]
  },
  {
   "cell_type": "code",
   "execution_count": 17,
   "metadata": {},
   "outputs": [
    {
     "name": "stdout",
     "output_type": "stream",
     "text": [
      "-3\n"
     ]
    }
   ],
   "source": [
    "a,b = -12,5\n",
    "c =a//b\n",
    "print(c)"
   ]
  },
  {
   "cell_type": "code",
   "execution_count": null,
   "metadata": {},
   "outputs": [],
   "source": []
  }
 ],
 "metadata": {
  "kernelspec": {
   "display_name": "Python 3",
   "language": "python",
   "name": "python3"
  },
  "language_info": {
   "codemirror_mode": {
    "name": "ipython",
    "version": 3
   },
   "file_extension": ".py",
   "mimetype": "text/x-python",
   "name": "python",
   "nbconvert_exporter": "python",
   "pygments_lexer": "ipython3",
   "version": "3.11.3"
  }
 },
 "nbformat": 4,
 "nbformat_minor": 2
}
