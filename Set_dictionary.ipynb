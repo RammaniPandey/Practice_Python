{
 "cells": [
  {
   "cell_type": "markdown",
   "metadata": {},
   "source": [
    "### Set and dictionary\n",
    "#### Set\n",
    "- Set is a data type.\n",
    "- mutable unordered collection of unique element.\n",
    "- mutable means can be change.\n",
    "- set has only unique element.\n",
    "- cantains varius type of values.\n",
    "- Separated by comma','.\n",
    "- enclosed with curly bracket {}.\n",
    "- use for quickly remove duplicates from a list.\n",
    "   - Syntax: {} or set()\n",
    "   - Ordered: No (No guarantee of order in Python versions before 3.7)\n",
    "   - Mutable: Yes (Elements can be added or removed)\n",
    "   - Duplicates: No (Does not allow duplicate elements)\n",
    "   - Example: {1, 2, 3, 4}"
   ]
  },
  {
   "cell_type": "code",
   "execution_count": 109,
   "metadata": {},
   "outputs": [
    {
     "name": "stdout",
     "output_type": "stream",
     "text": [
      "()\n"
     ]
    }
   ],
   "source": [
    "a = ()\n",
    "print(a)"
   ]
  },
  {
   "cell_type": "code",
   "execution_count": 111,
   "metadata": {},
   "outputs": [
    {
     "name": "stdout",
     "output_type": "stream",
     "text": [
      "{1, 2, 3, 4}\n",
      "<class 'set'>\n",
      "None\n",
      "set()\n"
     ]
    }
   ],
   "source": [
    "a = {1,2,3,4,2,3,4}\n",
    "print(a)\n",
    "print(type(a))\n",
    "print(a.clear())\n",
    "print(a)"
   ]
  },
  {
   "cell_type": "code",
   "execution_count": 93,
   "metadata": {},
   "outputs": [
    {
     "name": "stdout",
     "output_type": "stream",
     "text": [
      "{'syam', 'ji', 'pandey', 'Ram'}\n",
      "<class 'set'>\n"
     ]
    }
   ],
   "source": [
    "name ={ 'Ram', 'pandey','syam','ji'}\n",
    "print(name)\n",
    "print(type(name))"
   ]
  },
  {
   "cell_type": "code",
   "execution_count": 94,
   "metadata": {},
   "outputs": [
    {
     "name": "stdout",
     "output_type": "stream",
     "text": [
      "<class 'dict'>\n",
      "<class 'set'>\n"
     ]
    }
   ],
   "source": [
    "a ={} #dictionary\n",
    "b = {1,2,3,4}\n",
    "print(type(a))\n",
    "print(type(b))"
   ]
  },
  {
   "cell_type": "code",
   "execution_count": 95,
   "metadata": {},
   "outputs": [
    {
     "name": "stdout",
     "output_type": "stream",
     "text": [
      "{1, 2, 3, 4, 5, 6}\n",
      "{3, 4}\n",
      "{1, 2}\n"
     ]
    }
   ],
   "source": [
    "set1 = {1, 2, 3, 4}\n",
    "set2 = {3, 4, 5, 6}\n",
    "union = set1.union(set2) # {1, 2, 3, 4, 5, 6}\n",
    "print(union)\n",
    "intersection = set1.intersection(set2)  # {3, 4}\n",
    "print(intersection)\n",
    "difference = set1.difference(set2)  # {1, 2}\n",
    "print(difference)"
   ]
  },
  {
   "cell_type": "code",
   "execution_count": 96,
   "metadata": {},
   "outputs": [
    {
     "name": "stdout",
     "output_type": "stream",
     "text": [
      "{'apple', 'cherry', 'date', 'banana'}\n",
      "{'banana', 'cherry'}\n"
     ]
    }
   ],
   "source": [
    "dataset1 = {\"apple\", \"banana\", \"cherry\"}\n",
    "dataset2 = {\"banana\", \"cherry\", \"date\"}\n",
    "# {'apple', 'banana', 'cherry', 'date'}\n",
    "unique = dataset1.union(dataset2)\n",
    "print(unique)\n",
    " # {'banana', 'cherry'}\n",
    "overlap = dataset1.intersection(dataset2) \n",
    "print(overlap)"
   ]
  },
  {
   "cell_type": "code",
   "execution_count": 97,
   "metadata": {},
   "outputs": [
    {
     "name": "stdout",
     "output_type": "stream",
     "text": [
      "{1, 2, 3, 4, 'Piyush', 'Swati', 'James', 'Ram'}\n"
     ]
    }
   ],
   "source": [
    "a = { 1,'Ram',2,'Swati',3,'James',4,'Piyush'}\n",
    "print(a)"
   ]
  },
  {
   "cell_type": "code",
   "execution_count": 98,
   "metadata": {},
   "outputs": [
    {
     "name": "stdout",
     "output_type": "stream",
     "text": [
      "{1, 2, 3, 4, 5, 'Syama', 'Piyush', 'Swati', 'James', 'Ram'}\n"
     ]
    }
   ],
   "source": [
    "a.add(5)\n",
    "a.add('Syama')\n",
    "print(a)"
   ]
  },
  {
   "cell_type": "code",
   "execution_count": 99,
   "metadata": {},
   "outputs": [
    {
     "name": "stdout",
     "output_type": "stream",
     "text": [
      "{'Swati', 'Krishna', 'Kajal', 'Ram'}\n",
      "{1, 2, 3, 4, 5}\n"
     ]
    }
   ],
   "source": [
    "setA = { 'Ram','Swati','Krishna','Kajal'}\n",
    "setB = {1,2,3,4,5}\n",
    "print(setA)\n",
    "print(setB)"
   ]
  },
  {
   "cell_type": "code",
   "execution_count": 100,
   "metadata": {},
   "outputs": [
    {
     "name": "stdout",
     "output_type": "stream",
     "text": [
      "False\n",
      "\n",
      "{'apple', 'orange', 'watermelon', 'grapefruit', 'banana'}\n",
      "apple\n",
      "{'orange', 'watermelon', 'grapefruit', 'banana'}\n"
     ]
    }
   ],
   "source": [
    "fal = {\"apple\", \"banana\", \"orange\", \"grapefruit\"}  # define a set\n",
    "\n",
    "print(\"watermelon\" in fal)  # check for element\n",
    "print(\"\")\n",
    "\n",
    "fal.add(\"watermelon\")  # add an element\n",
    "print(fal)\n",
    "\n",
    "print(fal.pop())  # remove a random element\n",
    "print(fal)"
   ]
  },
  {
   "cell_type": "code",
   "execution_count": 27,
   "metadata": {},
   "outputs": [
    {
     "name": "stdout",
     "output_type": "stream",
     "text": [
      "{0, 1, 2, 3, 4, 5, 6, 7, 8, 9}\n",
      "{1, 2, 3, 4, 5, 6, 7}\n",
      "{0, 1, 2, 3, 4, 5, 6, 7, 8, 9}\n"
     ]
    }
   ],
   "source": [
    "a = {1,2,3,4,5}\n",
    "b = {6,7,8,9,0}\n",
    "c = {2,4,6,7}\n",
    "print(a|b)\n",
    "print(a.union(c)) \n",
    "print(a.union(b,c)) #Union"
   ]
  },
  {
   "cell_type": "code",
   "execution_count": 15,
   "metadata": {},
   "outputs": [
    {
     "data": {
      "text/plain": [
       "{2, 3, 5}"
      ]
     },
     "execution_count": 15,
     "metadata": {},
     "output_type": "execute_result"
    }
   ],
   "source": [
    "a = {1,2,3,4,5}\n",
    "b = {2,7,3,9,5}\n",
    "a & b # Intersection of A and B (Common items in both sets)"
   ]
  },
  {
   "cell_type": "code",
   "execution_count": 26,
   "metadata": {},
   "outputs": [
    {
     "data": {
      "text/plain": [
       "{1, 4}"
      ]
     },
     "execution_count": 26,
     "metadata": {},
     "output_type": "execute_result"
    }
   ],
   "source": [
    "a = {1,2,3,4,5}\n",
    "b = {2,7,3,9,5}\n",
    "a.difference(b) #difference"
   ]
  },
  {
   "cell_type": "markdown",
   "metadata": {},
   "source": [
    "### Subset, Superset and Disjoint"
   ]
  },
  {
   "cell_type": "code",
   "execution_count": 44,
   "metadata": {},
   "outputs": [],
   "source": [
    "a = {1,2,3,4,5,6,7,8,9,0}\n",
    "b = {3,2,4,5,6,7}\n",
    "c = {40,10,20}"
   ]
  },
  {
   "cell_type": "code",
   "execution_count": 45,
   "metadata": {},
   "outputs": [
    {
     "data": {
      "text/plain": [
       "True"
      ]
     },
     "execution_count": 45,
     "metadata": {},
     "output_type": "execute_result"
    }
   ],
   "source": [
    "b.issubset(a) # Set b is said to be the subset of set a if all elements of B are present in set a."
   ]
  },
  {
   "cell_type": "code",
   "execution_count": 46,
   "metadata": {},
   "outputs": [
    {
     "data": {
      "text/plain": [
       "False"
      ]
     },
     "execution_count": 46,
     "metadata": {},
     "output_type": "execute_result"
    }
   ],
   "source": [
    "c.issubset(a) # Set c is said to be the subset of set a if all elements of c are present in set a."
   ]
  },
  {
   "cell_type": "code",
   "execution_count": 47,
   "metadata": {},
   "outputs": [
    {
     "data": {
      "text/plain": [
       "True"
      ]
     },
     "execution_count": 47,
     "metadata": {},
     "output_type": "execute_result"
    }
   ],
   "source": [
    "a.issuperset(b)# Set a is said to be the superset of set b if all elements of b present in set a."
   ]
  },
  {
   "cell_type": "code",
   "execution_count": 48,
   "metadata": {},
   "outputs": [
    {
     "data": {
      "text/plain": [
       "False"
      ]
     },
     "execution_count": 48,
     "metadata": {},
     "output_type": "execute_result"
    }
   ],
   "source": [
    "b.issuperset(c)"
   ]
  },
  {
   "cell_type": "code",
   "execution_count": 52,
   "metadata": {},
   "outputs": [
    {
     "data": {
      "text/plain": [
       "True"
      ]
     },
     "execution_count": 52,
     "metadata": {},
     "output_type": "execute_result"
    }
   ],
   "source": [
    "b.isdisjoint(c) # Two sets are said to be disjoint sets if they have no common element."
   ]
  },
  {
   "cell_type": "markdown",
   "metadata": {},
   "source": [
    "#### Dictionaries \n",
    "\n",
    "- Dictionaries are a collection of key/value pairs.\n",
    "- unoerderd set of value pair of items.\n",
    "- saprated by comma ','.\n",
    "- enclosed in the curly braces{}, \n",
    "- A dictionary is a mutable data type.\n",
    "- that stores mappings of unique keys to values or used to store data values in key:value pairs.\n",
    " - Syntax: {key: value}\n",
    " - Ordered: Yes (Maintains the insertion order starting from Python 3.7)\n",
    " - Mutable: Yes (Keys and values can be changed)\n",
    " - Duplicates: No (Keys must be unique, but values can be duplicated)\n",
    " - Example: {'a': 1, 'b': 2, 'c': 3}"
   ]
  },
  {
   "cell_type": "code",
   "execution_count": 101,
   "metadata": {},
   "outputs": [
    {
     "name": "stdout",
     "output_type": "stream",
     "text": [
      "{'hydrogen': 1, 'helium': 2, 'carbon': 6}\n"
     ]
    }
   ],
   "source": [
    "elements = {\n",
    "         \"hydrogen\": 1,\n",
    "         \"helium\": 2,\n",
    "         \"carbon\": 6}\n",
    "print(elements)"
   ]
  },
  {
   "cell_type": "code",
   "execution_count": 102,
   "metadata": {},
   "outputs": [
    {
     "name": "stdout",
     "output_type": "stream",
     "text": [
      "2\n",
      "{'hydrogen': 1, 'helium': 2, 'carbon': 6, 'lithium': 3}\n"
     ]
    }
   ],
   "source": [
    "print(elements[\"helium\"])  # print the value mapped to \"helium\"\n",
    "elements[\"lithium\"] = 3 # insert \"lithium\" with a value of 3 into the dictionary\n",
    "print(elements)"
   ]
  },
  {
   "cell_type": "code",
   "execution_count": 55,
   "metadata": {},
   "outputs": [
    {
     "name": "stdout",
     "output_type": "stream",
     "text": [
      "{'Name': 'Swati', 'Sirname': 'Dwivedi', 'age': 22, 'Is_adult': True, 'Marks': 75}\n"
     ]
    }
   ],
   "source": [
    "info= {\n",
    "    \"Name\": \"Swati\",\n",
    "    \"Sirname\": \"Dwivedi\",\n",
    "    \"age\": 22,\n",
    "    \"Is_adult\": True,\n",
    "    \"Marks\": 75 }\n",
    "print(info)"
   ]
  },
  {
   "cell_type": "code",
   "execution_count": 67,
   "metadata": {},
   "outputs": [
    {
     "name": "stdout",
     "output_type": "stream",
     "text": [
      "{'Name': 'Ram', 'Sirname': 'Pandey', 'age': 22, 'Is_adult': True, 'Marks': 75}\n"
     ]
    }
   ],
   "source": [
    "info[\"Name\"] = \"Ram\"\n",
    "info[\"Sirname\"]=\"Pandey\" # overwrite\n",
    "\n",
    "print(info)"
   ]
  },
  {
   "cell_type": "code",
   "execution_count": 68,
   "metadata": {},
   "outputs": [
    {
     "name": "stdout",
     "output_type": "stream",
     "text": [
      "{'name': 'radha'}\n"
     ]
    }
   ],
   "source": [
    "a = {} #null dictionary\n",
    "a[\"name\"]= \"radha\"\n",
    "print(a)"
   ]
  },
  {
   "cell_type": "code",
   "execution_count": 69,
   "metadata": {},
   "outputs": [
    {
     "name": "stdout",
     "output_type": "stream",
     "text": [
      "{'name': 'Rammani', 'class': 'Btech', 'subject': {'C': 97, 'C++': 89, 'Python': 90, 'DSA': 85}, 'age': 20, 'Mob_no': 9340576217}\n"
     ]
    }
   ],
   "source": [
    "#Nasted dictionary\n",
    "\n",
    "info ={\n",
    "       'name': 'Rammani',\n",
    "       'class': 'Btech',\n",
    "       'subject':{\n",
    "           \"C\": 97,\n",
    "           \"C++\": 89,\n",
    "           \"Python\":90,\n",
    "           \"DSA\":85\n",
    "       },\n",
    "       \"age\": 20,\n",
    "       \"Mob_no\": 9340576217\n",
    "}\n",
    "print(info)"
   ]
  },
  {
   "cell_type": "code",
   "execution_count": 75,
   "metadata": {},
   "outputs": [
    {
     "name": "stdout",
     "output_type": "stream",
     "text": [
      "{'C': 97, 'C++': 89, 'Python': 90, 'DSA': 85}\n"
     ]
    }
   ],
   "source": [
    "print(info[\"subject\"])"
   ]
  },
  {
   "cell_type": "code",
   "execution_count": 74,
   "metadata": {},
   "outputs": [
    {
     "name": "stdout",
     "output_type": "stream",
     "text": [
      "97\n"
     ]
    }
   ],
   "source": [
    "print(info[\"subject\"]['C'])"
   ]
  },
  {
   "cell_type": "code",
   "execution_count": 79,
   "metadata": {},
   "outputs": [
    {
     "name": "stdout",
     "output_type": "stream",
     "text": [
      "dict_keys(['name', 'class', 'subject', 'age', 'Mob_no'])\n"
     ]
    }
   ],
   "source": [
    "print(info.keys())"
   ]
  },
  {
   "cell_type": "code",
   "execution_count": 80,
   "metadata": {},
   "outputs": [
    {
     "name": "stdout",
     "output_type": "stream",
     "text": [
      "dict_values(['Rammani', 'Btech', {'C': 97, 'C++': 89, 'Python': 90, 'DSA': 85}, 20, 9340576217])\n"
     ]
    }
   ],
   "source": [
    "print(info.values())"
   ]
  },
  {
   "cell_type": "code",
   "execution_count": 81,
   "metadata": {},
   "outputs": [
    {
     "name": "stdout",
     "output_type": "stream",
     "text": [
      "dict_items([('name', 'Rammani'), ('class', 'Btech'), ('subject', {'C': 97, 'C++': 89, 'Python': 90, 'DSA': 85}), ('age', 20), ('Mob_no', 9340576217)])\n"
     ]
    }
   ],
   "source": [
    "print(info.items())"
   ]
  },
  {
   "cell_type": "code",
   "execution_count": 105,
   "metadata": {},
   "outputs": [
    {
     "name": "stdout",
     "output_type": "stream",
     "text": [
      "There's no such Name!\n"
     ]
    }
   ],
   "source": [
    "#print(info(\"Syam\"))\n",
    "print(info.get(\"Syam\",'There\\'s no such Name!')) # Not exist"
   ]
  },
  {
   "cell_type": "markdown",
   "metadata": {},
   "source": [
    "#### Keyword Operators\n",
    "\n",
    "* ***is:***\tevaluates if both sides have the same identity\n",
    "* ***is not***\tevaluates if both sides have different identities"
   ]
  },
  {
   "cell_type": "code",
   "execution_count": 113,
   "metadata": {},
   "outputs": [
    {
     "name": "stdout",
     "output_type": "stream",
     "text": [
      "True\n",
      "False\n"
     ]
    }
   ],
   "source": [
    "n = info.get(\"Rammani\")\n",
    "print(n is None)\n",
    "print(n is not None)"
   ]
  },
  {
   "cell_type": "code",
   "execution_count": 114,
   "metadata": {},
   "outputs": [
    {
     "name": "stdout",
     "output_type": "stream",
     "text": [
      "{'Satna': 9340576217, 'Rewa': 9630215705, 'Dhaka': 9630595705, 'Mumbai': 7581957732}\n",
      "False\n",
      "True\n"
     ]
    }
   ],
   "source": [
    "contact = {\"Satna\":9340576217, \"Rewa\":9630215705, \"Dhaka\":9630595705, \"Mumbai\":7581957732}\n",
    "print(contact)\n",
    "print(contact is None)\n",
    "print(contact is not None)"
   ]
  },
  {
   "cell_type": "code",
   "execution_count": 117,
   "metadata": {},
   "outputs": [
    {
     "name": "stdout",
     "output_type": "stream",
     "text": [
      "False\n",
      "True\n",
      "{'Walmart': 1, 'Exxon Mobil': 2, 'Berkshire Hathaway': 3, 'Apple': 4, 'UnitedHealth Group': 5, 'McKesson': 5, 'CVS Health': 5, 'Amazon.com': 6, 'AT&T': 6, 'General Motors': 7}\n"
     ]
    }
   ],
   "source": [
    "\n",
    "dict = {\n",
    "    \"Walmart\": 1,\n",
    "    \"Exxon Mobil\" : 2,\n",
    "    \"Berkshire Hathaway\" : 3,\n",
    "    \"Apple\" : 4,\n",
    "    \"UnitedHealth Group\" : 5,\n",
    "    \"McKesson\" : 5,\n",
    "    \"CVS Health\" : 5,\n",
    "    \"Amazon.com\" : 6,\n",
    "    \"AT&T\" : 6,\n",
    "    \"General Motors\" : 7\n",
    "    }\n",
    "\n",
    "print(dict is None)\n",
    "print(dict is not None)\n",
    "print(dict)"
   ]
  },
  {
   "cell_type": "code",
   "execution_count": 125,
   "metadata": {},
   "outputs": [
    {
     "name": "stdout",
     "output_type": "stream",
     "text": [
      "{'Math': 6, 'phy': 7, 'eng': 8, 'hindi': 9}\n"
     ]
    }
   ],
   "source": [
    "marks = {}\n",
    "\n",
    "x= int(input(\" Enter Math : \"))\n",
    "marks.update({\"Math\": x})\n",
    "\n",
    "x= int(input(\" Enter phy : \"))\n",
    "marks.update({\"phy\": x})\n",
    "\n",
    "x= int(input(\" Enter eng : \"))\n",
    "marks.update({\"eng\": x})\n",
    "\n",
    "x= int(input(\" Enter hindi : \"))\n",
    "marks.update({\"hindi\": x})\n",
    "\n",
    "print(marks)"
   ]
  },
  {
   "cell_type": "code",
   "execution_count": 126,
   "metadata": {},
   "outputs": [
    {
     "name": "stdout",
     "output_type": "stream",
     "text": [
      "(9, '9.02')\n"
     ]
    }
   ],
   "source": [
    "value = (9 , \"9.02\")\n",
    "print(value)"
   ]
  },
  {
   "cell_type": "code",
   "execution_count": 132,
   "metadata": {},
   "outputs": [
    {
     "name": "stdout",
     "output_type": "stream",
     "text": [
      "{('int', 5), ('float', 9.0)}\n"
     ]
    }
   ],
   "source": [
    "value = {\n",
    "    (\"float\", 9.0),\n",
    "    (\"int\", 5)\n",
    "}\n",
    "print(value)"
   ]
  }
 ],
 "metadata": {
  "kernelspec": {
   "display_name": "Python 3",
   "language": "python",
   "name": "python3"
  },
  "language_info": {
   "codemirror_mode": {
    "name": "ipython",
    "version": 3
   },
   "file_extension": ".py",
   "mimetype": "text/x-python",
   "name": "python",
   "nbconvert_exporter": "python",
   "pygments_lexer": "ipython3",
   "version": "3.11.3"
  }
 },
 "nbformat": 4,
 "nbformat_minor": 2
}
