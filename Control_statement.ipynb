{
 "cells": [
  {
   "cell_type": "markdown",
   "metadata": {},
   "source": [
    "#### **Control Statement**\n",
    " - Based on some conditions control flows to different set of statements.\n",
    "   - if-statement \n",
    "     - condition to be chacked,\n",
    "     - also called as decision making statement, condition is nessesary in if block.\n",
    "   - if-else statement \n",
    "   - Multiple-if's\n",
    "   - Nested statement\n",
    "   - Conditional Expression or Ternary operator"
   ]
  },
  {
   "cell_type": "code",
   "execution_count": 1,
   "metadata": {},
   "outputs": [
    {
     "name": "stdout",
     "output_type": "stream",
     "text": [
      "Go to home\n"
     ]
    }
   ],
   "source": [
    "# if statement\n",
    "\n",
    "time = 'Evening'\n",
    "if(time=='Evening'):\n",
    "    print(\"Go to home\")"
   ]
  },
  {
   "cell_type": "code",
   "execution_count": 9,
   "metadata": {},
   "outputs": [
    {
     "name": "stdout",
     "output_type": "stream",
     "text": [
      "not greater than b.\n"
     ]
    }
   ],
   "source": [
    "# if else statement\n",
    "a = 19\n",
    "b = 21\n",
    "\n",
    "if (a > b ):\n",
    "    print('a is greater than b.')\n",
    "else: \n",
    "    print(\"not greater than b.\")"
   ]
  },
  {
   "cell_type": "code",
   "execution_count": 30,
   "metadata": {},
   "outputs": [
    {
     "name": "stdout",
     "output_type": "stream",
     "text": [
      "Adult age\n"
     ]
    }
   ],
   "source": [
    "age = int(input(\"Age: \"))\n",
    "if age<18:\n",
    "    print(\"Minor age\")\n",
    "elif (age>=18 and age<=45):\n",
    "    print(\"Adult age\")\n",
    "else:\n",
    "    print(\"Senior citizen\")"
   ]
  },
  {
   "cell_type": "code",
   "execution_count": 10,
   "metadata": {},
   "outputs": [
    {
     "name": "stdout",
     "output_type": "stream",
     "text": [
      "Go to home\n"
     ]
    }
   ],
   "source": [
    "time = 'Evening'\n",
    "if(time =='Evening'):\n",
    "    print(\"Go to home\")\n",
    "else:\n",
    "    print('okey')"
   ]
  },
  {
   "cell_type": "code",
   "execution_count": 11,
   "metadata": {},
   "outputs": [
    {
     "name": "stdout",
     "output_type": "stream",
     "text": [
      "oh..it's hot day\n"
     ]
    }
   ],
   "source": [
    "temp = 30\n",
    "if  ( temp > 25 ):\n",
    "    print(\"oh..it's hot day\")\n",
    "else:\n",
    "    print(\"wow it's cool day\")"
   ]
  },
  {
   "cell_type": "code",
   "execution_count": 14,
   "metadata": {},
   "outputs": [
    {
     "name": "stdout",
     "output_type": "stream",
     "text": [
      "Swara your marks is 75 and you are in Sec-A.\n"
     ]
    }
   ],
   "source": [
    "name = 'Swara'\n",
    "code = 9090\n",
    "marks = 75\n",
    "if (marks>=75):\n",
    "    print(name,\"your marks is\",marks,\"and you are in Sec-A.\")\n",
    "else:\n",
    "    print(name,\"your marks is\",marks,\"amd you are in Sec-B.\")\n"
   ]
  },
  {
   "cell_type": "code",
   "execution_count": 17,
   "metadata": {},
   "outputs": [
    {
     "name": "stdout",
     "output_type": "stream",
     "text": [
      "Grade C.\n"
     ]
    }
   ],
   "source": [
    "# multiple if-elif-els statement\n",
    "marks =int(input(\"Enter Marks: \"))\n",
    "if (marks >= 90):\n",
    "    print(\"Grade A+.\")\n",
    "elif (marks >= 80):\n",
    "    print(\"Grade A.\")\n",
    "elif (marks >= 70):\n",
    "    print(\"Grade B.\")\n",
    "elif (marks >= 60):\n",
    "    print(\"Grade C.\")\n",
    "else:\n",
    "    print(\"Grade C.\")\n"
   ]
  },
  {
   "cell_type": "code",
   "execution_count": 38,
   "metadata": {},
   "outputs": [
    {
     "name": "stdout",
     "output_type": "stream",
     "text": [
      "Minor age\n",
      "you are in collage\n"
     ]
    }
   ],
   "source": [
    "age = int(input(\"Age: \"))\n",
    "if age<18:\n",
    "    print(\"Minor age\")\n",
    "elif (age>=18 and age<=45):\n",
    "    print(\"Adult age\")\n",
    "elif (age>45 and age<=50):\n",
    "    print(\"Senior Mid age\")\n",
    "else:\n",
    "    print(\"Senior Citizen\")"
   ]
  },
  {
   "cell_type": "code",
   "execution_count": 1,
   "metadata": {},
   "outputs": [
    {
     "name": "stdout",
     "output_type": "stream",
     "text": [
      "6 is a positive number.\n"
     ]
    }
   ],
   "source": [
    "number = int(input(\"Enter a number: \"))\n",
    "\n",
    "# Check if the number is positive, negative, or zero\n",
    "if number > 0:\n",
    "    print(f\"{number} is a positive number.\")\n",
    "elif number < 0:\n",
    "    print(f\"{number} is a negative number.\")\n",
    "else:\n",
    "    print(f\"The number is zero.\")"
   ]
  },
  {
   "cell_type": "code",
   "execution_count": 36,
   "metadata": {},
   "outputs": [
    {
     "name": "stdout",
     "output_type": "stream",
     "text": [
      "possitive and odd..\n"
     ]
    }
   ],
   "source": [
    "\n",
    "# Nested if-else statement.\n",
    "# if-else inside if else statement.\n",
    "#Multiple condition depend on each other.\n",
    "a = int(input(\"Enter Vanue: \"))\n",
    "\n",
    "if a > 0:\n",
    "    if a%2==0:\n",
    "        print('possitive and even..')\n",
    "    else: \n",
    "        print('possitive and odd..')\n",
    "else:\n",
    "    if a==0:\n",
    "        print(\"Zero\")\n",
    "    else:\n",
    "        print(\"Negative\")\n",
    "\n"
   ]
  },
  {
   "cell_type": "code",
   "execution_count": 39,
   "metadata": {},
   "outputs": [
    {
     "name": "stdout",
     "output_type": "stream",
     "text": [
      "Adult age\n"
     ]
    }
   ],
   "source": [
    "age = int(input(\"Age: \"))\n",
    "if age<18:\n",
    "    print(\"Minor age\")\n",
    "    if age<15:\n",
    "        print(\"YOu are in School\")\n",
    "    else:\n",
    "        print(\"you are in collage\")\n",
    "elif (age>=18 and age<=45):\n",
    "    print(\"Adult age\")\n",
    "elif (age>45 and age<=50):\n",
    "    print(\"Senior Mid age\")\n",
    "else:\n",
    "    print(\"Senior Citizen\")"
   ]
  },
  {
   "cell_type": "code",
   "execution_count": 24,
   "metadata": {},
   "outputs": [
    {
     "name": "stdout",
     "output_type": "stream",
     "text": [
      "Minor\n"
     ]
    }
   ],
   "source": [
    "# Conditional Expression or Ternary operator\n",
    "age = int(input(\"Age: \"))\n",
    "#age = 19\n",
    "\n",
    "status =\"Adult\" if age>=18 else \"Minor age\"\n",
    "print(status)"
   ]
  },
  {
   "cell_type": "code",
   "execution_count": 47,
   "metadata": {},
   "outputs": [
    {
     "name": "stdout",
     "output_type": "stream",
     "text": [
      "1700 is not leap year\n"
     ]
    }
   ],
   "source": [
    "#leap Year Condition\n",
    "#4 divisible & 100 not divisible.\n",
    "#400 divisible == 0 \n",
    "\n",
    "year = int(input(\"Enter Year: \" ))\n",
    "\n",
    "if (year % 4 == 0 and year % 100 != 0) or (year % 400 == 0):\n",
    "    print(f\"{year} is Leap year\")\n",
    "else:\n",
    "    print(f\"{year} is not leap year\")"
   ]
  },
  {
   "cell_type": "code",
   "execution_count": 49,
   "metadata": {},
   "outputs": [
    {
     "name": "stdout",
     "output_type": "stream",
     "text": [
      "Welcome! Login was successful.\n"
     ]
    }
   ],
   "source": [
    "# Predefined username and password\n",
    "predefined_username = \"RamSwara\"\n",
    "predefined_password = \"pass101\"\n",
    "\n",
    "# Prompt the user for username and password\n",
    "input_username = input(\"Enter username: \")\n",
    "input_password = input(\"Enter password: \")\n",
    "\n",
    "# Check the username and password\n",
    "if input_username == predefined_username:\n",
    "    if input_password == predefined_password:\n",
    "      print(\"Welcome! Login was successful.\")\n",
    "    else:\n",
    "      print(\"Login failed: Incorrect password.\")\n",
    "else:\n",
    " print(\"Login failed: Incorrect username.\")"
   ]
  },
  {
   "cell_type": "code",
   "execution_count": 52,
   "metadata": {},
   "outputs": [
    {
     "name": "stdout",
     "output_type": "stream",
     "text": [
      "Enter below PCM marks out of 100\n",
      "Eligible for admission!\n"
     ]
    }
   ],
   "source": [
    "# Input marks from the user\n",
    "print(\"Enter below PCM marks out of 100\")\n",
    "physics_marks = int(input(\"Physics: \"))\n",
    "chemistry_marks = int(input(\"Chemistry: \"))\n",
    "math_marks = int(input(\"Maths: \"))\n",
    "\n",
    "# Check the eligibility criteria\n",
    "if (math_marks >= 65 and physics_marks >= 55 and chemistry_marks >= 50 and (math_marks + physics_marks + chemistry_marks) >= 180) or (math_marks + physics_marks) >= 140:\n",
    " print(\"Eligible for admission!\")\n",
    "else:\n",
    " print(\"Not eligible for admission\")"
   ]
  },
  {
   "cell_type": "code",
   "execution_count": null,
   "metadata": {},
   "outputs": [],
   "source": []
  }
 ],
 "metadata": {
  "kernelspec": {
   "display_name": "Python 3",
   "language": "python",
   "name": "python3"
  },
  "language_info": {
   "codemirror_mode": {
    "name": "ipython",
    "version": 3
   },
   "file_extension": ".py",
   "mimetype": "text/x-python",
   "name": "python",
   "nbconvert_exporter": "python",
   "pygments_lexer": "ipython3",
   "version": "3.11.3"
  }
 },
 "nbformat": 4,
 "nbformat_minor": 2
}
