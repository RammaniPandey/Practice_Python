{
 "cells": [
  {
   "cell_type": "markdown",
   "metadata": {},
   "source": [
    "## **Function**\n",
    "- Functions are simply pre-written codes that perform a certain task.\n",
    "- block of statements performing some specific task.\n",
    "- Functions make your code more manageable and avoid repetition.\n",
    "- Functions help break our program into smaller and modular chunks for better readability.\n",
    "- Information can be passed into a function as arguments.\n",
    "- Parameters are specified after the function name inside the parentheses.\n",
    "- We can add as many parameters as we want. Parameters must be separated with a comma(,).\n",
    "- A function may or may not return data.\n",
    "- In Python a function is defined using the def keyword.\n",
    "- The function header always starts with the def keyword, which indicates that this is a function definition.\n",
    "#### Parameter VS Argument\n",
    "- A parameter is the variable listed inside the parentheses in the function definition.\n",
    "- An argument is the value that is sent to the function when it is called.\n",
    "#### There are mainly three type of funtions:\n",
    "   - **Built-in-function**\n",
    "        - The function which is already define in python\n",
    "        - Python predefined functions that are readily available for use like \n",
    "          - min()\n",
    "          - max()\n",
    "          - sum() \n",
    "          - print() etc.\n",
    "   - **User-Defined Functions**\n",
    "        - The function which is define by user.\n",
    "        - Function that we define ourselves to perform a specific task.\n",
    "   - **Anonymous Functions**\n",
    "        - Function that is defined without a name. Anonymous functions are also called as lambda functions. They are not declared with the def keyword.\n",
    "\n",
    "        <H3><B>IMPLEMENTING A FUNCTION</b></h3>\n",
    "<u><h5>For implementing a function we need to follow three steps:</u></h5>\n",
    "<ul><li><I>   Define the function\n",
    "<li>   Write function body\n",
    "<li>   Return Statement</i></ul>"
   ]
  },
  {
   "cell_type": "markdown",
   "metadata": {},
   "source": [
    "<h3><b>1. Defining a Funnction in Python</b></h3>\n",
    "\n",
    "In python you define a Function using the keyword <u>**def**</u>.\n",
    "```\n",
    "# To define a  function we first write the keyword \"def\" followed by \"name of the function\" and round paranthesis \"()\". \n",
    "\n",
    "def Fun_Name():\n",
    "    ## Here we just defined a function\n",
    "    ## The name of the function is Fun_Name\n",
    "    ## COOL XD\n",
    "```"
   ]
  },
  {
   "cell_type": "markdown",
   "metadata": {},
   "source": [
    "<h3><b>2. Writing the Function body</b></h3>\n",
    "\n",
    "After defining the function now you need to write the body of the function which is the working of youe function  <i>i.e. what you want your function to do for you</i>\n",
    "\n",
    "```\n",
    "def Hello():\n",
    "    print('Hello')\n",
    "```\n",
    "<h5> The code above will print Hello whenever you call the function.</h5>\n"
   ]
  },
  {
   "cell_type": "code",
   "execution_count": null,
   "metadata": {},
   "outputs": [],
   "source": [
    "def odd_even(num):\n",
    "    if type(num) == int:\n",
    "     if num%2==0:\n",
    "         return 'the number {} is even'.format(num)\n",
    "     else:\n",
    "          return 'the number {} is odd'.format(num)\n",
    "    else:\n",
    "     return 'Pagal hai kya...!'"
   ]
  },
  {
   "cell_type": "code",
   "execution_count": null,
   "metadata": {},
   "outputs": [
    {
     "data": {
      "text/plain": [
       "'the number 3 is odd'"
      ]
     },
     "metadata": {},
     "output_type": "display_data"
    }
   ],
   "source": [
    "odd_even(3)"
   ]
  },
  {
   "cell_type": "code",
   "execution_count": null,
   "metadata": {},
   "outputs": [
    {
     "data": {
      "text/plain": [
       "'Pagal hai kya...!'"
      ]
     },
     "metadata": {},
     "output_type": "display_data"
    }
   ],
   "source": [
    "odd_even(\"ji\")"
   ]
  },
  {
   "cell_type": "code",
   "execution_count": null,
   "metadata": {},
   "outputs": [
    {
     "name": "stdout",
     "output_type": "stream",
     "text": [
      "Hello, welcome to Python!\n"
     ]
    }
   ],
   "source": [
    "def greet():\n",
    "    print(\"Hello, welcome to Python!\")\n",
    "\n",
    "greet()"
   ]
  },
  {
   "cell_type": "code",
   "execution_count": null,
   "metadata": {},
   "outputs": [],
   "source": [
    "#LET'S TRY THE ABOVE CODE\n",
    "def Piyush():\n",
    "  print('Hello Piyush.....!\\n')\n",
    "  print('Kya seekh rhe ho,\\n')\n",
    "  print('Function..!\\n Lage raho...seekhte raho')"
   ]
  },
  {
   "cell_type": "code",
   "execution_count": null,
   "metadata": {},
   "outputs": [
    {
     "name": "stdout",
     "output_type": "stream",
     "text": [
      "Hello Piyush.....!\n",
      "\n",
      "Kya seekh rhe ho,\n",
      "\n",
      "Function..!\n",
      " Lage raho...seekhte raho\n"
     ]
    }
   ],
   "source": [
    "Piyush()"
   ]
  },
  {
   "cell_type": "markdown",
   "metadata": {},
   "source": [
    "#### **Function with Parameters**\n",
    "Functions can accept inputs, called parameters, which you can use inside the function."
   ]
  },
  {
   "cell_type": "code",
   "execution_count": null,
   "metadata": {},
   "outputs": [],
   "source": [
    "def greet(name):\n",
    "    print(\"Hello, \" + name + \"!\")\n",
    "    print(\"Thank you, \" + name + \"!\")"
   ]
  },
  {
   "cell_type": "markdown",
   "metadata": {},
   "source": [
    "Here, name is a parameter. When you call the function and pass a value, it will be used in the function"
   ]
  },
  {
   "cell_type": "code",
   "execution_count": null,
   "metadata": {},
   "outputs": [
    {
     "name": "stdout",
     "output_type": "stream",
     "text": [
      "Hello, Ram!\n",
      "Thank you, Ram!\n"
     ]
    }
   ],
   "source": [
    "greet('Ram')"
   ]
  },
  {
   "cell_type": "markdown",
   "metadata": {},
   "source": [
    "\n",
    "#### Function arguments\n",
    "- i) *Positional:* When we are passing constants while calling function\n",
    "- ii) *Keyword:* When we are passing variables with constants while calling function\n",
    "- iii) *Arbitary Positional:* When we don’t know how many argument as contants we are calling\n",
    "- iv) *Arbitary Keyword:* When we don’t know how many argument as variables with contants we are calling"
   ]
  },
  {
   "cell_type": "code",
   "execution_count": null,
   "metadata": {},
   "outputs": [],
   "source": [
    "def Add(a,b):\n",
    "    print(a+b)"
   ]
  },
  {
   "cell_type": "code",
   "execution_count": null,
   "metadata": {},
   "outputs": [
    {
     "name": "stdout",
     "output_type": "stream",
     "text": [
      "3\n"
     ]
    }
   ],
   "source": [
    "Add(2,1) #we use multiple times"
   ]
  },
  {
   "cell_type": "code",
   "execution_count": null,
   "metadata": {},
   "outputs": [],
   "source": [
    "def Operation(a,b):\n",
    "    print(a+b)\n",
    "    print(a-b)\n",
    "    print(a*b)\n",
    "    print(a/b)"
   ]
  },
  {
   "cell_type": "code",
   "execution_count": null,
   "metadata": {},
   "outputs": [
    {
     "name": "stdout",
     "output_type": "stream",
     "text": [
      "12\n",
      "8\n",
      "20\n",
      "5.0\n"
     ]
    }
   ],
   "source": [
    "Operation(10,2) #calling a function."
   ]
  },
  {
   "cell_type": "markdown",
   "metadata": {},
   "source": [
    "<H4><B>Calling of a Function</b></h4>\n",
    "\n",
    "<li>Calling a function means to make a refference in your code to a function that you wrote.\n",
    "<li>To call a function you need to write the function name followed by round parannthesis <b>()</b>\n",
    "<li>If the function you're calling requires arguments, you pass the argument values inside the paranthesis.  \n",
    "\n",
    "\n",
    "```\n",
    "\n",
    "fun_name(arguments_to_pass)   # This how a function is called\n",
    "\n",
    "```\n",
    "If you notice, while calling the ADD function or any of the function we define above, we just follow the same pattern. In the function hello, we didnot pass any argument because that didn't need any argument.<br><br>\n",
    "\n",
    "> **NOTE:** We can pass the arguments while calling the function using two ways:\n",
    "* *By position, and*\n",
    "* *By name*"
   ]
  },
  {
   "cell_type": "markdown",
   "metadata": {},
   "source": [
    "##### *Calling by position*"
   ]
  },
  {
   "cell_type": "code",
   "execution_count": null,
   "metadata": {},
   "outputs": [
    {
     "name": "stdout",
     "output_type": "stream",
     "text": [
      "2.0\n"
     ]
    }
   ],
   "source": [
    "def divide(numinator, denominator):\n",
    "  print(numinator/denominator)\n",
    "\n",
    "divide(4,2)   # Calling by position"
   ]
  },
  {
   "cell_type": "markdown",
   "metadata": {},
   "source": [
    " ##### *Calling ny name*"
   ]
  },
  {
   "cell_type": "code",
   "execution_count": null,
   "metadata": {},
   "outputs": [
    {
     "name": "stdout",
     "output_type": "stream",
     "text": [
      "2.0\n"
     ]
    }
   ],
   "source": [
    "divide(denominator=2, numinator=4)   # Calling ny name"
   ]
  },
  {
   "cell_type": "markdown",
   "metadata": {},
   "source": [
    "<h3><b>Task:</b></h3>Write a function which takes two number as arguments and print the multiplication of the two numbers\n"
   ]
  },
  {
   "cell_type": "code",
   "execution_count": null,
   "metadata": {},
   "outputs": [],
   "source": [
    "def multi(a,b):\n",
    "    print(a*b)"
   ]
  },
  {
   "cell_type": "code",
   "execution_count": null,
   "metadata": {},
   "outputs": [
    {
     "name": "stdout",
     "output_type": "stream",
     "text": [
      "20\n",
      "35\n"
     ]
    }
   ],
   "source": [
    "multi(4,5) # Calling by position\n",
    "multi(a=7,b=5) # Calling ny name"
   ]
  },
  {
   "cell_type": "markdown",
   "metadata": {},
   "source": [
    "<h3> <B> Default Values to the Arguments</B></h3>\n",
    "While defining a function you can set some default values for the arguments in case if user dosn't pass the argument value\n",
    "Let's look how:<br>\n",
    "\n",
    "```\n",
    "\n",
    "def Area(length=2, breadth=2):\n",
    "    print(length*breadth)\n",
    "    \n",
    "```\n",
    "Here if you don't pass the values of length and breadth while calling the function, the default values the function will take will be 2 and 2 for length and breadth repectively.</p>"
   ]
  },
  {
   "cell_type": "code",
   "execution_count": null,
   "metadata": {},
   "outputs": [],
   "source": [
    "# Lets give it a try\n",
    "def Area(length=2, breadth=2):\n",
    "  print(length*breadth)"
   ]
  },
  {
   "cell_type": "code",
   "execution_count": null,
   "metadata": {},
   "outputs": [
    {
     "name": "stdout",
     "output_type": "stream",
     "text": [
      "4\n"
     ]
    }
   ],
   "source": [
    "Area()"
   ]
  },
  {
   "cell_type": "code",
   "execution_count": null,
   "metadata": {},
   "outputs": [
    {
     "name": "stdout",
     "output_type": "stream",
     "text": [
      "15\n",
      "6\n",
      "10\n",
      "4\n"
     ]
    }
   ],
   "source": [
    "Area(5,3)          # Expected Output: 15\n",
    "Area(3)            # Expected Output: 6\n",
    "Area(breadth=5)    # Expected Output: 25\n",
    "Area()             # Expected Output: 10"
   ]
  },
  {
   "cell_type": "code",
   "execution_count": null,
   "metadata": {},
   "outputs": [
    {
     "name": "stdout",
     "output_type": "stream",
     "text": [
      "16\n"
     ]
    }
   ],
   "source": [
    "def sqr(number):\n",
    "    print(number**2)\n",
    "\n",
    "sqr(4)"
   ]
  },
  {
   "cell_type": "code",
   "execution_count": null,
   "metadata": {},
   "outputs": [
    {
     "name": "stdout",
     "output_type": "stream",
     "text": [
      "25\n",
      "None\n"
     ]
    }
   ],
   "source": [
    "result = sqr(5)\n",
    "print(result)"
   ]
  },
  {
   "cell_type": "markdown",
   "metadata": {},
   "source": [
    "#### **print():**\n",
    "- Sirf result ko screen pe dikhata hai, jaise aapko output dekhne ke liye hota hai. Lekin is result ko aap code mein aage istemal nahi kar sakte.\n",
    "- sirf output dikhata hai, aap usko code mein aage nahi use kar sakte.\n",
    "#### **return():**\n",
    "- Function ke andar jo result hota hai, usko wapas deta hai (return karta hai) taki aap us result ko kisi variable mein store karke aage ke calculations ya kaam ke liye use kar pao.\n",
    "- se result wapas milta hai, jisse aap use store karke aage bhi kaam mein le sakte ho."
   ]
  },
  {
   "cell_type": "markdown",
   "metadata": {},
   "source": [
    "The function header always starts with the def keyword, which indicates that this is a function definition."
   ]
  },
  {
   "cell_type": "markdown",
   "metadata": {},
   "source": [
    "<h3> <b> Return Statement</h3></b>\n",
    "<b>In the function we saw above, we just print the things which we wanted. But what if we instead of printing the value, we want to store those values and use them later for our work ?</b>\n",
    "<li> We use the return statement to return the calculations we did in our function.\n",
    "<li>The return statement in a function allows you to send a value back to the place where the function was called. This means you can store the result of a function call in a variable and use it later.\n",
    "\n",
    "```\n",
    "def ADD(a=4, b=3):\n",
    "    returb a+b\n",
    "```\n",
    "The code returns the addition of two numbers, we can store the value return by the function and use it later whenever required"
   ]
  },
  {
   "cell_type": "code",
   "execution_count": null,
   "metadata": {},
   "outputs": [
    {
     "data": {
      "text/plain": [
       "16"
      ]
     },
     "metadata": {},
     "output_type": "display_data"
    }
   ],
   "source": [
    "def sqr(number):\n",
    "    return(number**2)\n",
    "\n",
    "sqr(4)"
   ]
  },
  {
   "cell_type": "code",
   "execution_count": null,
   "metadata": {},
   "outputs": [
    {
     "name": "stdout",
     "output_type": "stream",
     "text": [
      "25\n"
     ]
    }
   ],
   "source": [
    "result = sqr(5)\n",
    "print(result)"
   ]
  },
  {
   "cell_type": "code",
   "execution_count": null,
   "metadata": {},
   "outputs": [
    {
     "name": "stdout",
     "output_type": "stream",
     "text": [
      "7\n"
     ]
    }
   ],
   "source": [
    "def add(a=4, b=3):\n",
    "    return a + b\n",
    "\n",
    "#result = add()  # This will use default values, so result will be 7 (4 + 3)\n",
    "print(add())   # Output: 7\n"
   ]
  },
  {
   "cell_type": "markdown",
   "metadata": {},
   "source": [
    "> <B>Note: You can also return more than one value in a function</B>\n",
    "\n",
    "```\n",
    "def Fun(num1 = 5, num2 = 4):\n",
    "    sum=num1+num2\n",
    "    diff=num1-num2\n",
    "    return sum, diff \n",
    "```\n",
    "The code returns the addition and subtraction of the two numbers..."
   ]
  },
  {
   "cell_type": "code",
   "execution_count": null,
   "metadata": {},
   "outputs": [],
   "source": [
    "def Fun(num1 = 5, num2 = 4):\n",
    "    sum=num1+num2\n",
    "    diff=num1-num2\n",
    "    return sum, diff"
   ]
  },
  {
   "cell_type": "code",
   "execution_count": null,
   "metadata": {},
   "outputs": [
    {
     "name": "stdout",
     "output_type": "stream",
     "text": [
      "Addition of the two numbers is 16\n",
      "Difference of the two numbers is 4\n"
     ]
    }
   ],
   "source": [
    "sum, diff= Fun(10,6)\n",
    "print(f'Addition of the two numbers is {sum}')\n",
    "print(f'Difference of the two numbers is {diff}')"
   ]
  },
  {
   "cell_type": "markdown",
   "metadata": {},
   "source": [
    "> <b>Note: All function have a return statement. If you doesn't return anything then by default it returns None</b>"
   ]
  },
  {
   "cell_type": "code",
   "execution_count": null,
   "metadata": {},
   "outputs": [
    {
     "name": "stdout",
     "output_type": "stream",
     "text": [
      "4\n",
      "None\n"
     ]
    }
   ],
   "source": [
    "a = Area()\n",
    "print(a)"
   ]
  },
  {
   "cell_type": "markdown",
   "metadata": {},
   "source": [
    "#### **Why Use Return?**\n",
    " - Storage: Instead of just printing a value, the return statement allows you to store the result in a variable. This means you can use it later in your code.\n",
    " - Flexibility: You can compute different values by changing the input parameters, while still being able to use the computed result."
   ]
  },
  {
   "cell_type": "code",
   "execution_count": null,
   "metadata": {},
   "outputs": [],
   "source": [
    "def odd_even(num):\n",
    "    if num%2==0:\n",
    "        return 'the number {} is even'.format(num)\n",
    "    else:\n",
    "         return 'the number {} is odd'.format(num)"
   ]
  },
  {
   "cell_type": "code",
   "execution_count": null,
   "metadata": {},
   "outputs": [
    {
     "data": {
      "text/plain": [
       "'the number 32 is even'"
      ]
     },
     "metadata": {},
     "output_type": "display_data"
    }
   ],
   "source": [
    "odd_even(32)"
   ]
  },
  {
   "cell_type": "code",
   "execution_count": null,
   "metadata": {},
   "outputs": [
    {
     "data": {
      "text/plain": [
       "['the number 2 is even',\n",
       " 'the number 4 is even',\n",
       " 'the number 6 is even',\n",
       " 'the number 8 is even',\n",
       " 'the number 34 is even',\n",
       " 'the number 57 is odd',\n",
       " 'the number 32 is even',\n",
       " 'the number 11 is odd',\n",
       " 'the number 45 is odd',\n",
       " 'the number 39 is odd']"
      ]
     },
     "metadata": {},
     "output_type": "display_data"
    }
   ],
   "source": [
    "list1=[2,4,6,8,34,57,32,11,45,39]\n",
    "\n",
    "list(map(odd_even, list1))"
   ]
  },
  {
   "cell_type": "code",
   "execution_count": null,
   "metadata": {},
   "outputs": [
    {
     "data": {
      "text/plain": [
       "[True, None, True, None, True, None, None, None, None, None, True, None, True]"
      ]
     },
     "metadata": {},
     "output_type": "display_data"
    }
   ],
   "source": [
    "def even(num):\n",
    "    if num%2==0:\n",
    "        return True\n",
    "   \n",
    "    \n",
    "list1 = [2,3,4,5,6,7,9,11,13,15,14,19,16]\n",
    "list(map(even,list1))"
   ]
  },
  {
   "cell_type": "code",
   "execution_count": null,
   "metadata": {},
   "outputs": [
    {
     "data": {
      "text/plain": [
       "[2, 4, 6, 14, 16]"
      ]
     },
     "metadata": {},
     "output_type": "display_data"
    }
   ],
   "source": [
    "list(filter(even,list1))"
   ]
  },
  {
   "cell_type": "code",
   "execution_count": null,
   "metadata": {},
   "outputs": [
    {
     "data": {
      "text/plain": [
       "[True, None, True, None, True, None, None, None, None, None, True, None, True]"
      ]
     },
     "metadata": {},
     "output_type": "display_data"
    }
   ],
   "source": [
    "list(map(even,list1))"
   ]
  },
  {
   "cell_type": "code",
   "execution_count": null,
   "metadata": {},
   "outputs": [
    {
     "data": {
      "text/plain": [
       "[True,\n",
       " False,\n",
       " True,\n",
       " False,\n",
       " True,\n",
       " False,\n",
       " False,\n",
       " False,\n",
       " False,\n",
       " False,\n",
       " True,\n",
       " False,\n",
       " True]"
      ]
     },
     "metadata": {},
     "output_type": "display_data"
    }
   ],
   "source": [
    "list(map(lambda even: even%2==0,list1))"
   ]
  },
  {
   "cell_type": "code",
   "execution_count": null,
   "metadata": {},
   "outputs": [
    {
     "data": {
      "text/plain": [
       "[2, 4, 6, 14, 16]"
      ]
     },
     "metadata": {},
     "output_type": "display_data"
    }
   ],
   "source": [
    "list(filter(lambda even: even%2==0,list1))"
   ]
  },
  {
   "cell_type": "code",
   "execution_count": null,
   "metadata": {},
   "outputs": [],
   "source": [
    "# Median Function\n",
    "\n",
    "def median(numbers):\n",
    "    sorted_numbers = sorted(numbers)\n",
    "    n = len(sorted_numbers)\n",
    "    mid = n // 2\n",
    "    if n % 2 == 0:\n",
    "        return (sorted_numbers[mid - 1] + sorted_numbers[mid]) / 2\n",
    "    else:\n",
    "        return sorted_numbers[mid]"
   ]
  },
  {
   "cell_type": "code",
   "execution_count": null,
   "metadata": {},
   "outputs": [
    {
     "name": "stdout",
     "output_type": "stream",
     "text": [
      "Median: 3.5\n"
     ]
    }
   ],
   "source": [
    "data = [1, 2, 2, 3, 4, 4, 4, 5]\n",
    "\n",
    "print(\"Median:\", median(data))"
   ]
  },
  {
   "cell_type": "code",
   "execution_count": null,
   "metadata": {},
   "outputs": [],
   "source": [
    "#Mode Function\n",
    "\n",
    "def mode(numbers):\n",
    "    count = count(numbers)\n",
    "    max_count = max(count.values())\n",
    "    modes = [num for num, freq in count.items() if freq == max_count]\n",
    "    if len(modes) == len(numbers):\n",
    "        return None\n",
    "    return modes"
   ]
  },
  {
   "cell_type": "code",
   "execution_count": null,
   "metadata": {},
   "outputs": [
    {
     "name": "stdout",
     "output_type": "stream",
     "text": [
      "Mode: [4]\n"
     ]
    }
   ],
   "source": [
    "# Example usage\n",
    "data = [1, 2, 2, 3, 4, 4, 4, 5]\n",
    "\n",
    "print(\"Mode:\", mode(data)) "
   ]
  },
  {
   "cell_type": "markdown",
   "metadata": {},
   "source": [
    "#### Multiple Parameter"
   ]
  },
  {
   "cell_type": "code",
   "execution_count": null,
   "metadata": {},
   "outputs": [
    {
     "name": "stdout",
     "output_type": "stream",
     "text": [
      "7\n",
      "9\n",
      "None\n"
     ]
    }
   ],
   "source": [
    "def add(a,b):\n",
    "    print(a+b)\n",
    "\n",
    "add(3,4)\n",
    "r = add(4,5)\n",
    "print(r) #By defualt it returns None."
   ]
  },
  {
   "cell_type": "code",
   "execution_count": null,
   "metadata": {},
   "outputs": [
    {
     "name": "stdout",
     "output_type": "stream",
     "text": [
      "9\n"
     ]
    }
   ],
   "source": [
    "def add(a,b):\n",
    "    return (a+b)\n",
    "\n",
    "add(3,4)\n",
    "r = add(4,5)\n",
    "print(r)"
   ]
  },
  {
   "cell_type": "markdown",
   "metadata": {},
   "source": [
    "#### Polymorphism in function\n",
    "- it handles both string and integer data type."
   ]
  },
  {
   "cell_type": "code",
   "execution_count": null,
   "metadata": {},
   "outputs": [
    {
     "name": "stdout",
     "output_type": "stream",
     "text": [
      "20\n",
      "aaaaa\n",
      "aaaaa\n"
     ]
    }
   ],
   "source": [
    "def mult(p1,p2):\n",
    "    return p1*p2\n",
    "\n",
    "print(mult(4,5)) #integer\n",
    "print(mult('a',5)) #string and integer\n",
    "print(mult(5,'a')) #integer and string"
   ]
  },
  {
   "cell_type": "markdown",
   "metadata": {},
   "source": [
    "#### Function return multiple value"
   ]
  },
  {
   "cell_type": "code",
   "execution_count": null,
   "metadata": {},
   "outputs": [
    {
     "name": "stdout",
     "output_type": "stream",
     "text": [
      "78.53981633974483\n"
     ]
    }
   ],
   "source": [
    "# Area of CIrcle\n",
    "\n",
    "import math \n",
    "\n",
    "def circle_stats(radius):\n",
    "     return math.pi * radius ** 2\n",
    "        \n",
    "\n",
    "print(circle_stats(5))"
   ]
  },
  {
   "cell_type": "markdown",
   "metadata": {},
   "source": [
    "### OR"
   ]
  },
  {
   "cell_type": "code",
   "execution_count": null,
   "metadata": {},
   "outputs": [
    {
     "name": "stdout",
     "output_type": "stream",
     "text": [
      " Area: 28.274333882308138\n",
      " Circumference: 18.84955592153876\n"
     ]
    }
   ],
   "source": [
    "import math \n",
    "\n",
    "def circle_stats(radius):\n",
    "     area = math.pi* radius **2\n",
    "     circumference = 2*math.pi* radius\n",
    "     return area,circumference\n",
    "\n",
    "a,c = circle_stats(3)\n",
    "\n",
    "print(f\" Area: {a}\\n\",f\"Circumference: {c}\")"
   ]
  },
  {
   "cell_type": "markdown",
   "metadata": {},
   "source": [
    "#### Default parameter value"
   ]
  },
  {
   "cell_type": "code",
   "execution_count": null,
   "metadata": {},
   "outputs": [
    {
     "name": "stdout",
     "output_type": "stream",
     "text": [
      "Hello,Ram!\n"
     ]
    }
   ],
   "source": [
    "def greet(name ):\n",
    "    return \"Hello,\"+name+\"!\"\n",
    "\n",
    "print(greet(\"Ram\"))"
   ]
  },
  {
   "cell_type": "code",
   "execution_count": null,
   "metadata": {},
   "outputs": [
    {
     "name": "stdout",
     "output_type": "stream",
     "text": [
      "Hello,User!\n",
      "Hello,Ram!\n"
     ]
    }
   ],
   "source": [
    "def greet(name = \"User\"): # pass value\n",
    "    return \"Hello,\"+name+\"!\"\n",
    "\n",
    "print(greet()) \n",
    "print(greet(\"Ram\"))"
   ]
  },
  {
   "cell_type": "markdown",
   "metadata": {},
   "source": [
    "## **Lambda Function**\n",
    "- We just saw a simple function to return addition of two numbers, there is an another way of writtng it.\n",
    "- lambda function is a small anonymous function.\n",
    "\n",
    "```\n",
    "def Add(a, b):\n",
    "    return a+b\n",
    "```\n",
    "The code above can be written as:\n",
    "\n",
    "```\n",
    "Add = lambda a,b: a+b\n",
    "```\n",
    "\n",
    "> <b> Note: The lambda function can take any number of arguments but can have only one expression\n"
   ]
  },
  {
   "cell_type": "code",
   "execution_count": null,
   "metadata": {},
   "outputs": [],
   "source": [
    "def even(num):\n",
    "    if num%2==0:\n",
    "     return True\n",
    "    \n",
    "list1=[1,2,3,4,5,6,7,8,9]"
   ]
  },
  {
   "cell_type": "code",
   "execution_count": null,
   "metadata": {},
   "outputs": [
    {
     "data": {
      "text/plain": [
       "[False, True, False, True, False, True, False, True, False]"
      ]
     },
     "metadata": {},
     "output_type": "display_data"
    }
   ],
   "source": [
    "list(map(lambda num:num%2==0,list1))"
   ]
  },
  {
   "cell_type": "code",
   "execution_count": null,
   "metadata": {},
   "outputs": [
    {
     "data": {
      "text/plain": [
       "[2, 4, 6, 8]"
      ]
     },
     "metadata": {},
     "output_type": "display_data"
    }
   ],
   "source": [
    "list(filter(lambda num:num%2==0,list1))"
   ]
  },
  {
   "cell_type": "code",
   "execution_count": null,
   "metadata": {},
   "outputs": [
    {
     "name": "stdout",
     "output_type": "stream",
     "text": [
      "7\n",
      "10\n",
      "2.5\n"
     ]
    }
   ],
   "source": [
    "#def add(a,b):\n",
    " #   return (a+b)\n",
    "#add(3,4)\n",
    "\n",
    "add = lambda a,b: a+b\n",
    "mult = lambda a,b: a*b\n",
    "div = lambda a,b: a/b\n",
    "\n",
    "\n",
    "print(add(5,2))\n",
    "print(mult(5,2))\n",
    "print(div(5,2))"
   ]
  },
  {
   "cell_type": "markdown",
   "metadata": {},
   "source": [
    "### **Components of a Lambda Function:**\n",
    "1. The lambda keyword is used to indicate that this is a lambda expression.\n",
    "2. Following lambda are one or more arguments for the anonymous function separated by commas,\n",
    "3. followed by a colon :. Similar to functions.\n",
    "4. Last is an expression that is evaluated and returned in this function. This is a lot like an expression you might see as a return statement in a function.\n",
    "\n",
    "With this structure, lambda expressions aren’t ideal for complex functions, but can be very useful for short,sweet and simple functions."
   ]
  },
  {
   "cell_type": "markdown",
   "metadata": {},
   "source": [
    "## **DOCSTRINGS**\n",
    "* There is one more technique that makes the function in python more readable, the **documentation strings** or the **docstrings**.\n",
    "* Docstrings are the type of comments that explains the purpose of a function and how it should be used.\n",
    "\n",
    "* Docstrings are surrounded by tripple quotes.\n",
    "* The first line of the docstring is the brief explaination of the function perpose.\n",
    "* The next line of the docstring is generally contains information about the arguments that the function takes\n",
    "* Finally it provides the description about the output.\n",
    "\n",
    ">**NOTE:** Every part of the docstring is optional, but it is good habit to write docstring while defining a function, so that everyone can understand the code easily"
   ]
  },
  {
   "cell_type": "code",
   "execution_count": null,
   "metadata": {},
   "outputs": [
    {
     "name": "stdout",
     "output_type": "stream",
     "text": [
      "Even\n"
     ]
    },
    {
     "data": {
      "text/plain": [
       "True"
      ]
     },
     "metadata": {},
     "output_type": "display_data"
    }
   ],
   "source": [
    "def is_even(i):\n",
    "\n",
    "#Dcumentation string\n",
    "    \"\"\"\n",
    "    input : i , a positive int \n",
    "    returns True if I is even \n",
    "    \"\"\"\n",
    "#body\n",
    "    print(\"Even\")\n",
    "    return i%2==0\n",
    "\n",
    "#calling \n",
    "is_even(2)"
   ]
  },
  {
   "cell_type": "markdown",
   "metadata": {},
   "source": [
    "## Parameter VS Argumrnt\n",
    "* Parameter:- When we create function and pass any variable is call parameter.\n",
    "    - A parameter is a variable declared in a function’s definition or signature.\n",
    "    - parameter is the variable listed inside the parenthesis in the function definition.\n",
    "\n",
    "* Argument:- When we call function and value for the parameter is call argument.\n",
    "    - An argument is the actual value passed to a function when it is called.\n",
    "    - Argument is the value that is sent ti the function whwn it is called\n",
    "\n",
    "**Parameters are defined in the function declaration, while arguments are passed when the function is called.**\n"
   ]
  },
  {
   "cell_type": "code",
   "execution_count": null,
   "metadata": {},
   "outputs": [
    {
     "data": {
      "text/plain": [
       "1.2"
      ]
     },
     "metadata": {},
     "output_type": "display_data"
    }
   ],
   "source": [
    "def mean(a,b):\n",
    "    return (a*b)/(a+b)\n",
    "\n",
    "mean(2,3)"
   ]
  },
  {
   "cell_type": "code",
   "execution_count": null,
   "metadata": {},
   "outputs": [],
   "source": [
    "def is_even(i): #parameter\n",
    "    #body\n",
    "    print(\"Even\")\n",
    "    return i%2==0"
   ]
  },
  {
   "cell_type": "code",
   "execution_count": null,
   "metadata": {},
   "outputs": [
    {
     "name": "stdout",
     "output_type": "stream",
     "text": [
      "Even\n"
     ]
    },
    {
     "data": {
      "text/plain": [
       "False"
      ]
     },
     "metadata": {},
     "output_type": "display_data"
    }
   ],
   "source": [
    "is_even(3) #argument"
   ]
  },
  {
   "cell_type": "markdown",
   "metadata": {},
   "source": [
    "### **Argument**\n",
    "- Default Argument\n",
    "- Positional Argument\n",
    "- Keyword Argument"
   ]
  },
  {
   "cell_type": "code",
   "execution_count": null,
   "metadata": {},
   "outputs": [],
   "source": [
    "def power(a=\"default\",b=\"default\"):  #default arguement\n",
    "        return a**b"
   ]
  },
  {
   "cell_type": "code",
   "execution_count": null,
   "metadata": {},
   "outputs": [
    {
     "data": {
      "text/plain": [
       "8"
      ]
     },
     "metadata": {},
     "output_type": "display_data"
    }
   ],
   "source": [
    "# Positional Argument\n",
    "power(2,3)"
   ]
  },
  {
   "cell_type": "code",
   "execution_count": null,
   "metadata": {},
   "outputs": [
    {
     "data": {
      "text/plain": [
       "8"
      ]
     },
     "metadata": {},
     "output_type": "display_data"
    }
   ],
   "source": [
    "# Keyword Argument\n",
    "power(b=3,a=2)"
   ]
  },
  {
   "cell_type": "markdown",
   "metadata": {},
   "source": [
    "### Want to see Function Documention."
   ]
  },
  {
   "cell_type": "code",
   "execution_count": null,
   "metadata": {},
   "outputs": [
    {
     "name": "stdout",
     "output_type": "stream",
     "text": [
      "type(object) -> the object's type\n",
      "type(name, bases, dict, **kwds) -> a new type\n"
     ]
    }
   ],
   "source": [
    "print(type.__doc__)"
   ]
  },
  {
   "cell_type": "code",
   "execution_count": null,
   "metadata": {},
   "outputs": [
    {
     "name": "stdout",
     "output_type": "stream",
     "text": [
      "Built-in mutable sequence.\n",
      "\n",
      "If no argument is given, the constructor creates a new empty list.\n",
      "The argument must be an iterable if specified.\n"
     ]
    }
   ],
   "source": [
    "print(list.__doc__)"
   ]
  },
  {
   "cell_type": "code",
   "execution_count": null,
   "metadata": {},
   "outputs": [
    {
     "name": "stdout",
     "output_type": "stream",
     "text": [
      "set() -> new empty set object\n",
      "set(iterable) -> new set object\n",
      "\n",
      "Build an unordered collection of unique elements.\n"
     ]
    }
   ],
   "source": [
    "print(set.__doc__)"
   ]
  },
  {
   "cell_type": "code",
   "execution_count": null,
   "metadata": {},
   "outputs": [
    {
     "name": "stdout",
     "output_type": "stream",
     "text": [
      "dict() -> new empty dictionary\n",
      "dict(mapping) -> new dictionary initialized from a mapping object's\n",
      "    (key, value) pairs\n",
      "dict(iterable) -> new dictionary initialized as if via:\n",
      "    d = {}\n",
      "    for k, v in iterable:\n",
      "        d[k] = v\n",
      "dict(**kwargs) -> new dictionary initialized with the name=value pairs\n",
      "    in the keyword argument list.  For example:  dict(one=1, two=2)\n"
     ]
    }
   ],
   "source": [
    "print(dict.__doc__)"
   ]
  }
 ],
 "metadata": {
  "kernelspec": {
   "display_name": "Python 3",
   "language": "python",
   "name": "python3"
  },
  "language_info": {
   "codemirror_mode": {
    "name": "ipython",
    "version": 3
   },
   "file_extension": ".py",
   "mimetype": "text/x-python",
   "name": "python",
   "nbconvert_exporter": "python",
   "pygments_lexer": "ipython3",
   "version": "3.11.3"
  }
 },
 "nbformat": 4,
 "nbformat_minor": 2
}
