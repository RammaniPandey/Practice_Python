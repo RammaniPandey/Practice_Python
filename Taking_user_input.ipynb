{
 "cells": [
  {
   "cell_type": "markdown",
   "metadata": {},
   "source": [
    "#### Taking user input\n",
    "\n",
    "   - 'print' is used to output values.\n",
    "   - 'input()' to get user input.\n",
    "   -  input() always read a input value as a string.\n",
    "   "
   ]
  },
  {
   "cell_type": "code",
   "execution_count": 6,
   "metadata": {},
   "outputs": [
    {
     "name": "stdout",
     "output_type": "stream",
     "text": [
      "ram\n",
      "ramram\n",
      "ramramram\n"
     ]
    }
   ],
   "source": [
    "a = input()\n",
    "print(a)\n",
    "print(a+a)\n",
    "print(a*3)"
   ]
  },
  {
   "cell_type": "code",
   "execution_count": 9,
   "metadata": {},
   "outputs": [
    {
     "name": "stdout",
     "output_type": "stream",
     "text": [
      "3\n",
      "6\n"
     ]
    }
   ],
   "source": [
    "a = input()\n",
    "print(a)\n",
    "print(int(a)+int(a))"
   ]
  },
  {
   "cell_type": "code",
   "execution_count": 11,
   "metadata": {},
   "outputs": [
    {
     "name": "stdout",
     "output_type": "stream",
     "text": [
      "Your name is Rammani!\n"
     ]
    }
   ],
   "source": [
    "name = input(\"Enter your name is : \")\n",
    "print(f\"Your name is {name}!\")"
   ]
  },
  {
   "cell_type": "code",
   "execution_count": 12,
   "metadata": {},
   "outputs": [
    {
     "name": "stdout",
     "output_type": "stream",
     "text": [
      "Your age is 32!\n",
      "So next year you will be 33 year!\n"
     ]
    }
   ],
   "source": [
    "age = input(\"Enter your age : \")\n",
    "print(f\"Your age is {age}\")\n",
    "print(f\"So next year you will be {int(age)+1} year!\")"
   ]
  },
  {
   "cell_type": "code",
   "execution_count": 4,
   "metadata": {},
   "outputs": [
    {
     "name": "stdout",
     "output_type": "stream",
     "text": [
      "Suno, Ram!\n",
      "Tum 22 Sal ki ho gai .\n"
     ]
    }
   ],
   "source": [
    "name = input()\n",
    "print(\"Suno, \" + name + \"!\")\n",
    "\n",
    "age = input()\n",
    "print(\"Tum \" + age + \" Sal ki ho gai .\")"
   ]
  },
  {
   "cell_type": "code",
   "execution_count": 8,
   "metadata": {},
   "outputs": [
    {
     "name": "stdout",
     "output_type": "stream",
     "text": [
      "Number is : 4\n"
     ]
    }
   ],
   "source": [
    "num = input(\"Enter Num : \")\n",
    "print('Number is :', num)"
   ]
  },
  {
   "cell_type": "code",
   "execution_count": 10,
   "metadata": {},
   "outputs": [
    {
     "name": "stdout",
     "output_type": "stream",
     "text": [
      "Hello tr\n"
     ]
    }
   ],
   "source": [
    "x = input()\n",
    "print('Hello',x)"
   ]
  },
  {
   "cell_type": "code",
   "execution_count": 11,
   "metadata": {},
   "outputs": [
    {
     "name": "stdout",
     "output_type": "stream",
     "text": [
      "sum :  9\n",
      "diff: -1\n"
     ]
    }
   ],
   "source": [
    "a = int(input('First Num: '))\n",
    "b = int(input('Second Num :'))\n",
    "sum = a+b\n",
    "diff = a-b\n",
    "print('sum : ', sum)\n",
    "print('diff:',diff)"
   ]
  },
  {
   "cell_type": "code",
   "execution_count": 13,
   "metadata": {},
   "outputs": [
    {
     "name": "stdout",
     "output_type": "stream",
     "text": [
      "7\n"
     ]
    }
   ],
   "source": [
    "num1 = int(input())\n",
    "num2 = int(input())\n",
    "print(num1 + num2)"
   ]
  },
  {
   "cell_type": "code",
   "execution_count": 14,
   "metadata": {},
   "outputs": [
    {
     "name": "stdout",
     "output_type": "stream",
     "text": [
      "9\n"
     ]
    }
   ],
   "source": [
    "num = int(input('Enter no :'))\n",
    "print(num*num)"
   ]
  },
  {
   "cell_type": "code",
   "execution_count": 18,
   "metadata": {},
   "outputs": [
    {
     "name": "stdout",
     "output_type": "stream",
     "text": [
      "4 + 5 = 9\n"
     ]
    }
   ],
   "source": [
    "a = int(input())\n",
    "b = int(input())\n",
    "print(a,\"+\", b,\"=\", a + b)"
   ]
  },
  {
   "cell_type": "code",
   "execution_count": 19,
   "metadata": {},
   "outputs": [
    {
     "name": "stdout",
     "output_type": "stream",
     "text": [
      "9\n"
     ]
    }
   ],
   "source": [
    "a = int(input())\n",
    "b = int(input())\n",
    "\n",
    "c = a + 2\n",
    "d = b + c\n",
    "\n",
    "print(d)"
   ]
  },
  {
   "cell_type": "markdown",
   "metadata": {},
   "source": [
    "##### *Multiple string inputs*\n",
    "\n",
    "   - **split():** The split() function breaks this single line of input into multiple parts.\n",
    "   By default, split() divides the input based on spaces, so each word separated by a space is treated as an independent input and stored in different variables."
   ]
  },
  {
   "cell_type": "code",
   "execution_count": 26,
   "metadata": {},
   "outputs": [
    {
     "name": "stdout",
     "output_type": "stream",
     "text": [
      "['Rammani']\n"
     ]
    }
   ],
   "source": [
    "a = input().split()\n",
    "print(a)"
   ]
  },
  {
   "cell_type": "code",
   "execution_count": 14,
   "metadata": {},
   "outputs": [
    {
     "name": "stdout",
     "output_type": "stream",
     "text": [
      "{'name': 'Swara', 'age': 22, 'height': 5.6, 'Course': 'BSC Biotech'}\n"
     ]
    }
   ],
   "source": [
    "data = {}\n",
    "\n",
    "data['name']=input('Enter your Name : ')\n",
    "data['age']=int(input('Enter your age : '))\n",
    "data['height']=float(input('Enter your height : '))\n",
    "data['Course']=input('Enter your Course : ')\n",
    "\n",
    "print(data)"
   ]
  },
  {
   "cell_type": "code",
   "execution_count": null,
   "metadata": {},
   "outputs": [],
   "source": []
  }
 ],
 "metadata": {
  "kernelspec": {
   "display_name": "Python 3",
   "language": "python",
   "name": "python3"
  },
  "language_info": {
   "codemirror_mode": {
    "name": "ipython",
    "version": 3
   },
   "file_extension": ".py",
   "mimetype": "text/x-python",
   "name": "python",
   "nbconvert_exporter": "python",
   "pygments_lexer": "ipython3",
   "version": "3.11.3"
  }
 },
 "nbformat": 4,
 "nbformat_minor": 2
}
