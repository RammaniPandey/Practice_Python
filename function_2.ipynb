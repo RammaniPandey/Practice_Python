{
 "cells": [
  {
   "cell_type": "code",
   "execution_count": 6,
   "metadata": {},
   "outputs": [
    {
     "data": {
      "text/plain": [
       "37.4"
      ]
     },
     "execution_count": 6,
     "metadata": {},
     "output_type": "execute_result"
    }
   ],
   "source": [
    "# Convert to fahernhiet to Centigrade\n",
    "def fahernhiet(Cent):\n",
    "    fah = (Cent*1.8)+32\n",
    "    return fah\n",
    "\n",
    "fahernhiet(3)"
   ]
  },
  {
   "cell_type": "code",
   "execution_count": 5,
   "metadata": {},
   "outputs": [
    {
     "name": "stdout",
     "output_type": "stream",
     "text": [
      "6.0\n"
     ]
    }
   ],
   "source": [
    "import math\n",
    "def area(a,b,c):\n",
    "    s = (a+b+c)/2\n",
    "    ab = math.sqrt(s*(s-a)*(s-b)*(s-c))\n",
    "    return ab\n",
    "\n",
    "print(area(3, 4, 5)) "
   ]
  },
  {
   "cell_type": "code",
   "execution_count": 7,
   "metadata": {},
   "outputs": [
    {
     "name": "stdout",
     "output_type": "stream",
     "text": [
      "14.696938456699069\n"
     ]
    }
   ],
   "source": [
    "import math\n",
    "\n",
    "def area(a, b, c):\n",
    "    s = (a + b + c) / 2  \n",
    "    area_value = math.sqrt(s * (s - a) * (s - b) * (s - c))  \n",
    "    return area_value  # Return the area value\n",
    "\n",
    "\n",
    "print(area(5,6,7))"
   ]
  },
  {
   "cell_type": "code",
   "execution_count": 39,
   "metadata": {},
   "outputs": [
    {
     "name": "stdout",
     "output_type": "stream",
     "text": [
      "After: a = 4\n",
      "After: b = 3\n"
     ]
    }
   ],
   "source": [
    "#swap two values using (,)\n",
    "def swap(a, b):\n",
    "    a, b = b, a  \n",
    "    print(\"After: a =\", a)\n",
    "    print(\"After: b =\", b)\n",
    "\n",
    "swap(3, 4)"
   ]
  },
  {
   "cell_type": "code",
   "execution_count": 9,
   "metadata": {},
   "outputs": [
    {
     "name": "stdout",
     "output_type": "stream",
     "text": [
      "Circumference: 12.566370614359172\n",
      "Area: 12.566370614359172\n"
     ]
    }
   ],
   "source": [
    "import math\n",
    "\n",
    "def area_circle():\n",
    "    r = float(input(\"Input the radius of the circle: \"))\n",
    "    \n",
    "    # Using math.pi for a more accurate value of π\n",
    "    circumference = 2 * math.pi * r\n",
    "    area = math.pi * r * r\n",
    "\n",
    "    print(\"Circumference:\", circumference)# More descriptive print statement\n",
    "    print(\"Area:\", area)# More descriptive print statement\n",
    "\n",
    "area_circle()"
   ]
  },
  {
   "cell_type": "code",
   "execution_count": 2,
   "metadata": {},
   "outputs": [
    {
     "name": "stdout",
     "output_type": "stream",
     "text": [
      "120\n"
     ]
    }
   ],
   "source": [
    "# Factorial \n",
    "\n",
    "def factorial(n):\n",
    "    fact = 1\n",
    "    for i in range(1,n+1):\n",
    "        fact *= i\n",
    "    print(fact)\n",
    "\n",
    "factorial(5)"
   ]
  },
  {
   "cell_type": "code",
   "execution_count": 12,
   "metadata": {},
   "outputs": [
    {
     "name": "stdout",
     "output_type": "stream",
     "text": [
      "3 USD: 249 INR\n"
     ]
    }
   ],
   "source": [
    "# USD to INR converter using function\n",
    "def convert(usd_val):\n",
    "    inr_val = usd_val * 83\n",
    "    print(usd_val,\"USD:\",inr_val,\"INR\")\n",
    "\n",
    "convert(3)"
   ]
  },
  {
   "cell_type": "code",
   "execution_count": 3,
   "metadata": {},
   "outputs": [
    {
     "data": {
      "text/plain": [
       "'EVEN'"
      ]
     },
     "execution_count": 3,
     "metadata": {},
     "output_type": "execute_result"
    }
   ],
   "source": [
    "#ODD EVEN Number check\n",
    "def func(n):\n",
    "    if n%2==0:\n",
    "        return \"EVEN\"\n",
    "    else:\n",
    "        return \"ODD\"\n",
    "    \n",
    "func(52)"
   ]
  },
  {
   "cell_type": "markdown",
   "metadata": {},
   "source": [
    "### Nested Function\n",
    "- simply a function design inside the another function.\n",
    " - function()\n",
    "     - function()\n",
    "         - function()"
   ]
  },
  {
   "cell_type": "code",
   "execution_count": 21,
   "metadata": {},
   "outputs": [
    {
     "name": "stdout",
     "output_type": "stream",
     "text": [
      "This is outer function\n",
      "This is inner function\n"
     ]
    }
   ],
   "source": [
    "def outer():\n",
    "    print(\"This is outer function\")\n",
    "    def inner():\n",
    "        print(\"This is inner function\")\n",
    "    inner()\n",
    "outer()"
   ]
  },
  {
   "cell_type": "code",
   "execution_count": 22,
   "metadata": {},
   "outputs": [
    {
     "name": "stdout",
     "output_type": "stream",
     "text": [
      "This is outer function\n",
      "100\n",
      "This is inner function\n"
     ]
    }
   ],
   "source": [
    "a=100\n",
    "def outer():\n",
    "    b=200\n",
    "    print(\"This is outer function\")\n",
    "    def inner():\n",
    "        print(a)\n",
    "        print(\"This is inner function\")\n",
    "    inner()\n",
    "outer()"
   ]
  },
  {
   "cell_type": "code",
   "execution_count": 23,
   "metadata": {},
   "outputs": [
    {
     "name": "stdout",
     "output_type": "stream",
     "text": [
      "Hello Rammani Pandey\n"
     ]
    }
   ],
   "source": [
    "def name(first, last):\n",
    "    def fullname():\n",
    "        return first+\" \"+last\n",
    "    print('Hello'+' '+fullname())\n",
    "name(\"Rammani\",\"Pandey\")"
   ]
  },
  {
   "cell_type": "code",
   "execution_count": 24,
   "metadata": {},
   "outputs": [
    {
     "name": "stdout",
     "output_type": "stream",
     "text": [
      "Inside Function f\n"
     ]
    }
   ],
   "source": [
    "def f():\n",
    "    def g():\n",
    "        print(\"Inside Function g\")\n",
    "        f()\n",
    "    print(\"Inside Function f\")\n",
    "\n",
    "f()\n"
   ]
  },
  {
   "cell_type": "code",
   "execution_count": 6,
   "metadata": {},
   "outputs": [
    {
     "name": "stdout",
     "output_type": "stream",
     "text": [
      "Hi Ramanani Pandey\n",
      "Hi Swati Dwivedi\n"
     ]
    }
   ],
   "source": [
    "def name(first,last):\n",
    "    def fullname():\n",
    "        return first + \" \" + last\n",
    "    print(\"Hi\"+\" \"+fullname())\n",
    "    \n",
    "name(\"Ramanani\",\"Pandey\")\n",
    "name(\"Swati\", \"Dwivedi\")"
   ]
  },
  {
   "cell_type": "markdown",
   "metadata": {},
   "source": [
    "## Prime or Not"
   ]
  },
  {
   "cell_type": "code",
   "execution_count": 3,
   "metadata": {},
   "outputs": [
    {
     "name": "stdout",
     "output_type": "stream",
     "text": [
      "Not Prime\n"
     ]
    }
   ],
   "source": [
    "def prime(n, i):\n",
    "    # Base case: if we have checked all numbers down to 2\n",
    "    if i == 1:\n",
    "        return 1  # n is prime\n",
    "    if n % i == 0:  # Check divisibility\n",
    "        return 0  # n is not prime\n",
    "    return prime(n, i - 1)  # Recursive call with the next number\n",
    "\n",
    "n = int(input(\"Enter the value: \"))\n",
    "\n",
    "# Check if n is less than 2 (0 and 1 are not prime)\n",
    "if n < 2:\n",
    "    print(\"Not Prime\")\n",
    "else:\n",
    "    ind = prime(n, n - 1)\n",
    "\n",
    "    if ind == 1:\n",
    "        print(\"Prime\")\n",
    "    else:\n",
    "        print(\"Not Prime\")"
   ]
  },
  {
   "cell_type": "markdown",
   "metadata": {},
   "source": [
    "## Fibonacci Program"
   ]
  },
  {
   "cell_type": "code",
   "execution_count": 37,
   "metadata": {},
   "outputs": [
    {
     "name": "stdout",
     "output_type": "stream",
     "text": [
      "0\n",
      "1\n",
      "1\n",
      "2\n",
      "3\n",
      "5\n",
      "8\n",
      "13\n"
     ]
    }
   ],
   "source": [
    "def fibo(n):\n",
    "    if n == 1:\n",
    "        return 0\n",
    "    if n == 2:\n",
    "        return 1\n",
    "    return(fibo(n-2)+fibo(n-1))\n",
    "n = int(input(\"Enter Value:\"))\n",
    "for i in range(1,n+1):\n",
    "    print(fibo(i))"
   ]
  },
  {
   "cell_type": "code",
   "execution_count": 45,
   "metadata": {},
   "outputs": [
    {
     "name": "stdout",
     "output_type": "stream",
     "text": [
      "None\n"
     ]
    }
   ],
   "source": [
    "def count_of(n):\n",
    "    if n <10:\n",
    "        return 1 + count_of(n//10)\n",
    "    \n",
    "print(count_of(56473))"
   ]
  },
  {
   "cell_type": "markdown",
   "metadata": {},
   "source": [
    "## Sum of N Natural Number"
   ]
  },
  {
   "cell_type": "code",
   "execution_count": 47,
   "metadata": {},
   "outputs": [
    {
     "name": "stdout",
     "output_type": "stream",
     "text": [
      "15\n"
     ]
    }
   ],
   "source": [
    "def sum(n):\n",
    "    if n == 1:\n",
    "        return 1\n",
    "    return n + sum(n-1)\n",
    "print(sum(5))"
   ]
  },
  {
   "cell_type": "code",
   "execution_count": null,
   "metadata": {},
   "outputs": [],
   "source": []
  }
 ],
 "metadata": {
  "kernelspec": {
   "display_name": "Python 3",
   "language": "python",
   "name": "python3"
  },
  "language_info": {
   "codemirror_mode": {
    "name": "ipython",
    "version": 3
   },
   "file_extension": ".py",
   "mimetype": "text/x-python",
   "name": "python",
   "nbconvert_exporter": "python",
   "pygments_lexer": "ipython3",
   "version": "3.11.3"
  }
 },
 "nbformat": 4,
 "nbformat_minor": 2
}
