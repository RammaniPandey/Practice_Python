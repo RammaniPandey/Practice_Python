{
 "cells": [
  {
   "cell_type": "markdown",
   "metadata": {},
   "source": [
    "### **Operators**\n",
    "\n",
    "- Arithematic Operator  \n",
    "    - (+)Addition , (-)Substraction , (*)Multiplication , (/)Division , (%)Modulas , (**)Exponents , (//)Floor Division\n",
    "- Assignment Operator \n",
    "    - (=)equal to , (+=)plus equal to , (-=) minus equal to , (*=) multiplication equal to , (/=) division equal , (//=) floor division equal to , (**=) exponent equal to ,(%=) modulas equal to\n",
    "- Comparision Operator \n",
    "    - (==) equal to , (!=) not equal to , (<) less than , (>) greater than , (<=) less than equal to ,\n",
    "(>=) greater than equal,\n",
    "- Membership Operator\n",
    "    - in : If present gives true otherwise false.\n",
    "    -  not in : If not present gives true otherwise false.\n",
    "- Logical Operator \n",
    "    - and: T&T=T otherwise F.\n",
    "        - T + T = T\n",
    "        - T + F = F\n",
    "        - F + T = F\n",
    "        - F + F = F\n",
    "    - or: F or F=F otherwise T.\n",
    "        - T + T = T\n",
    "        - T + F = T\n",
    "        - F + T = T\n",
    "        - F + F = F\n",
    "    - not:Negation\n",
    "        - T = F\n",
    "        - F = T\n",
    "- Identity Operator \n",
    "    - is:memory location same gives true.\n",
    "    - is not: memory location not same gives true\n",
    "- Bitwise Operator \n",
    "    - (&)bitwise and , (|)Bitwise or , (^)Bitwise xor , (>>)Right shift , (<<)left shift , (~)Bitwise not"
   ]
  },
  {
   "cell_type": "markdown",
   "metadata": {},
   "source": []
  },
  {
   "cell_type": "code",
   "execution_count": 4,
   "metadata": {},
   "outputs": [
    {
     "name": "stdout",
     "output_type": "stream",
     "text": [
      "sum :20\n",
      "sub :2\n",
      "multi :160\n"
     ]
    }
   ],
   "source": [
    "a = 10\n",
    "b = 8\n",
    "c = 2\n",
    "sum = a + b + c \n",
    "sub = a - b \n",
    "multi = a * b * c \n",
    "print(f\"sum :{sum}\")\n",
    "print(f\"sub :{sub}\")\n",
    "print(f\"multi :{multi}\")"
   ]
  },
  {
   "cell_type": "code",
   "execution_count": 2,
   "metadata": {},
   "outputs": [
    {
     "name": "stdout",
     "output_type": "stream",
     "text": [
      "a + b =  12\n",
      "a - b =  8\n",
      "a * b =  20\n",
      "a / b =  5.0\n",
      "a % b =  0\n",
      "a // b =  5\n"
     ]
    }
   ],
   "source": [
    "\n",
    "# declare variables\n",
    "a = int(input('Enter First Value : '))\n",
    "b = int(input('Enter Second Value : '))\n",
    "#addition operator\n",
    "print(\"a + b = \",(a + b))\n",
    "#subtraction operator\n",
    "print(\"a - b = \", (a - b))\n",
    "#multiplication operator\n",
    "print(\"a * b = \" ,(a * b))\n",
    "#division operator\n",
    "print(f\"a / b = \",(a / b))\n",
    "#modulo operator\n",
    "print(\"a % b = \",(a % b))\n",
    "#Integer division operator\n",
    "print(\"a // b = \",(a // b))"
   ]
  },
  {
   "cell_type": "markdown",
   "metadata": {},
   "source": [
    "#### **Operator**\n",
    "- they are special Symbols.\n",
    "    - +,-,*,&,^,%,$,#,@,!,~,|,\\,/,?,>,<>\n",
    "\n",
    "**Operand**\n",
    "- It is the values on which the operator is applied. "
   ]
  },
  {
   "cell_type": "code",
   "execution_count": 13,
   "metadata": {},
   "outputs": [
    {
     "name": "stdout",
     "output_type": "stream",
     "text": [
      "True\n",
      "False\n",
      "False\n",
      "True\n",
      "False\n",
      "True\n"
     ]
    }
   ],
   "source": [
    "#Relational Operator or Comparision Operator\n",
    "\n",
    "a = 10\n",
    "b = 8\n",
    "\n",
    "print(a>b)\n",
    "print(a<b)\n",
    "print(a==b)\n",
    "print(a!=b)\n",
    "print(a<=b)\n",
    "print(a>=b)"
   ]
  },
  {
   "cell_type": "code",
   "execution_count": 3,
   "metadata": {},
   "outputs": [
    {
     "name": "stdout",
     "output_type": "stream",
     "text": [
      "10\n"
     ]
    }
   ],
   "source": [
    "# Assignment Operator\n",
    "\n",
    "a = 10  # assign value\n",
    "b = a\n",
    "print(b)"
   ]
  },
  {
   "cell_type": "code",
   "execution_count": 2,
   "metadata": {},
   "outputs": [
    {
     "name": "stdout",
     "output_type": "stream",
     "text": [
      "4\n",
      "2\n"
     ]
    }
   ],
   "source": [
    "# Add and Assign value\n",
    "a = 2\n",
    "b = a\n",
    "b += a # b = b + a\n",
    "print(b)\n",
    "\n",
    "# Sub and Assign value\n",
    "b -= a # b = b - a\n",
    "print(b)"
   ]
  },
  {
   "cell_type": "code",
   "execution_count": 5,
   "metadata": {},
   "outputs": [
    {
     "data": {
      "text/plain": [
       "bool"
      ]
     },
     "execution_count": 5,
     "metadata": {},
     "output_type": "execute_result"
    }
   ],
   "source": [
    "# Logical Operator\n",
    "\n",
    "type(True)\n",
    "type(False)"
   ]
  },
  {
   "cell_type": "code",
   "execution_count": 6,
   "metadata": {},
   "outputs": [
    {
     "data": {
      "text/plain": [
       "False"
      ]
     },
     "execution_count": 6,
     "metadata": {},
     "output_type": "execute_result"
    }
   ],
   "source": [
    "True and False"
   ]
  },
  {
   "cell_type": "code",
   "execution_count": 7,
   "metadata": {},
   "outputs": [
    {
     "data": {
      "text/plain": [
       "True"
      ]
     },
     "execution_count": 7,
     "metadata": {},
     "output_type": "execute_result"
    }
   ],
   "source": [
    "True or False"
   ]
  },
  {
   "cell_type": "code",
   "execution_count": 14,
   "metadata": {},
   "outputs": [
    {
     "data": {
      "text/plain": [
       "False"
      ]
     },
     "execution_count": 14,
     "metadata": {},
     "output_type": "execute_result"
    }
   ],
   "source": [
    "not True \n"
   ]
  },
  {
   "cell_type": "code",
   "execution_count": 15,
   "metadata": {},
   "outputs": [
    {
     "data": {
      "text/plain": [
       "True"
      ]
     },
     "execution_count": 15,
     "metadata": {},
     "output_type": "execute_result"
    }
   ],
   "source": [
    "not False"
   ]
  },
  {
   "cell_type": "code",
   "execution_count": 16,
   "metadata": {},
   "outputs": [
    {
     "name": "stdout",
     "output_type": "stream",
     "text": [
      "V\n"
     ]
    }
   ],
   "source": [
    "age = 18\n"
   ]
  },
  {
   "cell_type": "code",
   "execution_count": 40,
   "metadata": {},
   "outputs": [
    {
     "name": "stdout",
     "output_type": "stream",
     "text": [
      "False\n",
      "True\n",
      "True\n"
     ]
    }
   ],
   "source": [
    "a = 4\n",
    "b =3\n",
    "\n",
    "print(a>4 and b<3)\n",
    "print( a==4 and b==3)\n",
    "print(a==4 or b<3)"
   ]
  },
  {
   "cell_type": "code",
   "execution_count": 41,
   "metadata": {},
   "outputs": [
    {
     "name": "stdout",
     "output_type": "stream",
     "text": [
      "False\n"
     ]
    }
   ],
   "source": [
    "print(not(a==4 and b==3))"
   ]
  },
  {
   "cell_type": "code",
   "execution_count": 28,
   "metadata": {},
   "outputs": [
    {
     "name": "stdout",
     "output_type": "stream",
     "text": [
      "Congratulation! You can vote.....\n"
     ]
    }
   ],
   "source": [
    "age = int(input('Enter your age : '))\n",
    "if age > 18 and age < 40:\n",
    "    print(\"Congratulation! You can vote.....\")"
   ]
  },
  {
   "cell_type": "code",
   "execution_count": 29,
   "metadata": {},
   "outputs": [
    {
     "name": "stdout",
     "output_type": "stream",
     "text": [
      "Ohh...Sorry !\n"
     ]
    }
   ],
   "source": [
    "age = int(input('Enter your age : '))\n",
    "if age > 18 and age < 40:\n",
    "    print(\"Congratulation! You can vote.....\")\n",
    "else:\n",
    "    print(\"Ohh...Sorry !\")"
   ]
  },
  {
   "cell_type": "code",
   "execution_count": 7,
   "metadata": {},
   "outputs": [
    {
     "name": "stdout",
     "output_type": "stream",
     "text": [
      "Logical AND operation - False\n",
      "Logical OR operation - True\n",
      "Logical NOT operation - -2\n",
      "Logical NOT operation - -1\n"
     ]
    }
   ],
   "source": [
    "x = True\n",
    "y = False\n",
    "\n",
    "print('Logical AND operation - {}'.format(x and y))\n",
    "print('Logical OR operation - {}'.format(x or y))\n",
    "print('Logical NOT operation - {}'.format(~x))\n",
    "print('Logical NOT operation - {}'.format(~y))\n"
   ]
  },
  {
   "cell_type": "code",
   "execution_count": 30,
   "metadata": {},
   "outputs": [
    {
     "name": "stdout",
     "output_type": "stream",
     "text": [
      "2903432789808\n",
      "2903432789808\n",
      "True\n",
      "False\n"
     ]
    }
   ],
   "source": [
    "#Identity Operator \n",
    "\n",
    "# is\n",
    "\n",
    "a = \"Ram\"\n",
    "b = \"Ram\"\n",
    "print(id(a))\n",
    "print(id(b))\n",
    "print(a is b)\n",
    "# is not \n",
    "\n",
    "print(a is not b)"
   ]
  },
  {
   "cell_type": "code",
   "execution_count": 45,
   "metadata": {},
   "outputs": [
    {
     "name": "stdout",
     "output_type": "stream",
     "text": [
      "True\n",
      "False\n",
      "2903433611776\n",
      "2903433105472\n"
     ]
    }
   ],
   "source": [
    "lst1 = [ 1,2,3,4,5]\n",
    "b = lst1\n",
    "lst2 = [ 1,2,3,4,5]\n",
    "print(lst1 is b)\n",
    "print(lst1 is lst2)\n",
    "print(id(lst1))\n",
    "print(id(lst2))\n"
   ]
  },
  {
   "cell_type": "code",
   "execution_count": 37,
   "metadata": {},
   "outputs": [
    {
     "name": "stdout",
     "output_type": "stream",
     "text": [
      "True\n",
      "False\n"
     ]
    }
   ],
   "source": [
    "print(lst1==lst2)\n",
    "print(lst1 is lst2)"
   ]
  },
  {
   "cell_type": "code",
   "execution_count": 47,
   "metadata": {},
   "outputs": [
    {
     "name": "stdout",
     "output_type": "stream",
     "text": [
      "True\n",
      "False\n"
     ]
    }
   ],
   "source": [
    "# Membership Operator\n",
    "\n",
    "a = [1,2,3,4,5,6,7]\n",
    "print(1 in a)     # in operator\n",
    "print(8 in a)"
   ]
  },
  {
   "cell_type": "code",
   "execution_count": 50,
   "metadata": {},
   "outputs": [
    {
     "name": "stdout",
     "output_type": "stream",
     "text": [
      "False\n",
      "True\n"
     ]
    }
   ],
   "source": [
    "a = [1,2,3,4,5,6,7]\n",
    "print(1 not in a)     # not in operator\n",
    "print(8 not in a)"
   ]
  },
  {
   "cell_type": "code",
   "execution_count": 1,
   "metadata": {},
   "outputs": [
    {
     "name": "stdout",
     "output_type": "stream",
     "text": [
      "1\n",
      "7\n",
      "6\n",
      "-4\n",
      "96\n",
      "0\n"
     ]
    }
   ],
   "source": [
    "# Bitwise Operator act on bits and performs bit by bit operation.\n",
    "\n",
    "a = 3         # 0011\n",
    "b = 5         # 0101\n",
    "#---------------------------\n",
    "print(a & b)  # 0001\n",
    "#---------------------------\n",
    "print(a | b)  # 0111\n",
    "#---------------------------\n",
    "print(a ^ b)  # 0110\n",
    "#---------------------------\n",
    "print( ~a )   \n",
    "#---------------------------\n",
    "print(a << b) # left sift operator\n",
    "#---------------------------\n",
    "print(a >> b) # right sift operator"
   ]
  },
  {
   "cell_type": "code",
   "execution_count": 3,
   "metadata": {},
   "outputs": [
    {
     "name": "stdout",
     "output_type": "stream",
     "text": [
      "Bitwise AND operation- 1\n",
      "Bitwise OR operation- 7\n",
      "Bitwise XOR operation- 6\n",
      "Bitwise NOT operation- -6\n",
      "Bitwise NOT operation- -4\n",
      "Bitwise Right shift operation- 0\n",
      "Bitwise Left shift operation- 96\n"
     ]
    }
   ],
   "source": [
    "a = 3\n",
    "b = 5\n",
    "\n",
    "print('Bitwise AND operation- {}'.format(a&b))\n",
    "print('Bitwise OR operation- {}'.format(a|b))\n",
    "print('Bitwise XOR operation- {}'.format(a^b))\n",
    "print('Bitwise NOT operation- {}'.format(~b))\n",
    "print('Bitwise NOT operation- {}'.format(~a))\n",
    "print('Bitwise Right shift operation- {}'.format(a>>b))\n",
    "print('Bitwise Left shift operation- {}'.format(a<<b))"
   ]
  },
  {
   "cell_type": "markdown",
   "metadata": {},
   "source": [
    "### eval( ) Function\n",
    "- This is an inbuilt function available in Python. which takes the string as an input.\n",
    "- The string which we pass to it should, generally by Expression.\n",
    "- THe eval() takes the Expression in the form of string and evaluates it and returns the result."
   ]
  },
  {
   "cell_type": "code",
   "execution_count": 8,
   "metadata": {},
   "outputs": [
    {
     "data": {
      "text/plain": [
       "4"
      ]
     },
     "execution_count": 8,
     "metadata": {},
     "output_type": "execute_result"
    }
   ],
   "source": [
    "eval('1+3')"
   ]
  },
  {
   "cell_type": "code",
   "execution_count": 10,
   "metadata": {},
   "outputs": [
    {
     "data": {
      "text/plain": [
       "34"
      ]
     },
     "execution_count": 10,
     "metadata": {},
     "output_type": "execute_result"
    }
   ],
   "source": [
    "eval('10+24')"
   ]
  },
  {
   "cell_type": "code",
   "execution_count": 11,
   "metadata": {},
   "outputs": [
    {
     "data": {
      "text/plain": [
       "-1"
      ]
     },
     "execution_count": 11,
     "metadata": {},
     "output_type": "execute_result"
    }
   ],
   "source": [
    "eval('4-5')"
   ]
  },
  {
   "cell_type": "code",
   "execution_count": 12,
   "metadata": {},
   "outputs": [
    {
     "data": {
      "text/plain": [
       "3572.0"
      ]
     },
     "execution_count": 12,
     "metadata": {},
     "output_type": "execute_result"
    }
   ],
   "source": [
    "eval (input('Enter Expression : '))"
   ]
  },
  {
   "cell_type": "markdown",
   "metadata": {},
   "source": [
    "### eval() - Unary Minus Operator."
   ]
  },
  {
   "cell_type": "code",
   "execution_count": 13,
   "metadata": {},
   "outputs": [
    {
     "data": {
      "text/plain": [
       "-5"
      ]
     },
     "execution_count": 13,
     "metadata": {},
     "output_type": "execute_result"
    }
   ],
   "source": [
    "a = 5\n",
    "eval ('-a')"
   ]
  },
  {
   "cell_type": "markdown",
   "metadata": {},
   "source": [
    "### eval() - Relational Operator."
   ]
  },
  {
   "cell_type": "code",
   "execution_count": 17,
   "metadata": {},
   "outputs": [
    {
     "data": {
      "text/plain": [
       "False"
      ]
     },
     "execution_count": 17,
     "metadata": {},
     "output_type": "execute_result"
    }
   ],
   "source": [
    "eval('1>2')"
   ]
  },
  {
   "cell_type": "code",
   "execution_count": 18,
   "metadata": {},
   "outputs": [
    {
     "data": {
      "text/plain": [
       "True"
      ]
     },
     "execution_count": 18,
     "metadata": {},
     "output_type": "execute_result"
    }
   ],
   "source": [
    "eval('3<4')"
   ]
  },
  {
   "cell_type": "markdown",
   "metadata": {},
   "source": [
    "### eval() - Membership Operator."
   ]
  },
  {
   "cell_type": "code",
   "execution_count": 20,
   "metadata": {},
   "outputs": [
    {
     "data": {
      "text/plain": [
       "True"
      ]
     },
     "execution_count": 20,
     "metadata": {},
     "output_type": "execute_result"
    }
   ],
   "source": [
    "a = 'Rammani'\n",
    "eval('\"mma\"in a')"
   ]
  },
  {
   "cell_type": "markdown",
   "metadata": {},
   "source": [
    "### eval() - Math()."
   ]
  },
  {
   "cell_type": "code",
   "execution_count": 21,
   "metadata": {},
   "outputs": [
    {
     "name": "stdout",
     "output_type": "stream",
     "text": [
      "0.0\n"
     ]
    }
   ],
   "source": [
    "from math import *\n",
    "print(eval('log (1)'))"
   ]
  },
  {
   "cell_type": "code",
   "execution_count": 28,
   "metadata": {},
   "outputs": [
    {
     "name": "stdout",
     "output_type": "stream",
     "text": [
      "1.0986122886681098\n",
      "1.3862943611198906\n",
      "1.6094379124341003\n",
      "1.791759469228055\n",
      "1.9459101490553132\n",
      "2.0794415416798357\n",
      "2.1972245773362196\n",
      "2.302585092994046\n"
     ]
    }
   ],
   "source": [
    "print(eval('log(3)'))\n",
    "print(eval('log(4)'))\n",
    "print(eval('log(5)'))\n",
    "print(eval('log(6)'))\n",
    "print(eval('log(7)'))\n",
    "print(eval('log(8)'))\n",
    "print(eval('log(9)'))\n",
    "print(eval('log(10)'))"
   ]
  },
  {
   "cell_type": "markdown",
   "metadata": {},
   "source": [
    "### Trignomatric function"
   ]
  },
  {
   "cell_type": "code",
   "execution_count": 35,
   "metadata": {},
   "outputs": [
    {
     "name": "stdout",
     "output_type": "stream",
     "text": [
      "0.0\n",
      "-0.9880316240928618\n",
      "0.8509035245341184\n",
      "-0.3048106211022167\n",
      "0.8939966636005579\n"
     ]
    }
   ],
   "source": [
    "print(eval('sin(0)'))\n",
    "print(eval('sin(30)'))\n",
    "print(eval('sin(45)'))\n",
    "print(eval('sin(60)'))\n",
    "print(eval('sin(90)'))"
   ]
  },
  {
   "cell_type": "code",
   "execution_count": 34,
   "metadata": {},
   "outputs": [
    {
     "name": "stdout",
     "output_type": "stream",
     "text": [
      "1.0\n",
      "0.5253219888177297\n",
      "-0.9524129804151563\n",
      "-0.4480736161291701\n"
     ]
    }
   ],
   "source": [
    "print(eval('cos(0)'))\n",
    "print(eval('cos(30)'))\n",
    "print(eval('cos(45)'))\n",
    "print(eval('cos(60)'))\n",
    "print(eval('cos(90)'))"
   ]
  },
  {
   "cell_type": "code",
   "execution_count": 36,
   "metadata": {},
   "outputs": [
    {
     "name": "stdout",
     "output_type": "stream",
     "text": [
      "0.0\n",
      "-6.405331196646276\n",
      "1.6197751905438615\n",
      "0.320040389379563\n",
      "-1.995200412208242\n"
     ]
    }
   ],
   "source": [
    "print(eval('tan(0)'))\n",
    "print(eval('tan(30)'))\n",
    "print(eval('tan(45)'))\n",
    "print(eval('tan(60)'))\n",
    "print(eval('tan(90)'))"
   ]
  }
 ],
 "metadata": {
  "kernelspec": {
   "display_name": "Python 3",
   "language": "python",
   "name": "python3"
  },
  "language_info": {
   "codemirror_mode": {
    "name": "ipython",
    "version": 3
   },
   "file_extension": ".py",
   "mimetype": "text/x-python",
   "name": "python",
   "nbconvert_exporter": "python",
   "pygments_lexer": "ipython3",
   "version": "3.11.3"
  }
 },
 "nbformat": 4,
 "nbformat_minor": 2
}
